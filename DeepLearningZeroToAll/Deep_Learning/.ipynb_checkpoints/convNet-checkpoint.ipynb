{
 "cells": [
  {
   "cell_type": "markdown",
   "metadata": {},
   "source": [
    "# conv Net\n",
    "### 네트워크 구성\n",
    "\n",
    "1. Fully Conted Network\n",
    "\n",
    "    ```\n",
    "    x -> @ -> @ -> @ - FC\n",
    "\n",
    "    ```\n",
    "2. convotional Neural Network\n",
    "\n",
    "    ```\n",
    "    x1\n",
    "    x2  - Y  = Conv N\n",
    "    x3 \n",
    "    ```\n",
    "    * 각각의 입력으로 넘기게 되는 데 이 층을 conv layer라고 한다. \n",
    "    * conv, ReLU, Pool을 여러번하고 FC로 마지막 lable을 붙일 수 있다. "
   ]
  },
  {
   "cell_type": "markdown",
   "metadata": {},
   "source": [
    "### conv Net 순서\n",
    "1. filter size를 정한다. (큰 사진에서 작은 부분을 걸러낸다.) <br>\n",
    "filter는 한 값을 만들어낸다.  \n",
    "<br>\n",
    "각각의 fileter는 weight가 다르다.\n",
    "2. strid 크기를 정한다. (이동크기) <br>\n",
    "Output Size <br>\n",
    "(N-F) / stride + 1 \n",
    "3. padding을 추가해준다.\n",
    "7*7 -> 9*9\n",
    "4. image를 7*7로 넣어서 padd를 추가하면 같은 사이즈의 image가 나온다. <br>\n",
    "입력의 이미지와 출력의 이미지가 같도록 한다."
   ]
  },
  {
   "cell_type": "markdown",
   "metadata": {},
   "source": [
    "#### Pooling layer란?\n",
    "sampling!! <br>\n",
    "resize!!!! \n",
    "<br><br>\n",
    "* size, filter , stride, pooling으로 output의 크기를 결정할 수 있고, output값을 뽑을 수 있다. \n",
    "<br><br>\n",
    "예 ) Max pool with 2*2 filters and stride 2\n",
    "    1. 원래 4 * 4\n",
    "    2. fileter 2*2\n",
    "    3. stride 2 <br>\n",
    "       따라서, filter는 총 4개가 나온다. \n",
    "    4. 한 filter에서 여러 pooling 방법을 사용해, 값을 선택한다. \n",
    "    \n",
    "#### Max Pooling\n",
    "filter: 1, 1, 5, 6  `->(pooling)` 6\n"
   ]
  },
  {
   "cell_type": "code",
   "execution_count": null,
   "metadata": {
    "collapsed": true
   },
   "outputs": [],
   "source": []
  }
 ],
 "metadata": {
  "kernelspec": {
   "display_name": "Python 3",
   "language": "python",
   "name": "python3"
  },
  "language_info": {
   "codemirror_mode": {
    "name": "ipython",
    "version": 3
   },
   "file_extension": ".py",
   "mimetype": "text/x-python",
   "name": "python",
   "nbconvert_exporter": "python",
   "pygments_lexer": "ipython3",
   "version": "3.6.1"
  }
 },
 "nbformat": 4,
 "nbformat_minor": 2
}
