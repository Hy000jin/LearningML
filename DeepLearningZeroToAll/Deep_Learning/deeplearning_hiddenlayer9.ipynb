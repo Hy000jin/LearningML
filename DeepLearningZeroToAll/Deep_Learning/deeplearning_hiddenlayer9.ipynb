{
 "cells": [
  {
   "cell_type": "markdown",
   "metadata": {},
   "source": [
    " Sigmoid gate를 통과하기 때문에 단점은 1보다 작고 **<1** <br>\n",
    " 최종미분값은 매우 작아진다.\n",
    " <br>\n",
    " Vanishing gradient (NN winter2: 1986-2006)\n",
    " <br>\n",
    " SIGMOID가 문제를 불러일으켰다. \n",
    " ## ReLu \n",
    " Sigmoid같은 activate funtion\n",
    " \n",
    " #### ReLU: Recified Linear Unit\n",
    " ```\n",
    " L1 = tf.sigmoid(tf.matmul(X, W1) + b1)\n",
    " \n",
    " L1 = tf.nn.relu(tf.matmul(X, W1) + b1)\n",
    " ```\n",
    " \n",
    " 마지막 단의 출력은 0 ~1 사이여야 하기 때문에 sigmoid activate function을 사용해준다. \n",
    " \n",
    " #### Activation Function\n",
    " ReLU변형 <br>\n",
    " Leaky ReLU <br>\n",
    " ELU<br>\n",
    " maxout<br>\n",
    " VLReLU<br>\n",
    " \n",
    " <br>\n",
    " sigmoid변형<br>\n",
    " tanh <br>"
   ]
  },
  {
   "cell_type": "code",
   "execution_count": null,
   "metadata": {
    "collapsed": true
   },
   "outputs": [],
   "source": []
  }
 ],
 "metadata": {
  "kernelspec": {
   "display_name": "Python 3",
   "language": "python",
   "name": "python3"
  },
  "language_info": {
   "codemirror_mode": {
    "name": "ipython",
    "version": 3
   },
   "file_extension": ".py",
   "mimetype": "text/x-python",
   "name": "python",
   "nbconvert_exporter": "python",
   "pygments_lexer": "ipython3",
   "version": "3.6.1"
  }
 },
 "nbformat": 4,
 "nbformat_minor": 2
}
