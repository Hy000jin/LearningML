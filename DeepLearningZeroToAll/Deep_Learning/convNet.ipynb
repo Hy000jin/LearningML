{
 "cells": [
  {
   "cell_type": "markdown",
   "metadata": {},
   "source": [
    "# conv Net\n",
    "### 네트워크 구성\n",
    "\n",
    "1. Fully Conted Network\n",
    "\n",
    "    ```\n",
    "    x -> @ -> @ -> @ - FC\n",
    "\n",
    "    ```\n",
    "2. convotional Neural Network\n",
    "\n",
    "    ```\n",
    "    x1\n",
    "    x2  - Y  = Conv N\n",
    "    x3 \n",
    "    ```\n",
    "    * 각각의 입력으로 넘기게 되는 데 이 층을 conv layer라고 한다. \n",
    "    * conv, ReLU, Pool을 여러번하고 FC로 마지막 lable을 붙일 수 있다. "
   ]
  },
  {
   "cell_type": "markdown",
   "metadata": {},
   "source": [
    "### conv Net 순서\n",
    "1. filter size를 정한다. (큰 사진에서 작은 부분을 걸러낸다.) <br>\n",
    "filter는 한 값을 만들어낸다.  \n",
    "<br>\n",
    "각각의 fileter는 weight가 다르다.\n",
    "2. strid 크기를 정한다. (이동크기) <br>\n",
    "Output Size <br>\n",
    "(N-F) / stride + 1 \n",
    "3. padding을 추가해준다.\n",
    "7*7 -> 9*9\n",
    "4. image를 7*7로 넣어서 padd를 추가하면 같은 사이즈의 image가 나온다. <br>\n",
    "입력의 이미지와 출력의 이미지가 같도록 한다."
   ]
  },
  {
   "cell_type": "markdown",
   "metadata": {},
   "source": [
    "#### Pooling layer란?\n",
    "sampling!! <br>\n",
    "resize!!!! \n",
    "<br><br>\n",
    "* size, filter , stride, pooling으로 output의 크기를 결정할 수 있고, output값을 뽑을 수 있다. \n",
    "<br><br>\n",
    "예 ) Max pool with 2*2 filters and stride 2\n",
    "    1. 원래 4 * 4\n",
    "    2. fileter 2*2\n",
    "    3. stride 2 <br>\n",
    "       따라서, filter는 총 4개가 나온다. \n",
    "    4. 한 filter에서 여러 pooling 방법을 사용해, 값을 선택한다. \n",
    "    \n",
    "#### Max Pooling\n",
    "filter: 1, 1, 5, 6  `->(pooling)` 6\n"
   ]
  },
  {
   "cell_type": "markdown",
   "metadata": {},
   "source": [
    "## Case Study\n",
    "#### AlexNet\n",
    "ImageNet 경진대회에서 1등을 함. \n",
    "#### GoogLeNet\n",
    "Inception module\n",
    "#### ResNet\n",
    "alexnet 경우 layer가 8 <br>\n",
    "ResNet, 152 Layer <br>\n",
    "학습하기 어려웠을텐데.. layer갯수는 크지만? 실제로는 학습 수는 적을수도? <br>\n",
    "Residual net\n",
    "#### Conolution Network로 이미지 뿐만 아니라 text도 처리할 수 있다. \n",
    "Convolution neural Networks for sentence classification\n",
    "#### AlphaGo"
   ]
  },
  {
   "cell_type": "markdown",
   "metadata": {},
   "source": [
    "NetWork를 자기마음대로 연결시켜, 조금 더 정확한 Output을 만들었다. "
   ]
  },
  {
   "cell_type": "markdown",
   "metadata": {},
   "source": [
    "#### CNN for CT images "
   ]
  },
  {
   "cell_type": "markdown",
   "metadata": {},
   "source": [
    "# CNN\n",
    "Neural Network에서 가장 많이 쓰이는 <br>\n",
    "<br><br>\n",
    "1. 입력된 이미지, 입력된 vector를 convolution이라는 방법을 통해서 여러가지 convolution layer로 값을 뽑아낸다. \n",
    "2. sub sampling\n",
    "3. feature extraction 이미지, vector에서 특징을 뽑아낸다. \n",
    "4. fully conectied를 통해 , classification을 하던지, regression을 할 수 있다."
   ]
  },
  {
   "cell_type": "markdown",
   "metadata": {},
   "source": [
    "주어진 image에 filter를 적용, filter에 대해 한개의 값을 뽑아낸다. \n",
    "<br>\n",
    "subsampling"
   ]
  },
  {
   "cell_type": "markdown",
   "metadata": {},
   "source": [
    "## Simple Convoltion Layer"
   ]
  },
  {
   "cell_type": "code",
   "execution_count": 9,
   "metadata": {},
   "outputs": [],
   "source": [
    "%matplotlib inline\n",
    "import tensorflow as tf\n",
    "import numpy as np\n",
    "import matplotlib.pyplot as plt"
   ]
  },
  {
   "cell_type": "code",
   "execution_count": 5,
   "metadata": {
    "collapsed": true
   },
   "outputs": [],
   "source": [
    "sess = tf.InteractiveSession()"
   ]
  },
  {
   "cell_type": "code",
   "execution_count": 6,
   "metadata": {
    "collapsed": true
   },
   "outputs": [],
   "source": [
    "image = np.array([[[[1],[2],[3]],\n",
    "                   [[4],[5],[6]], \n",
    "                   [[7],[8],[9]]]], dtype=np.float32)"
   ]
  },
  {
   "cell_type": "code",
   "execution_count": 8,
   "metadata": {},
   "outputs": [
    {
     "data": {
      "text/plain": [
       "(1, 3, 3, 1)"
      ]
     },
     "execution_count": 8,
     "metadata": {},
     "output_type": "execute_result"
    }
   ],
   "source": [
    "image.shape\n",
    "# 1은 하나의 image만 사용하겠다. "
   ]
  },
  {
   "cell_type": "code",
   "execution_count": 10,
   "metadata": {},
   "outputs": [
    {
     "data": {
      "text/plain": [
       "<matplotlib.image.AxesImage at 0x1ca38565e10>"
      ]
     },
     "execution_count": 10,
     "metadata": {},
     "output_type": "execute_result"
    },
    {
     "data": {
      "image/png": "[encoded data removed]",
      "text/plain": [
       "<matplotlib.figure.Figure at 0x1ca364b0c18>"
      ]
     },
     "metadata": {},
     "output_type": "display_data"
    }
   ],
   "source": [
    "plt.imshow(image.reshape(3, 3), cmap='Greys')"
   ]
  },
  {
   "cell_type": "code",
   "execution_count": 12,
   "metadata": {
    "collapsed": true
   },
   "outputs": [],
   "source": [
    "# filter의 크기를 정의\n",
    "# filter : 2, 2, 1, 1\n",
    "# 2, 2, (1), 1\n",
    "# 1: color\n",
    "# 2, 2, 1, (1)\n",
    "# 1: filters\n",
    "\n",
    "# weight는 1, 1, 1, 1\n",
    "# 1*1 + 1*2 + 4*1 + 5*1 = 12"
   ]
  },
  {
   "cell_type": "markdown",
   "metadata": {},
   "source": [
    "### Image: 1, 3, 3, 1 image, \n",
    "### Filter: 2, 2, 1, 1 \n",
    "### stride: 1* 1, \n",
    "### Padding: VALID"
   ]
  },
  {
   "cell_type": "code",
   "execution_count": 13,
   "metadata": {},
   "outputs": [
    {
     "name": "stdout",
     "output_type": "stream",
     "text": [
      "(1, 3, 3, 1)\n"
     ]
    }
   ],
   "source": [
    "print(image.shape)"
   ]
  },
  {
   "cell_type": "code",
   "execution_count": 19,
   "metadata": {},
   "outputs": [
    {
     "name": "stdout",
     "output_type": "stream",
     "text": [
      "(2, 2, 1, 1)\n"
     ]
    }
   ],
   "source": [
    "# weight = tf.constant([[[[1.], [1.]],\n",
    "#                       [[1.], [1.]]]])\n",
    "# print(weight.shape)\n",
    "# (1, 2, 2, 1)\n",
    "\n",
    "weight = tf.constant([[[[1.]],[[1.]]],\n",
    "                      [[[1.]],[[1.]]]])\n",
    "print(weight.shape)"
   ]
  },
  {
   "cell_type": "code",
   "execution_count": 23,
   "metadata": {
    "scrolled": true
   },
   "outputs": [],
   "source": [
    "conv2d = tf.nn.conv2d(image, weight, strides = [1, 1, 1, 1], padding='VALID')\n",
    "# 실행값 저장\n",
    "conv2d_img = conv2d.eval()"
   ]
  },
  {
   "cell_type": "code",
   "execution_count": 26,
   "metadata": {},
   "outputs": [
    {
     "name": "stdout",
     "output_type": "stream",
     "text": [
      "(1, 2, 2, 1)\n",
      "(1, 2, 2, 1)\n"
     ]
    }
   ],
   "source": [
    "print(conv2d.shape)\n",
    "print(conv2d_img.shape)"
   ]
  },
  {
   "cell_type": "code",
   "execution_count": 29,
   "metadata": {},
   "outputs": [
    {
     "name": "stdout",
     "output_type": "stream",
     "text": [
      "[[[[12.]\n",
      "   [16.]]\n",
      "\n",
      "  [[24.]\n",
      "   [28.]]]]\n",
      "(1, 2, 2, 1)\n",
      "Tensor(\"Conv2D_3:0\", shape=(1, 2, 2, 1), dtype=float32)\n"
     ]
    }
   ],
   "source": [
    "conv2d_img = np.swapaxes(conv2d_img, 0, 3)\n",
    "print(conv2d_img)\n",
    "print(conv2d_img.shape)\n",
    "print(conv2d)"
   ]
  },
  {
   "cell_type": "code",
   "execution_count": 33,
   "metadata": {},
   "outputs": [
    {
     "name": "stdout",
     "output_type": "stream",
     "text": [
      "[[12. 16.]\n",
      " [24. 28.]]\n"
     ]
    },
    {
     "data": {
      "image/png": "[encoded data removed]",
      "text/plain": [
       "<matplotlib.figure.Figure at 0x1ca398c44a8>"
      ]
     },
     "metadata": {},
     "output_type": "display_data"
    }
   ],
   "source": [
    "for i, one_img in enumerate(conv2d_img):\n",
    "    # convolution값 출력\n",
    "    print(one_img.reshape(2,2))\n",
    "    plt.subplot(1,2,i+1), plt.imshow(one_img.reshape(2,2), cmap='gray')"
   ]
  },
  {
   "cell_type": "markdown",
   "metadata": {},
   "source": [
    "#### Padding option\n",
    "* SAME: 1, 3, 3, 1 -> 3*3으로 뽑아준다. <br>\n",
    "입력의 size와 출력의 사이즈가 같아진다. \n",
    "\n"
   ]
  },
  {
   "cell_type": "code",
   "execution_count": 41,
   "metadata": {},
   "outputs": [
    {
     "name": "stdout",
     "output_type": "stream",
     "text": [
      "image (1, 3, 3, 1)\n",
      "weight (2, 2, 1, 1)\n",
      "conv2d_img (1, 3, 3, 1)\n",
      "conv2d_img before swapaxes\n",
      " [[[[12.]\n",
      "   [16.]\n",
      "   [ 9.]]\n",
      "\n",
      "  [[24.]\n",
      "   [28.]\n",
      "   [15.]]\n",
      "\n",
      "  [[15.]\n",
      "   [17.]\n",
      "   [ 9.]]]]\n",
      "conv2d_img after swapaxes\n",
      " [[[[12.]\n",
      "   [16.]\n",
      "   [ 9.]]\n",
      "\n",
      "  [[24.]\n",
      "   [28.]\n",
      "   [15.]]\n",
      "\n",
      "  [[15.]\n",
      "   [17.]\n",
      "   [ 9.]]]]\n",
      "[[12. 16.  9.]\n",
      " [24. 28. 15.]\n",
      " [15. 17.  9.]]\n"
     ]
    },
    {
     "data": {
      "image/png": "[encoded data removed]",
      "text/plain": [
       "<matplotlib.figure.Figure at 0x1ca39a176a0>"
      ]
     },
     "metadata": {},
     "output_type": "display_data"
    }
   ],
   "source": [
    "print(\"image\", image.shape)\n",
    "weight = tf.constant([[[[1.]],[[1.]]],\n",
    "                     [[[1.]], [[1.]]]])\n",
    "print(\"weight\", weight.shape)\n",
    "\n",
    "# convolution\n",
    "conv2d = tf.nn.conv2d(image, weight, strides=[1, 1, 1, 1], padding='SAME')\n",
    "conv2d_img = conv2d.eval()\n",
    "print(\"conv2d_img\", conv2d.shape)\n",
    "print(\"conv2d_img before swapaxes\\n\", conv2d_img)\n",
    "\n",
    "# swampaxes?\n",
    "conv2d_img = np.swapaxes(conv2d_img, 0, 3)\n",
    "print(\"conv2d_img after swapaxes\\n\", conv2d_img)\n",
    "\n",
    "# conv 값 img\n",
    "# for i, oen_img in enumerate(conv2d_img):\n",
    "#     print(one_img.reshape(3, 3))\n",
    "#     plt.subplot(1, 2, i+1), plt.imshow(one_img.reshape(3, 3), cmap='gray')\n",
    "    \n",
    "for i, one_img in enumerate(conv2d_img):\n",
    "    print(one_img.reshape(3,3))\n",
    "    plt.subplot(1,2,i+1), plt.imshow(one_img.reshape(3,3), cmap='gray')"
   ]
  },
  {
   "cell_type": "markdown",
   "metadata": {},
   "source": [
    "### filter를 여러개 사용할 수 있다. \n",
    "weight (2, 2, 1, 1) -> filter 1나\n",
    "```\n",
    "weight.shape\n",
    "(2, 2, 1, 3)\n",
    "```\n",
    "filter3개"
   ]
  },
  {
   "cell_type": "code",
   "execution_count": 43,
   "metadata": {
    "scrolled": true
   },
   "outputs": [
    {
     "name": "stdout",
     "output_type": "stream",
     "text": [
      "image (1, 3, 3, 1)\n",
      "weight (2, 2, 1, 3)\n",
      "conv2d_img (1, 3, 3, 3)\n",
      "conv2d_img before swapaxes\n",
      " [[[[ 12. 120. -12.]\n",
      "   [ 16. 160. -16.]\n",
      "   [  9.  90.  -9.]]\n",
      "\n",
      "  [[ 24. 240. -24.]\n",
      "   [ 28. 280. -28.]\n",
      "   [ 15. 150. -15.]]\n",
      "\n",
      "  [[ 15. 150. -15.]\n",
      "   [ 17. 170. -17.]\n",
      "   [  9.  90.  -9.]]]]\n",
      "conv2d_img after swapaxes\n",
      " [[[[ 12.]\n",
      "   [ 16.]\n",
      "   [  9.]]\n",
      "\n",
      "  [[ 24.]\n",
      "   [ 28.]\n",
      "   [ 15.]]\n",
      "\n",
      "  [[ 15.]\n",
      "   [ 17.]\n",
      "   [  9.]]]\n",
      "\n",
      "\n",
      " [[[120.]\n",
      "   [160.]\n",
      "   [ 90.]]\n",
      "\n",
      "  [[240.]\n",
      "   [280.]\n",
      "   [150.]]\n",
      "\n",
      "  [[150.]\n",
      "   [170.]\n",
      "   [ 90.]]]\n",
      "\n",
      "\n",
      " [[[-12.]\n",
      "   [-16.]\n",
      "   [ -9.]]\n",
      "\n",
      "  [[-24.]\n",
      "   [-28.]\n",
      "   [-15.]]\n",
      "\n",
      "  [[-15.]\n",
      "   [-17.]\n",
      "   [ -9.]]]]\n",
      "[[12. 16.  9.]\n",
      " [24. 28. 15.]\n",
      " [15. 17.  9.]]\n",
      "[[120. 160.  90.]\n",
      " [240. 280. 150.]\n",
      " [150. 170.  90.]]\n",
      "[[-12. -16.  -9.]\n",
      " [-24. -28. -15.]\n",
      " [-15. -17.  -9.]]\n"
     ]
    },
    {
     "data": {
      "image/png": "[encoded data removed]",
      "text/plain": [
       "<matplotlib.figure.Figure at 0x1ca398cb978>"
      ]
     },
     "metadata": {},
     "output_type": "display_data"
    }
   ],
   "source": [
    "print(\"image\", image.shape)\n",
    "# weight의 변화\n",
    "weight = tf.constant([[[[1., 10., -1.]],[[1., 10., -1.]]],\n",
    "                     [[[1., 10., -1.]], [[1., 10., -1.]]]])\n",
    "print(\"weight\", weight.shape)\n",
    "\n",
    "# convolution\n",
    "conv2d = tf.nn.conv2d(image, weight, strides=[1, 1, 1, 1], padding='SAME')\n",
    "conv2d_img = conv2d.eval()\n",
    "print(\"conv2d_img\", conv2d.shape)\n",
    "print(\"conv2d_img before swapaxes\\n\", conv2d_img)\n",
    "\n",
    "# swampaxes?\n",
    "conv2d_img = np.swapaxes(conv2d_img, 0, 3)\n",
    "print(\"conv2d_img after swapaxes\\n\", conv2d_img)\n",
    "\n",
    "for i, one_img in enumerate(conv2d_img):\n",
    "    print(one_img.reshape(3,3))\n",
    "    # 3으로 바꿔줘야함. \n",
    "    plt.subplot(1,3,i+1), plt.imshow(one_img.reshape(3,3), cmap='gray')"
   ]
  },
  {
   "cell_type": "markdown",
   "metadata": {},
   "source": [
    "## Max Pooling"
   ]
  },
  {
   "cell_type": "code",
   "execution_count": 44,
   "metadata": {},
   "outputs": [
    {
     "name": "stdout",
     "output_type": "stream",
     "text": [
      "(1, 2, 2, 1)\n"
     ]
    }
   ],
   "source": [
    "image = np.array([[[[4], [3]], \n",
    "                  [[2], [1]]]], dtype=np.float32)\n",
    "print(image.shape)"
   ]
  },
  {
   "cell_type": "code",
   "execution_count": 45,
   "metadata": {},
   "outputs": [
    {
     "name": "stdout",
     "output_type": "stream",
     "text": [
      "(1, 2, 2, 1)\n",
      "[[[[4.]\n",
      "   [3.]]\n",
      "\n",
      "  [[2.]\n",
      "   [1.]]]]\n"
     ]
    }
   ],
   "source": [
    "pool = tf.nn.max_pool(image, ksize=[1, 2, 2, 1],\n",
    "                     strides=[1, 1, 1, 1], padding='SAME')\n",
    "print(pool.shape)\n",
    "print(pool.eval())"
   ]
  },
  {
   "cell_type": "markdown",
   "metadata": {},
   "source": [
    "## Using Mnist Dataset\n",
    "학습과 추정을 위한 MNIST 데이터셋을 다운로드 <br>\n",
    "[Mnist dataset 설명](https://tensorflowkorea.gitbooks.io/tensorflow-kr/content/g3doc/tutorials/mnist/download/)"
   ]
  },
  {
   "cell_type": "code",
   "execution_count": 48,
   "metadata": {},
   "outputs": [
    {
     "name": "stdout",
     "output_type": "stream",
     "text": [
      "Successfully downloaded train-images-idx3-ubyte.gz 9912422 bytes.\n",
      "Extracting ../../../../../DATA/MNIST_data/train-images-idx3-ubyte.gz\n",
      "Successfully downloaded train-labels-idx1-ubyte.gz 28881 bytes.\n",
      "Extracting ../../../../../DATA/MNIST_data/train-labels-idx1-ubyte.gz\n",
      "Successfully downloaded t10k-images-idx3-ubyte.gz 1648877 bytes.\n",
      "Extracting ../../../../../DATA/MNIST_data/t10k-images-idx3-ubyte.gz\n",
      "Successfully downloaded t10k-labels-idx1-ubyte.gz 4542 bytes.\n",
      "Extracting ../../../../../DATA/MNIST_data/t10k-labels-idx1-ubyte.gz\n"
     ]
    }
   ],
   "source": [
    "\n",
    "from tensorflow.examples.tutorials.mnist import input_data\n",
    "mnist = input_data.read_data_sets(\"../../../../../DATA/MNIST_data/\", one_hot=True)"
   ]
  },
  {
   "cell_type": "code",
   "execution_count": 55,
   "metadata": {},
   "outputs": [
    {
     "name": "stdout",
     "output_type": "stream",
     "text": [
      "<class 'tensorflow.contrib.learn.python.learn.datasets.base.Datasets'>\n"
     ]
    }
   ],
   "source": [
    "print(type(mnist))"
   ]
  },
  {
   "cell_type": "code",
   "execution_count": 57,
   "metadata": {
    "scrolled": true
   },
   "outputs": [
    {
     "data": {
      "text/plain": [
       "<matplotlib.image.AxesImage at 0x1ca3a61eeb8>"
      ]
     },
     "execution_count": 57,
     "metadata": {},
     "output_type": "execute_result"
    },
    {
     "data": {
      "image/png": "[encoded data removed]",
      "text/plain": [
       "<matplotlib.figure.Figure at 0x1ca3a55c518>"
      ]
     },
     "metadata": {},
     "output_type": "display_data"
    }
   ],
   "source": [
    "img = mnist.train.images[0].reshape(28, 28)\n",
    "plt.imshow(img, cmap='gray')"
   ]
  },
  {
   "cell_type": "code",
   "execution_count": 56,
   "metadata": {},
   "outputs": [
    {
     "data": {
      "text/plain": [
       "<matplotlib.image.AxesImage at 0x1ca3a5955c0>"
      ]
     },
     "execution_count": 56,
     "metadata": {},
     "output_type": "execute_result"
    },
    {
     "data": {
      "image/png": "[encoded data removed]",
      "text/plain": [
       "<matplotlib.figure.Figure at 0x1ca3a4c8080>"
      ]
     },
     "metadata": {},
     "output_type": "display_data"
    }
   ],
   "source": [
    "img = mnist.train.images[1].reshape(28, 28)\n",
    "plt.imshow(img, cmap='gray')"
   ]
  },
  {
   "cell_type": "markdown",
   "metadata": {},
   "source": [
    "## MNIST Convolution layer"
   ]
  },
  {
   "cell_type": "code",
   "execution_count": 66,
   "metadata": {},
   "outputs": [
    {
     "name": "stdout",
     "output_type": "stream",
     "text": [
      "Tensor(\"Conv2D_13:0\", shape=(1, 14, 14, 5), dtype=float32)\n"
     ]
    },
    {
     "data": {
      "image/png": "[encoded data removed]",
      "text/plain": [
       "<matplotlib.figure.Figure at 0x1ca398cb438>"
      ]
     },
     "metadata": {},
     "output_type": "display_data"
    }
   ],
   "source": [
    "sess = tf.InteractiveSession()\n",
    "\n",
    "# 여러개의 이미지, 28 * 28, color (28by28 image의 한 색깔의 이미지)\n",
    "img = img.reshape(-1,28,28,1)\n",
    "# 3by3, color, filter5개\n",
    "W1 = tf.Variable(tf.random_normal([3, 3, 1, 5], stddev=0.01))\n",
    "# strides 28*28 -> 14* 14\n",
    "conv2d = tf.nn.conv2d(img, W1, strides = [1, 2, 2, 1], padding = 'SAME')\n",
    "print(conv2d)\n",
    "\n",
    "sess.run(tf.global_variables_initializer())\n",
    "conv2d_img = conv2d.eval()\n",
    "conv2d_img = np.swapaxes(conv2d_img, 0, 3)\n",
    "# 그냥 그림을 출력\n",
    "for i, one_img in enumerate(conv2d_img):\n",
    "    plt.subplot(1, 5, i+1), plt.imshow(one_img.reshape(14, 14), cmap='gray')"
   ]
  },
  {
   "cell_type": "code",
   "execution_count": 69,
   "metadata": {},
   "outputs": [
    {
     "name": "stdout",
     "output_type": "stream",
     "text": [
      "Tensor(\"MaxPool_2:0\", shape=(1, 7, 7, 5), dtype=float32)\n"
     ]
    },
    {
     "data": {
      "image/png": "[encoded data removed]",
      "text/plain": [
       "<matplotlib.figure.Figure at 0x1ca398f9278>"
      ]
     },
     "metadata": {},
     "output_type": "display_data"
    }
   ],
   "source": [
    "# 5개의 fileter를 사용해서 5개의 이미지가 나왔다. \n",
    "pool = tf.nn.max_pool(conv2d, ksize= [1, 2, 2, 1], strides= [\n",
    "    1, 2, 2, 1], padding='SAME')\n",
    "\n",
    "print(pool)\n",
    "sess.run(tf.global_variables_initializer())\n",
    "pool_img = pool.eval()\n",
    "pool_img = np.swapaxes(pool_img, 0, 3)\n",
    "\n",
    "StopIteration: \n",
    "for i, one_img in enumerate(pool_img):\n",
    "    plt.subplot(1, 5, i+1), plt.imshow(one_img.reshape(7, 7), cmap='gray')"
   ]
  },
  {
   "cell_type": "code",
   "execution_count": null,
   "metadata": {
    "collapsed": true
   },
   "outputs": [],
   "source": []
  }
 ],
 "metadata": {
  "kernelspec": {
   "display_name": "Python 3",
   "language": "python",
   "name": "python3"
  },
  "language_info": {
   "codemirror_mode": {
    "name": "ipython",
    "version": 3
   },
   "file_extension": ".py",
   "mimetype": "text/x-python",
   "name": "python",
   "nbconvert_exporter": "python",
   "pygments_lexer": "ipython3",
   "version": "3.6.1"
  }
 },
 "nbformat": 4,
 "nbformat_minor": 2
}
