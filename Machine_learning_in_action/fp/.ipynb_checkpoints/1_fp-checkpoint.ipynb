{
 "cells": [
  {
   "cell_type": "code",
   "execution_count": 1,
   "metadata": {
    "collapsed": true
   },
   "outputs": [],
   "source": [
    "import pandas as pd"
   ]
  },
  {
   "cell_type": "code",
   "execution_count": 137,
   "metadata": {},
   "outputs": [
    {
     "data": {
      "text/html": [
       "<div>\n",
       "<style scoped>\n",
       "    .dataframe tbody tr th:only-of-type {\n",
       "        vertical-align: middle;\n",
       "    }\n",
       "\n",
       "    .dataframe tbody tr th {\n",
       "        vertical-align: top;\n",
       "    }\n",
       "\n",
       "    .dataframe thead th {\n",
       "        text-align: right;\n",
       "    }\n",
       "</style>\n",
       "<table border=\"1\" class=\"dataframe\">\n",
       "  <thead>\n",
       "    <tr style=\"text-align: right;\">\n",
       "      <th></th>\n",
       "      <th>tf</th>\n",
       "    </tr>\n",
       "  </thead>\n",
       "  <tbody>\n",
       "    <tr>\n",
       "      <th>0</th>\n",
       "      <td>1 2 3</td>\n",
       "    </tr>\n",
       "    <tr>\n",
       "      <th>1</th>\n",
       "      <td>1</td>\n",
       "    </tr>\n",
       "    <tr>\n",
       "      <th>2</th>\n",
       "      <td>4 5 6 7</td>\n",
       "    </tr>\n",
       "    <tr>\n",
       "      <th>3</th>\n",
       "      <td>1 8</td>\n",
       "    </tr>\n",
       "    <tr>\n",
       "      <th>4</th>\n",
       "      <td>9 10</td>\n",
       "    </tr>\n",
       "  </tbody>\n",
       "</table>\n",
       "</div>"
      ],
      "text/plain": [
       "        tf\n",
       "0    1 2 3\n",
       "1        1\n",
       "2  4 5 6 7\n",
       "3      1 8\n",
       "4     9 10"
      ]
     },
     "execution_count": 137,
     "metadata": {},
     "output_type": "execute_result"
    }
   ],
   "source": [
    "df = pd.read_csv('../../../../../DATA/ml/machinelearninginaction/Ch12/kosarak.dat', header = None)\n",
    "df.columns = ['tf']\n",
    "df.head()"
   ]
  },
  {
   "cell_type": "markdown",
   "metadata": {},
   "source": [
    "## 단일 트리 노드 생성"
   ]
  },
  {
   "cell_type": "code",
   "execution_count": 3,
   "metadata": {
    "collapsed": true
   },
   "outputs": [],
   "source": [
    "# 단일 트리 노드 생성\n",
    "\n",
    "def __init__(self, nameValue, numOccu, parentNode):\n",
    "    self.name = nameValue\n",
    "    self.count = numOccur\n",
    "    self.nodeLink = None\n",
    "    self.parent = parentNode\n",
    "    self.children = {}\n",
    "def inc(self, numOccur):\n",
    "    self.count += numOccur\n",
    "    \n",
    "def disp(self, ind=1):\n",
    "    print(' ', *ind, self.name, ' ', self.count)\n",
    "    for child in self.chidren.values():\n",
    "        child.disp(ind+1)"
   ]
  },
  {
   "cell_type": "code",
   "execution_count": 1,
   "metadata": {
    "collapsed": true,
    "scrolled": true
   },
   "outputs": [],
   "source": [
    "import sys\n",
    "sys.path.insert(0, '../../../../../DATA/ml/machinelearninginaction/Ch12/')\n",
    "\n",
    "import fpGrowth"
   ]
  },
  {
   "cell_type": "code",
   "execution_count": 5,
   "metadata": {
    "collapsed": true
   },
   "outputs": [],
   "source": [
    "rootNode = fpGrowth.treeNode('pyramid', 9, None)"
   ]
  },
  {
   "cell_type": "code",
   "execution_count": 6,
   "metadata": {},
   "outputs": [
    {
     "data": {
      "text/plain": [
       "<fpGrowth.treeNode at 0x2cb3635c908>"
      ]
     },
     "execution_count": 6,
     "metadata": {},
     "output_type": "execute_result"
    }
   ],
   "source": [
    "rootNode"
   ]
  },
  {
   "cell_type": "code",
   "execution_count": 7,
   "metadata": {
    "collapsed": true
   },
   "outputs": [],
   "source": [
    "rootNode.children['eye'] = fpGrowth.treeNode('eye', 13, None)"
   ]
  },
  {
   "cell_type": "code",
   "execution_count": 8,
   "metadata": {},
   "outputs": [
    {
     "name": "stdout",
     "output_type": "stream",
     "text": [
      "   pyramid   9\n",
      "     eye   13\n"
     ]
    }
   ],
   "source": [
    "rootNode.disp()"
   ]
  },
  {
   "cell_type": "code",
   "execution_count": 9,
   "metadata": {},
   "outputs": [
    {
     "name": "stdout",
     "output_type": "stream",
     "text": [
      "   pyramid   9\n",
      "     eye   13\n",
      "     phoenix   3\n"
     ]
    }
   ],
   "source": [
    "rootNode.children['phoenix'] = fpGrowth.treeNode('phoenix', 3, None)\n",
    "rootNode.disp()"
   ]
  },
  {
   "cell_type": "markdown",
   "metadata": {},
   "source": [
    "# data loading\n",
    "\n",
    "p.324 from Machine Learning in Action"
   ]
  },
  {
   "cell_type": "code",
   "execution_count": 23,
   "metadata": {
    "collapsed": true
   },
   "outputs": [],
   "source": [
    "def loadSimpDat():\n",
    "    simpDat = [['r', 'z', 'h', 'j', 'p'],\n",
    "              ['z', 'y', 'x', 'w', 'v', 'u', 't', 's'],\n",
    "              ['z'],\n",
    "              ['r', 'x', 'n', 'o', 's'],\n",
    "              ['y', 'r', 'x', 'z', 'q', 't', 'p'],\n",
    "              ['y', 'z', 'x', 'e', 'q', 's', 't', 'm']]\n",
    "    return simpDat"
   ]
  },
  {
   "cell_type": "code",
   "execution_count": 24,
   "metadata": {},
   "outputs": [
    {
     "data": {
      "text/plain": [
       "[['r', 'z', 'h', 'j', 'p'],\n",
       " ['z', 'y', 'x', 'w', 'v', 'u', 't', 's'],\n",
       " ['z'],\n",
       " ['r', 'x', 'n', 'o', 's'],\n",
       " ['y', 'r', 'x', 'z', 'q', 't', 'p'],\n",
       " ['y', 'z', 'x', 'e', 'q', 's', 't', 'm']]"
      ]
     },
     "execution_count": 24,
     "metadata": {},
     "output_type": "execute_result"
    }
   ],
   "source": [
    "loadSimpDat()"
   ]
  },
  {
   "cell_type": "code",
   "execution_count": 26,
   "metadata": {},
   "outputs": [],
   "source": [
    "simpDat = loadSimpDat()"
   ]
  },
  {
   "cell_type": "code",
   "execution_count": 29,
   "metadata": {
    "scrolled": true
   },
   "outputs": [
    {
     "data": {
      "text/plain": [
       "[['r', 'z', 'h', 'j', 'p'],\n",
       " ['z', 'y', 'x', 'w', 'v', 'u', 't', 's'],\n",
       " ['z'],\n",
       " ['r', 'x', 'n', 'o', 's'],\n",
       " ['y', 'r', 'x', 'z', 'q', 't', 'p'],\n",
       " ['y', 'z', 'x', 'e', 'q', 's', 't', 'm']]"
      ]
     },
     "execution_count": 29,
     "metadata": {},
     "output_type": "execute_result"
    }
   ],
   "source": [
    "simpDat"
   ]
  },
  {
   "cell_type": "code",
   "execution_count": 33,
   "metadata": {},
   "outputs": [
    {
     "data": {
      "text/plain": [
       "{frozenset({'z'}): 1,\n",
       " frozenset({'h', 'j', 'p', 'r', 'z'}): 1,\n",
       " frozenset({'s', 't', 'u', 'v', 'w', 'x', 'y', 'z'}): 1,\n",
       " frozenset({'n', 'o', 'r', 's', 'x'}): 1,\n",
       " frozenset({'p', 'q', 'r', 't', 'x', 'y', 'z'}): 1,\n",
       " frozenset({'e', 'm', 'q', 's', 't', 'x', 'y', 'z'}): 1}"
      ]
     },
     "execution_count": 33,
     "metadata": {},
     "output_type": "execute_result"
    }
   ],
   "source": [
    "retDict = {}\n",
    "for trans in simpDat:\n",
    "#     print(trans) # ['r', 'z', 'h', 'j', 'p']\n",
    "    retDict[frozenset(trans)] = 1\n",
    "retDict"
   ]
  },
  {
   "cell_type": "code",
   "execution_count": 53,
   "metadata": {},
   "outputs": [
    {
     "data": {
      "text/plain": [
       "1"
      ]
     },
     "execution_count": 53,
     "metadata": {},
     "output_type": "execute_result"
    }
   ],
   "source": [
    "retDict[frozenset({'h', 'p', 'r', 'z', 'j'})]"
   ]
  },
  {
   "cell_type": "code",
   "execution_count": 106,
   "metadata": {
    "collapsed": true
   },
   "outputs": [],
   "source": [
    "class treeNode:\n",
    "    def __init__(self, nameValue, numOccur, parentNode):\n",
    "        self.name = nameValue\n",
    "        self.count = numOccur\n",
    "        self.nodeLink = None\n",
    "        self.parent = parentNode\n",
    "        self.children = {}\n",
    "        \n",
    "    def inc(self, numOccur):\n",
    "        self.count += numOccur\n",
    "        \n",
    "    def disp(self, ind=1):\n",
    "        print('*ind, self.name,'), self.count\n",
    "        for child in slf.children.values():\n",
    "            child.disp(ind+1)"
   ]
  },
  {
   "cell_type": "code",
   "execution_count": 116,
   "metadata": {},
   "outputs": [
    {
     "name": "stdout",
     "output_type": "stream",
     "text": [
      "<__main__.treeNode object at 0x000002CB36620588>\n",
      "{'h': 1, 'p': 2, 'r': 3, 'z': 5, 'j': 1, 'u': 1, 'x': 4, 'y': 3, 'v': 1, 's': 3, 't': 3, 'w': 1, 'n': 1, 'o': 1, 'q': 2, 'e': 1, 'm': 1}\n"
     ]
    }
   ],
   "source": [
    "headerTable = {}\n",
    "for trans in retDict:\n",
    "#     print(trans) # frozenset({'h', 'p', 'r', 'z', 'j'})\n",
    "    for item in trans:\n",
    "#         print(item) # 'h' \\n 'u'\\n'z' \\n'n' \\n'p' \\n'q'\n",
    "#         print(headerTable.get(item, 0)) \n",
    "# # h # 0 # u # 0 # z # 0 # n # 0 # p # 0 # q # 0\n",
    "#         print(headerTable.get(item, 0) + retDict[trans])\n",
    "# h # 1 # u # 1 # z # 1 # n # 1 # p # 1 # q # 1   \n",
    "        headerTable[item] = headerTable.get(item, 0) + retDict[trans]\n",
    "#     print(headerTable.keys())\n",
    "\n",
    "    for k in headerTable.keys():\n",
    "#         print(k) #h #h #h #h #h #h #h\n",
    "#         print(headerTable[k])\n",
    "        if headerTable[k] < 1: #minSup\n",
    "#             print(headerTable[k]) #k가 지니고 있는 숫자\n",
    "            del(headerTable[k])\n",
    "    \n",
    "    freqItemSet = set(headerTable.keys())\n",
    "#     print(len(freqItemSet))\n",
    "    \n",
    "#     if len(freqItemSet) == 0:\n",
    "#         None, None\n",
    "#     else:\n",
    "#         pass\n",
    "    \n",
    "#     for k in headerTable:\n",
    "# #         print([headerTable[k], None])\n",
    "#         headerTable[k] = [headerTable[k], None]\n",
    "\n",
    "\n",
    "retTree = treeNode('Null set', 1, None)\n",
    "for tranSet, count in retDict.items():\n",
    "    localD = {}\n",
    "#     for item in tranSet:\n",
    "#         if item in freqItemSet:\n",
    "#             localD[item] = headerTable[item][0]\n",
    "# #     if len(localD) > 0:\n",
    "# #         orderedItems = [v[0] for v in sorted(localD.items(), key=lambda p: p[1], reverse=True)]\n",
    "# #         updateTree(orderedItems, retTree, headerTable, count)\n",
    "print(retTree)\n",
    "print(headerTable)"
   ]
  },
  {
   "cell_type": "code",
   "execution_count": 57,
   "metadata": {},
   "outputs": [
    {
     "data": {
      "text/plain": [
       "dict_keys([])"
      ]
     },
     "execution_count": 57,
     "metadata": {},
     "output_type": "execute_result"
    }
   ],
   "source": [
    "headerTable.keys()"
   ]
  },
  {
   "cell_type": "code",
   "execution_count": null,
   "metadata": {
    "collapsed": true
   },
   "outputs": [],
   "source": []
  },
  {
   "cell_type": "code",
   "execution_count": null,
   "metadata": {
    "collapsed": true
   },
   "outputs": [],
   "source": []
  },
  {
   "cell_type": "code",
   "execution_count": null,
   "metadata": {
    "collapsed": true
   },
   "outputs": [],
   "source": []
  },
  {
   "cell_type": "code",
   "execution_count": null,
   "metadata": {
    "collapsed": true
   },
   "outputs": [],
   "source": []
  },
  {
   "cell_type": "code",
   "execution_count": null,
   "metadata": {
    "collapsed": true
   },
   "outputs": [],
   "source": []
  },
  {
   "cell_type": "markdown",
   "metadata": {},
   "source": [
    "# 예제 따라하기"
   ]
  },
  {
   "cell_type": "code",
   "execution_count": 2,
   "metadata": {
    "collapsed": true
   },
   "outputs": [],
   "source": [
    "from importlib import reload "
   ]
  },
  {
   "cell_type": "code",
   "execution_count": 8,
   "metadata": {
    "scrolled": true
   },
   "outputs": [
    {
     "data": {
      "text/plain": [
       "<module 'fpGrowth' from '../../../../../DATA/ml/machinelearninginaction/Ch12\\\\fpGrowth.py'>"
      ]
     },
     "execution_count": 8,
     "metadata": {},
     "output_type": "execute_result"
    }
   ],
   "source": [
    "reload(fpGrowth)"
   ]
  },
  {
   "cell_type": "code",
   "execution_count": 9,
   "metadata": {
    "collapsed": true
   },
   "outputs": [],
   "source": [
    "simpDat = fpGrowth.loadSimpDat()"
   ]
  },
  {
   "cell_type": "code",
   "execution_count": 10,
   "metadata": {},
   "outputs": [
    {
     "data": {
      "text/plain": [
       "[['r', 'z', 'h', 'j', 'p'],\n",
       " ['z', 'y', 'x', 'w', 'v', 'u', 't', 's'],\n",
       " ['z'],\n",
       " ['r', 'x', 'n', 'o', 's'],\n",
       " ['y', 'r', 'x', 'z', 'q', 't', 'p'],\n",
       " ['y', 'z', 'x', 'e', 'q', 's', 't', 'm']]"
      ]
     },
     "execution_count": 10,
     "metadata": {},
     "output_type": "execute_result"
    }
   ],
   "source": [
    "simpDat"
   ]
  },
  {
   "cell_type": "code",
   "execution_count": 11,
   "metadata": {},
   "outputs": [],
   "source": [
    "# createTree()에서 사용할 수 있는 함수로 변경\n",
    "    # 즉, dictionary 형태로 변경해야 한다.\n",
    "    \n",
    "initSet = fpGrowth.createInitSet(simpDat)"
   ]
  },
  {
   "cell_type": "raw",
   "metadata": {},
   "source": [
    "initSet\n",
    "\n",
    "{frozenset({'z'}): 1,\n",
    " frozenset({'h', 'j', 'p', 'r', 'z'}): 1,\n",
    " frozenset({'s', 't', 'u', 'v', 'w', 'x', 'y', 'z'}): 1,\n",
    " frozenset({'n', 'o', 'r', 's', 'x'}): 1,\n",
    " frozenset({'p', 'q', 'r', 't', 'x', 'y', 'z'}): 1,\n",
    " frozenset({'e', 'm', 'q', 's', 't', 'x', 'y', 'z'}): 1}"
   ]
  },
  {
   "cell_type": "code",
   "execution_count": 12,
   "metadata": {},
   "outputs": [],
   "source": [
    "# 트리를 생성할 수 있다. \n",
    "# 빈도수가 3이하면 없앤다. \n",
    "myFPtree, myHeaderTab = fpGrowth.createTree(initSet, 3)"
   ]
  },
  {
   "cell_type": "code",
   "execution_count": 13,
   "metadata": {},
   "outputs": [
    {
     "data": {
      "text/plain": [
       "<fpGrowth.treeNode at 0x220d74bcc88>"
      ]
     },
     "execution_count": 13,
     "metadata": {},
     "output_type": "execute_result"
    }
   ],
   "source": [
    "myFPtree"
   ]
  },
  {
   "cell_type": "code",
   "execution_count": 14,
   "metadata": {},
   "outputs": [
    {
     "data": {
      "text/plain": [
       "{'r': [3, <fpGrowth.treeNode at 0x220d74bce80>],\n",
       " 's': [3, <fpGrowth.treeNode at 0x220d74bce48>],\n",
       " 't': [3, <fpGrowth.treeNode at 0x220d74bc630>],\n",
       " 'x': [4, <fpGrowth.treeNode at 0x220d74bcf28>],\n",
       " 'y': [3, <fpGrowth.treeNode at 0x220d74bc940>],\n",
       " 'z': [5, <fpGrowth.treeNode at 0x220d74bcdd8>]}"
      ]
     },
     "execution_count": 14,
     "metadata": {},
     "output_type": "execute_result"
    }
   ],
   "source": [
    "myHeaderTab"
   ]
  },
  {
   "cell_type": "code",
   "execution_count": 15,
   "metadata": {},
   "outputs": [
    {
     "name": "stdout",
     "output_type": "stream",
     "text": [
      "   Null Set   1\n",
      "     z   5\n",
      "       r   1\n",
      "       x   3\n",
      "         t   3\n",
      "           y   2\n",
      "             s   2\n",
      "           r   1\n",
      "             y   1\n",
      "     x   1\n",
      "       r   1\n",
      "         s   1\n"
     ]
    }
   ],
   "source": [
    "myFPtree.disp()"
   ]
  },
  {
   "cell_type": "code",
   "execution_count": null,
   "metadata": {
    "collapsed": true
   },
   "outputs": [],
   "source": []
  }
 ],
 "metadata": {
  "kernelspec": {
   "display_name": "Python 3",
   "language": "python",
   "name": "python3"
  },
  "language_info": {
   "codemirror_mode": {
    "name": "ipython",
    "version": 3
   },
   "file_extension": ".py",
   "mimetype": "text/x-python",
   "name": "python",
   "nbconvert_exporter": "python",
   "pygments_lexer": "ipython3",
   "version": "3.6.1"
  }
 },
 "nbformat": 4,
 "nbformat_minor": 2
}
