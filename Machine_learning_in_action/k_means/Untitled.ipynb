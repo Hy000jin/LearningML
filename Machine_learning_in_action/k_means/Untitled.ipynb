{
 "cells": [
  {
   "cell_type": "markdown",
   "metadata": {},
   "source": [
    "# K-Means"
   ]
  },
  {
   "cell_type": "markdown",
   "metadata": {},
   "source": [
    "* 거리를 계산하기 위해서는 수치형 데이터가 필요하다. \n",
    "* 명목형 값은 거리 계산에 대한 이진 값으로 매핑 가능하다."
   ]
  },
  {
   "cell_type": "code",
   "execution_count": 20,
   "metadata": {
    "collapsed": true
   },
   "outputs": [],
   "source": [
    "import numpy as np"
   ]
  },
  {
   "cell_type": "code",
   "execution_count": 21,
   "metadata": {
    "scrolled": true
   },
   "outputs": [],
   "source": [
    "import kMeans"
   ]
  },
  {
   "cell_type": "markdown",
   "metadata": {
    "collapsed": true
   },
   "source": [
    "## 1. data load"
   ]
  },
  {
   "cell_type": "code",
   "execution_count": 22,
   "metadata": {
    "scrolled": true
   },
   "outputs": [
    {
     "name": "stdout",
     "output_type": "stream",
     "text": [
      "['1.658985', '4.285136']\n",
      "<map object at 0x00000207BF64D518>\n",
      "['-3.453687', '3.424321']\n",
      "<map object at 0x00000207BF64D9B0>\n",
      "['4.838138', '-1.151539']\n",
      "<map object at 0x00000207BF64DE48>\n",
      "['-5.379713', '-3.362104']\n",
      "<map object at 0x00000207BF653358>\n",
      "['0.972564', '2.924086']\n",
      "<map object at 0x00000207BF6537F0>\n",
      "['-3.567919', '1.531611']\n",
      "<map object at 0x00000207BF653C88>\n",
      "['0.450614', '-3.302219']\n",
      "<map object at 0x00000207BF657080>\n",
      "['-3.487105', '-1.724432']\n",
      "<map object at 0x00000207BF657278>\n",
      "['2.668759', '1.594842']\n",
      "<map object at 0x00000207BF6531D0>\n",
      "['-3.156485', '3.191137']\n",
      "<map object at 0x00000207BF64DB70>\n",
      "['3.165506', '-3.999838']\n",
      "<map object at 0x00000207BF657748>\n",
      "['-2.786837', '-3.099354']\n",
      "<map object at 0x00000207BF653940>\n",
      "['4.208187', '2.984927']\n",
      "<map object at 0x00000207BF657BE0>\n",
      "['-2.123337', '2.943366']\n",
      "<map object at 0x00000207BF649FD0>\n",
      "['0.704199', '-0.479481']\n",
      "<map object at 0x00000207BF6491D0>\n",
      "['-0.392370', '-3.963704']\n",
      "<map object at 0x00000207BF649630>\n",
      "['2.831667', '1.574018']\n",
      "<map object at 0x00000207BF649AC8>\n",
      "['-0.790153', '3.343144']\n",
      "<map object at 0x00000207BF649EF0>\n",
      "['2.943496', '-3.357075']\n",
      "<map object at 0x00000207BF649C88>\n",
      "['-3.195883', '-2.283926']\n",
      "<map object at 0x00000207BF6499E8>\n",
      "['2.336445', '2.875106']\n",
      "<map object at 0x00000207BF649710>\n",
      "['-1.786345', '2.554248']\n",
      "<map object at 0x00000207BF6494E0>\n",
      "['2.190101', '-1.906020']\n",
      "<map object at 0x00000207BF649278>\n",
      "['-3.403367', '-2.778288']\n",
      "<map object at 0x00000207BF6490F0>\n",
      "['1.778124', '3.880832']\n",
      "<map object at 0x00000207BF6207F0>\n",
      "['-1.688346', '2.230267']\n",
      "<map object at 0x00000207BF620BA8>\n",
      "['2.592976', '-2.054368']\n",
      "<map object at 0x00000207BF620D30>\n",
      "['-4.007257', '-3.207066']\n",
      "<map object at 0x00000207BF6204E0>\n",
      "['2.257734', '3.387564']\n",
      "<map object at 0x00000207BF6205C0>\n",
      "['-2.679011', '0.785119']\n",
      "<map object at 0x00000207BF620C88>\n",
      "['0.939512', '-4.023563']\n",
      "<map object at 0x00000207BF620A58>\n",
      "['-3.674424', '-2.261084']\n",
      "<map object at 0x00000207BF620898>\n",
      "['2.046259', '2.735279']\n",
      "<map object at 0x00000207BF620518>\n",
      "['-3.189470', '1.780269']\n",
      "<map object at 0x00000207BF407668>\n",
      "['4.372646', '-0.822248']\n",
      "<map object at 0x00000207BF645400>\n",
      "['-2.579316', '-3.497576']\n",
      "<map object at 0x00000207BF645898>\n",
      "['1.889034', '5.190400']\n",
      "<map object at 0x00000207BF645BA8>\n",
      "['-0.798747', '2.185588']\n",
      "<map object at 0x00000207BF645F60>\n",
      "['2.836520', '-2.658556']\n",
      "<map object at 0x00000207BF645D68>\n",
      "['-3.837877', '-3.253815']\n",
      "<map object at 0x00000207BF645AC8>\n",
      "['2.096701', '3.886007']\n",
      "<map object at 0x00000207BF645828>\n",
      "['-2.709034', '2.923887']\n",
      "<map object at 0x00000207BF645630>\n",
      "['3.367037', '-3.184789']\n",
      "<map object at 0x00000207BF645438>\n",
      "['-2.121479', '-4.232586']\n",
      "<map object at 0x00000207BF6451D0>\n",
      "['2.329546', '3.179764']\n",
      "<map object at 0x00000207BF63F198>\n",
      "['-3.284816', '3.273099']\n",
      "<map object at 0x00000207BF63F5C0>\n",
      "['3.091414', '-3.815232']\n",
      "<map object at 0x00000207BF63FA58>\n",
      "['-3.762093', '-2.432191']\n",
      "<map object at 0x00000207BF63FEF0>\n",
      "['3.542056', '2.778832']\n",
      "<map object at 0x00000207BF63FE80>\n",
      "['-1.736822', '4.241041']\n",
      "<map object at 0x00000207BF657780>\n",
      "['2.127073', '-2.983680']\n",
      "<map object at 0x00000207BF657860>\n",
      "['-4.323818', '-3.938116']\n",
      "<map object at 0x00000207BF657E80>\n",
      "['3.792121', '5.135768']\n",
      "<map object at 0x00000207BF63FDD8>\n",
      "['-4.786473', '3.358547']\n",
      "<map object at 0x00000207BF63FB70>\n",
      "['2.624081', '-3.260715']\n",
      "<map object at 0x00000207BF63F940>\n",
      "['-4.009299', '-2.978115']\n",
      "<map object at 0x00000207BF63F6D8>\n",
      "['2.493525', '1.963710']\n",
      "<map object at 0x00000207BF63F4A8>\n",
      "['-2.513661', '2.642162']\n",
      "<map object at 0x00000207BF63F278>\n",
      "['1.864375', '-3.176309']\n",
      "<map object at 0x00000207BF632C88>\n",
      "['-3.171184', '-3.572452']\n",
      "<map object at 0x00000207BF632C18>\n",
      "['2.894220', '2.489128']\n",
      "<map object at 0x00000207BF632048>\n",
      "['-2.562539', '2.884438']\n",
      "<map object at 0x00000207BF632E80>\n",
      "['3.491078', '-3.947487']\n",
      "<map object at 0x00000207BF6326A0>\n",
      "['-2.565729', '-2.012114']\n",
      "<map object at 0x00000207BF6323C8>\n",
      "['3.332948', '3.983102']\n",
      "<map object at 0x00000207BF632748>\n",
      "['-1.616805', '3.573188']\n",
      "<map object at 0x00000207BF632898>\n",
      "['2.280615', '-2.559444']\n",
      "<map object at 0x00000207BF6329E8>\n",
      "['-2.651229', '-3.103198']\n",
      "<map object at 0x00000207BF632BA8>\n",
      "['2.321395', '3.154987']\n",
      "<map object at 0x00000207BF632278>\n",
      "['-1.685703', '2.939697']\n",
      "<map object at 0x00000207BF65C080>\n",
      "['3.031012', '-3.620252']\n",
      "<map object at 0x00000207BF65C550>\n",
      "['-4.599622', '-2.185829']\n",
      "<map object at 0x00000207BF65C7F0>\n",
      "['4.196223', '1.126677']\n",
      "<map object at 0x00000207BF65C5F8>\n",
      "['-2.133863', '3.093686']\n",
      "<map object at 0x00000207BF65C358>\n",
      "['4.668892', '-2.562705']\n",
      "<map object at 0x00000207BF65C160>\n",
      "['-2.793241', '-2.149706']\n",
      "<map object at 0x00000207BF65C9E8>\n",
      "['2.884105', '3.043438']\n",
      "<map object at 0x00000207BF65CB38>\n",
      "['-2.967647', '2.848696']\n",
      "<map object at 0x00000207BF65CC88>\n",
      "['4.479332', '-1.764772']\n",
      "<map object at 0x00000207BF65CDA0>\n",
      "['-4.905566', '-2.911070']\n",
      "<map object at 0x00000207BF65CEB8>\n"
     ]
    }
   ],
   "source": [
    "dataMat = []\n",
    "fr = open('testSet.txt')\n",
    "for line in fr.readlines():\n",
    "    curLine = line.strip().split('\\t')\n",
    "    print(curLine)\n",
    "    fltLine =  map(float, curLine)\n",
    "    print(fltLine)\n",
    "    dataMat.append(fltLine)\n",
    "# print(dataMat)"
   ]
  },
  {
   "cell_type": "code",
   "execution_count": 23,
   "metadata": {},
   "outputs": [
    {
     "ename": "TypeError",
     "evalue": "list indices must be integers or slices, not tuple",
     "output_type": "error",
     "traceback": [
      "\u001b[1;31m---------------------------------------------------------------------------\u001b[0m",
      "\u001b[1;31mTypeError\u001b[0m                                 Traceback (most recent call last)",
      "\u001b[1;32m<ipython-input-23-2c6542698af0>\u001b[0m in \u001b[0;36m<module>\u001b[1;34m()\u001b[0m\n\u001b[1;32m----> 1\u001b[1;33m \u001b[0mmin\u001b[0m\u001b[1;33m(\u001b[0m\u001b[0mdataMat\u001b[0m\u001b[1;33m[\u001b[0m\u001b[1;33m:\u001b[0m\u001b[1;33m,\u001b[0m \u001b[1;36m0\u001b[0m\u001b[1;33m]\u001b[0m\u001b[1;33m)\u001b[0m\u001b[1;33m\u001b[0m\u001b[0m\n\u001b[0m",
      "\u001b[1;31mTypeError\u001b[0m: list indices must be integers or slices, not tuple"
     ]
    }
   ],
   "source": [
    "min(dataMat[:, 0])"
   ]
  },
  {
   "cell_type": "code",
   "execution_count": null,
   "metadata": {
    "collapsed": true
   },
   "outputs": [],
   "source": []
  },
  {
   "cell_type": "code",
   "execution_count": 24,
   "metadata": {},
   "outputs": [
    {
     "name": "stdout",
     "output_type": "stream",
     "text": [
      "          0         1\n",
      "0  1.658985  4.285136\n",
      "1 -3.453687  3.424321\n",
      "2  4.838138 -1.151539\n",
      "3 -5.379713 -3.362104\n",
      "4  0.972564  2.924086\n"
     ]
    }
   ],
   "source": [
    "import pandas as pd\n",
    "df = pd.read_csv('testSet.csv', header=None)\n",
    "print(df.head())"
   ]
  },
  {
   "cell_type": "code",
   "execution_count": 58,
   "metadata": {},
   "outputs": [
    {
     "name": "stdout",
     "output_type": "stream",
     "text": [
      "-5.379713\n",
      "-4.232586\n",
      "4.838138\n",
      "5.1904\n"
     ]
    }
   ],
   "source": [
    "# 각 column에서 최소값\n",
    "print(min(df.iloc[:, 0]))\n",
    "print(min(df.iloc[:, 1]))\n",
    "\n",
    "# 각 column에서 최대값\n",
    "print(max(df.iloc[:, 0]))\n",
    "print(max(df.iloc[:, 1]))"
   ]
  },
  {
   "cell_type": "markdown",
   "metadata": {},
   "source": [
    "## 2. k를 정하고, 한 col에서의 min과 max 사이의 값을 도출"
   ]
  },
  {
   "cell_type": "code",
   "execution_count": 77,
   "metadata": {},
   "outputs": [
    {
     "name": "stdout",
     "output_type": "stream",
     "text": [
      "2\n",
      "[[0. 0.]\n",
      " [0. 0.]\n",
      " [0. 0.]]\n",
      "======== 0 번째시작\n",
      "한 col에서 최소값:\n",
      "  -5.379713\n",
      "\n",
      "한 col에서 최대값:\n",
      "  4.838138\n",
      "\n",
      "한 col에서 최소값과 최대값의 range:\n",
      "  10.217851\n",
      "\n",
      "임의의 숫자에 min값과 range를 적용:\n",
      " [[ 0.52540893]\n",
      " [-4.28349879]\n",
      " [-4.75165236]]\n",
      "--------- 0 번째 끝!\n",
      "======== 1 번째시작\n",
      "한 col에서 최소값:\n",
      "  -4.232586\n",
      "\n",
      "한 col에서 최대값:\n",
      "  5.1904\n",
      "\n",
      "한 col에서 최소값과 최대값의 range:\n",
      "  9.422986000000002\n",
      "\n",
      "임의의 숫자에 min값과 range를 적용:\n",
      " [[4.76112478]\n",
      " [3.47660601]\n",
      " [4.26347426]]\n",
      "--------- 1 번째 끝!\n",
      "전체 centroids:\n",
      " [[ 0.52540893  4.76112478]\n",
      " [-4.28349879  3.47660601]\n",
      " [-4.75165236  4.26347426]]\n"
     ]
    },
    {
     "data": {
      "text/plain": [
       "'몇개의 k로 군집을 나눌 것인지 정했으면,  \\n각각 colum의 최소값, 최대값, 범위를 적용한 임의의 숫자를 생성한다.\\n따라서, 한 컬럼당 3개의(k) 임의의 숫자가 만들어지며, \\ncolumn수 * k수 만큼의 숫자가 구성된다.'"
      ]
     },
     "execution_count": 77,
     "metadata": {},
     "output_type": "execute_result"
    }
   ],
   "source": [
    "# 80, 2\n",
    "df.shape\n",
    "print(df.shape[1])\n",
    "df_shape = df.shape[1]\n",
    "\n",
    "# 중심점 만들기 임의의 입력값 k, columns 수\n",
    "k = 3\n",
    "centroids = np.mat(np.zeros((k, df_shape)))\n",
    "print(centroids)\n",
    "\n",
    "\n",
    "'''\n",
    "col1 col2\n",
    "[[0, 0],  k\n",
    "[0, 0]]   k'''\n",
    "\n",
    "for j in range(df_shape):\n",
    "    minJ = min(df.iloc[:, j])\n",
    "    print(\"========\",j,\"번째시작\\n한 col에서 최소값:\\n \", minJ)\n",
    "    print(\"\\n한 col에서 최대값:\\n \", max(df.iloc[:, j]))\n",
    "    # 한 칼럼에서 min, max을 구한후\n",
    "    # 최소값 최대값으로 범위를 구한다. \n",
    "    \n",
    "    rangeJ = float(max(df.iloc[:, j]) - minJ)\n",
    "    print(\"\\n한 col에서 최소값과 최대값의 range:\\n \", rangeJ)\n",
    "    centroids[:, j] = minJ + rangeJ * np.random.rand(k, 1)\n",
    "    print(\"\\n임의의 숫자에 min값과 range를 적용:\\n\", centroids[:, j])\n",
    "    print(\"---------\", j, \"번째 끝!\")\n",
    "#     print(np.random.rand(k, 1))\n",
    "#     break;\n",
    "    \n",
    "print(\"전체 centroids:\\n\", centroids)\n",
    "\n",
    "'''몇개의 k로 군집을 나눌 것인지 정했으면,  \n",
    "각각 colum의 최소값, 최대값, 범위를 적용한 임의의 숫자를 생성한다.\n",
    "따라서, 한 컬럼당 3개의(k) 임의의 숫자가 만들어지며, \n",
    "column수 * k수 만큼의 숫자가 구성된다.'''"
   ]
  },
  {
   "cell_type": "code",
   "execution_count": 62,
   "metadata": {},
   "outputs": [
    {
     "name": "stdout",
     "output_type": "stream",
     "text": [
      "[[0. 0.]\n",
      " [0. 0.]\n",
      " [0. 0.]\n",
      " [0. 0.]]\n",
      "[[-2.8853821 ]\n",
      " [ 0.5291239 ]\n",
      " [-3.6717946 ]\n",
      " [ 4.18379999]]\n",
      "[[-2.8853821   0.        ]\n",
      " [ 0.5291239   0.        ]\n",
      " [-3.6717946   0.        ]\n",
      " [ 4.18379999  0.        ]]\n",
      "===================\n",
      "[[0.46894591]\n",
      " [0.45218993]\n",
      " [0.49991519]\n",
      " [0.59472898]]\n",
      "[[4.79161942]\n",
      " [4.62040935]\n",
      " [5.10805889]\n",
      " [6.07685208]]\n",
      "[[-0.58809358]\n",
      " [-0.75930365]\n",
      " [-0.27165411]\n",
      " [ 0.69713908]]\n"
     ]
    }
   ],
   "source": [
    "# matrix 만들기\n",
    "matrix1 = np.mat(np.zeros((4, 2)))\n",
    "print(matrix1)\n",
    "\n",
    "matrix1[:, 0] = -5.379713 + 10.217851 * np.random.rand(4, 1)\n",
    "print(matrix1[:, 0])\n",
    "print(matrix1)\n",
    "\n",
    "# 중심점 계산 방법\n",
    "random_matrix = np.random.rand(4, 1)\n",
    "print(\"===================\")\n",
    "print(random_matrix)\n",
    "print(10.217851 * random_matrix)\n",
    "print(-5.379713 + 10.217851 * random_matrix)\n",
    "\n",
    "# k개의 중심점을 임의의 값을 생성후, min값과 범위를 이용해서 만든다.?"
   ]
  },
  {
   "cell_type": "markdown",
   "metadata": {},
   "source": [
    "## 3. 거리를 측정한다."
   ]
  },
  {
   "cell_type": "code",
   "execution_count": 93,
   "metadata": {},
   "outputs": [
    {
     "data": {
      "text/plain": [
       "5.184632816681332"
      ]
     },
     "execution_count": 93,
     "metadata": {},
     "output_type": "execute_result"
    }
   ],
   "source": [
    "import numpy as np\n",
    "\n",
    "df.iloc[0]\n",
    "\n",
    "df.iloc[1]\n",
    "\n",
    "np.sqrt(sum(np.power(df.iloc[0] - df.iloc[1], 2)))"
   ]
  },
  {
   "cell_type": "code",
   "execution_count": 99,
   "metadata": {},
   "outputs": [
    {
     "name": "stdout",
     "output_type": "stream",
     "text": [
      "각각의vector:\n",
      " 0    1.658985\n",
      "1    4.285136\n",
      "Name: 0, dtype: float64 \n",
      " 0   -3.453687\n",
      "1    3.424321\n",
      "Name: 1, dtype: float64\n",
      "\n",
      "vector1- vector2:\n",
      " 0    5.112672\n",
      "1    0.860815\n",
      "dtype: float64\n",
      "\n",
      "vector 차의 exponential:\n",
      " 0    26.139415\n",
      "1     0.741002\n",
      "dtype: float64\n"
     ]
    }
   ],
   "source": [
    "print(\"각각의vector:\\n\",df.iloc[0], \"\\n\",df.iloc[1])\n",
    "print(\"\\nvector1- vector2:\\n\", df.iloc[0] - df.iloc[1])\n",
    "print(\"\\nvector 차의 exponential:\\n\", np.power(df.iloc[0] - df.iloc[1], 2))"
   ]
  },
  {
   "cell_type": "code",
   "execution_count": 103,
   "metadata": {},
   "outputs": [
    {
     "name": "stdout",
     "output_type": "stream",
     "text": [
      "26.880417443809\n",
      "5.184632816681332\n"
     ]
    }
   ],
   "source": [
    "#exponential한 값들의 덧셈\n",
    "print(sum(np.power(df.iloc[0] - df.iloc[1], 2)))\n",
    "\n",
    "# 최종적으로 행렬의 거리를 구한다.\n",
    "print(np.sqrt(sum(np.power(df.iloc[0] - df.iloc[1], 2))))"
   ]
  },
  {
   "cell_type": "markdown",
   "metadata": {},
   "source": [
    "## 10.2 k-평균 군집화 알고리즘"
   ]
  },
  {
   "cell_type": "code",
   "execution_count": 107,
   "metadata": {
    "collapsed": true
   },
   "outputs": [],
   "source": [
    "def distEclud(vecA, vecB):\n",
    "    return np.sqrt(sum(np.power(vecA - vecB, 2)))"
   ]
  },
  {
   "cell_type": "code",
   "execution_count": 133,
   "metadata": {},
   "outputs": [
    {
     "name": "stdout",
     "output_type": "stream",
     "text": [
      "[[-3.0270103 -2.5035107]]\n",
      "[[1.658985 4.285136]]\n",
      "[[4.6859953 6.7886467]]\n"
     ]
    },
    {
     "ename": "ValueError",
     "evalue": "The truth value of an array with more than one element is ambiguous. Use a.any() or a.all()",
     "output_type": "error",
     "traceback": [
      "\u001b[1;31m---------------------------------------------------------------------------\u001b[0m",
      "\u001b[1;31mValueError\u001b[0m                                Traceback (most recent call last)",
      "\u001b[1;32m<ipython-input-133-07efb58a8d59>\u001b[0m in \u001b[0;36m<module>\u001b[1;34m()\u001b[0m\n\u001b[0;32m     36\u001b[0m \u001b[1;33m\u001b[0m\u001b[0m\n\u001b[0;32m     37\u001b[0m \u001b[1;31m#             minDist =\u001b[0m\u001b[1;33m\u001b[0m\u001b[1;33m\u001b[0m\u001b[0m\n\u001b[1;32m---> 38\u001b[1;33m             \u001b[1;32mif\u001b[0m \u001b[0mdistJI\u001b[0m \u001b[1;33m<\u001b[0m \u001b[0mminDist\u001b[0m\u001b[1;33m:\u001b[0m\u001b[1;33m\u001b[0m\u001b[0m\n\u001b[0m\u001b[0;32m     39\u001b[0m                 \u001b[0mminDist\u001b[0m \u001b[1;33m=\u001b[0m \u001b[0mdistJI\u001b[0m\u001b[1;33m\u001b[0m\u001b[0m\n\u001b[0;32m     40\u001b[0m                 \u001b[0mminIndex\u001b[0m \u001b[1;33m=\u001b[0m \u001b[0mj\u001b[0m\u001b[1;33m\u001b[0m\u001b[0m\n",
      "\u001b[1;31mValueError\u001b[0m: The truth value of an array with more than one element is ambiguous. Use a.any() or a.all()"
     ]
    }
   ],
   "source": [
    "# 총 데이터 수\n",
    "m = df.shape[0]\n",
    "\n",
    "\n",
    "# [0, 0]이 데이터 수 만큼\n",
    "clusterAssment = np.mat(np.zeros((m, 2)))\n",
    "\n",
    "# k개의 중심점을 만든다. k = 4\n",
    "n = df.shape[1] # column수\n",
    "k = 4\n",
    "centroids = np.mat(np.zeros((k, n)))\n",
    "for j in range(n):\n",
    "    minJ = min(df.iloc[:, j])\n",
    "    rangeJ = float(max(df.iloc[:, j]) - minJ)\n",
    "    centroids[:, j] = minJ + rangeJ * np.random.rand(k, 1)\n",
    "# centroids\n",
    "\n",
    "# flag를 생성\n",
    "clusterChanged = True\n",
    "\n",
    "# 반복문 구성\n",
    "while clusterChanged:\n",
    "    clusterChanged = False\n",
    "    for i in range(m): # 총 데이터 수만큼\n",
    "#         minDist = \n",
    "        minIndex = -1\n",
    "        \n",
    "        for j in range(k):\n",
    "            # 거리를 구한다.\n",
    "            print(centroids[j, :])\n",
    "            print(np.reshape(df.iloc[i, :].as_matrix(), (-1, 2)))\n",
    "            distJI = np.sqrt(sum(np.power(centroids[j, :]-np.reshape(df.iloc[i, :].as_matrix(), (-1, 2)), 2)))\n",
    "            # centroids가 col수 * k만큼 만들어졌으면 \n",
    "            # centroids[j, :]는 첫번째 군집의 임의로 만들어진 col1과 col2의 ..중심값\n",
    "            print(distJI)\n",
    "            \n",
    "#             minDist = \n",
    "            if distJI < minDist:\n",
    "                minDist = distJI\n",
    "                minIndex = j\n",
    "                # 가장 작은 거리를 같는 거리값과 \n",
    "                # 거리값을 만드는데 사용된 k군집의 번호를 기억한다.\n",
    "        if clusterAssment[i, :] != minIndex:\n",
    "            clusterChanged = True\n",
    "        clusterAssment[i, :] = minIndex, minDist**2\n",
    "        print(centroids)\n",
    "        for cent in range(k):\n",
    "            ptsInClust = df"
   ]
  },
  {
   "cell_type": "code",
   "execution_count": 127,
   "metadata": {},
   "outputs": [
    {
     "name": "stdout",
     "output_type": "stream",
     "text": [
      "[-3.453687  3.424321]\n"
     ]
    },
    {
     "data": {
      "text/plain": [
       "array([[-3.453687,  3.424321]])"
      ]
     },
     "execution_count": 127,
     "metadata": {},
     "output_type": "execute_result"
    }
   ],
   "source": [
    "print(df.iloc[1, :].as_matrix())\n",
    "np.reshape(df.iloc[1, :].as_matrix(), (-1, 2))"
   ]
  },
  {
   "cell_type": "code",
   "execution_count": null,
   "metadata": {
    "collapsed": true
   },
   "outputs": [],
   "source": []
  },
  {
   "cell_type": "code",
   "execution_count": null,
   "metadata": {
    "collapsed": true
   },
   "outputs": [],
   "source": []
  },
  {
   "cell_type": "code",
   "execution_count": null,
   "metadata": {
    "collapsed": true
   },
   "outputs": [],
   "source": []
  },
  {
   "cell_type": "code",
   "execution_count": null,
   "metadata": {
    "collapsed": true
   },
   "outputs": [],
   "source": []
  },
  {
   "cell_type": "code",
   "execution_count": null,
   "metadata": {
    "collapsed": true
   },
   "outputs": [],
   "source": []
  },
  {
   "cell_type": "code",
   "execution_count": null,
   "metadata": {
    "collapsed": true
   },
   "outputs": [],
   "source": []
  },
  {
   "cell_type": "code",
   "execution_count": null,
   "metadata": {
    "collapsed": true
   },
   "outputs": [],
   "source": []
  },
  {
   "cell_type": "code",
   "execution_count": null,
   "metadata": {
    "collapsed": true
   },
   "outputs": [],
   "source": []
  },
  {
   "cell_type": "code",
   "execution_count": null,
   "metadata": {
    "collapsed": true
   },
   "outputs": [],
   "source": []
  },
  {
   "cell_type": "code",
   "execution_count": null,
   "metadata": {
    "collapsed": true
   },
   "outputs": [],
   "source": []
  },
  {
   "cell_type": "code",
   "execution_count": null,
   "metadata": {
    "collapsed": true
   },
   "outputs": [],
   "source": []
  },
  {
   "cell_type": "code",
   "execution_count": null,
   "metadata": {
    "collapsed": true
   },
   "outputs": [],
   "source": []
  },
  {
   "cell_type": "code",
   "execution_count": null,
   "metadata": {
    "collapsed": true
   },
   "outputs": [],
   "source": []
  },
  {
   "cell_type": "markdown",
   "metadata": {},
   "source": [
    "### numpy.power\n",
    "exponents <br>\n",
    "1^^3, 2^^3, 4^^3 "
   ]
  },
  {
   "cell_type": "code",
   "execution_count": 89,
   "metadata": {},
   "outputs": [
    {
     "data": {
      "text/plain": [
       "range(0, 6)"
      ]
     },
     "execution_count": 89,
     "metadata": {},
     "output_type": "execute_result"
    }
   ],
   "source": [
    "x1 = range(6)\n",
    "x1"
   ]
  },
  {
   "cell_type": "code",
   "execution_count": 90,
   "metadata": {},
   "outputs": [
    {
     "data": {
      "text/plain": [
       "array([  0,   1,   8,  27,  64, 125], dtype=int32)"
      ]
     },
     "execution_count": 90,
     "metadata": {},
     "output_type": "execute_result"
    }
   ],
   "source": [
    "np.power(x1, 3)"
   ]
  },
  {
   "cell_type": "code",
   "execution_count": 91,
   "metadata": {
    "collapsed": true
   },
   "outputs": [],
   "source": [
    "x2 = [1.0, 2.0, 3.0, 3.0, 2.0, 1.0]"
   ]
  },
  {
   "cell_type": "code",
   "execution_count": 92,
   "metadata": {},
   "outputs": [
    {
     "data": {
      "text/plain": [
       "array([ 0.,  1.,  8., 27., 16.,  5.])"
      ]
     },
     "execution_count": 92,
     "metadata": {},
     "output_type": "execute_result"
    }
   ],
   "source": [
    "np.power(x1, x2)"
   ]
  },
  {
   "cell_type": "code",
   "execution_count": null,
   "metadata": {
    "collapsed": true
   },
   "outputs": [],
   "source": []
  }
 ],
 "metadata": {
  "kernelspec": {
   "display_name": "Python 3",
   "language": "python",
   "name": "python3"
  },
  "language_info": {
   "codemirror_mode": {
    "name": "ipython",
    "version": 3
   },
   "file_extension": ".py",
   "mimetype": "text/x-python",
   "name": "python",
   "nbconvert_exporter": "python",
   "pygments_lexer": "ipython3",
   "version": "3.6.1"
  }
 },
 "nbformat": 4,
 "nbformat_minor": 2
}
