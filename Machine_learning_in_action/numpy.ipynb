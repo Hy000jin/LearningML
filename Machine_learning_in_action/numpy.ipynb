{
 "cells": [
  {
   "cell_type": "code",
   "execution_count": 7,
   "metadata": {
    "collapsed": true
   },
   "outputs": [],
   "source": [
    "from numpy import *"
   ]
  },
  {
   "cell_type": "code",
   "execution_count": 9,
   "metadata": {},
   "outputs": [
    {
     "data": {
      "text/plain": [
       "array([[0.11088541, 0.80408376, 0.11316273, 0.31812524],\n",
       "       [0.06049151, 0.40357404, 0.57349545, 0.06309319],\n",
       "       [0.54913149, 0.19104644, 0.26264802, 0.7515767 ],\n",
       "       [0.74030453, 0.15672877, 0.2359713 , 0.98197991]])"
      ]
     },
     "execution_count": 9,
     "metadata": {},
     "output_type": "execute_result"
    }
   ],
   "source": [
    "random.rand(4, 4)\n",
    "# 4 * 4 크기의 행렬"
   ]
  },
  {
   "cell_type": "code",
   "execution_count": 12,
   "metadata": {},
   "outputs": [
    {
     "name": "stdout",
     "output_type": "stream",
     "text": [
      "[[0.83609993 0.45273276 0.58206656 0.85444306]\n",
      " [0.88236851 0.96035072 0.02323181 0.25845051]\n",
      " [0.87649979 0.0485355  0.70897956 0.67901946]\n",
      " [0.93840952 0.8513121  0.49543623 0.45029427]]\n"
     ]
    }
   ],
   "source": [
    "print(mat(random.rand(4, 4)))"
   ]
  },
  {
   "cell_type": "code",
   "execution_count": 13,
   "metadata": {},
   "outputs": [
    {
     "name": "stdout",
     "output_type": "stream",
     "text": [
      "[[0.74972272 0.45310383 0.32384983 0.23810942]\n",
      " [0.61733439 0.50124432 0.00883935 0.465258  ]\n",
      " [0.15049779 0.93719002 0.64112818 0.929273  ]\n",
      " [0.32726006 0.75182404 0.09592672 0.84452797]]\n"
     ]
    },
    {
     "data": {
      "text/plain": [
       "matrix([[ -72.70069745,  136.3485163 ,   51.49265657, -111.27784423],\n",
       "        [ 317.63236412, -585.30541635, -224.11843162,  479.50332997],\n",
       "        [ -93.64394408,  173.49115173,   68.01804063, -144.01887588],\n",
       "        [-243.95717423,  448.51424359,  171.83727843, -366.20466192]])"
      ]
     },
     "execution_count": 13,
     "metadata": {},
     "output_type": "execute_result"
    }
   ],
   "source": [
    "randMat = mat(random.rand(4, 4))\n",
    "print(randMat)\n",
    "# 역행렬\n",
    "randMat.I"
   ]
  },
  {
   "cell_type": "code",
   "execution_count": null,
   "metadata": {
    "collapsed": true
   },
   "outputs": [],
   "source": []
  }
 ],
 "metadata": {
  "kernelspec": {
   "display_name": "Python 3",
   "language": "python",
   "name": "python3"
  },
  "language_info": {
   "codemirror_mode": {
    "name": "ipython",
    "version": 3
   },
   "file_extension": ".py",
   "mimetype": "text/x-python",
   "name": "python",
   "nbconvert_exporter": "python",
   "pygments_lexer": "ipython3",
   "version": "3.6.1"
  }
 },
 "nbformat": 4,
 "nbformat_minor": 2
}
