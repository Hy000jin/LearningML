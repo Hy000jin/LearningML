{
 "cells": [
  {
   "cell_type": "markdown",
   "metadata": {},
   "source": [
    "* Series objects (collections of values)\n",
    "* DataFrames (collections of Series objects)\n",
    "* Panels (collections of DataFrame objects)"
   ]
  },
  {
   "cell_type": "markdown",
   "metadata": {},
   "source": [
    "## Series objects\n",
    "* Use Numpy arrays, but add valuable features to them for analyzing data.\n",
    "* Allow for mixed data types, and use the NaN Python value for handling missing values.\n",
    "#### Seires object data types\n",
    "* float\n",
    "* int\n",
    "* bool\n",
    "* datetime64[ns]: For date&time, without timezone\n",
    "* timedelta[ns]: For representing differences in dates & times(seconds, minutes, etc.)\n",
    "* category : For categorical values\n",
    "* object : For string values"
   ]
  },
  {
   "cell_type": "markdown",
   "metadata": {},
   "source": [
    "### Dataset\n",
    "A data set containing scores for all movies that have substantive user and critic reviews on IMDB, Rotten Tomatoes, Metacritic, and Fandango.<br>\n",
    "you can download from [their Github repository.](https://github.com/fivethirtyeight/data/tree/master/fandango)"
   ]
  },
  {
   "cell_type": "code",
   "execution_count": 1,
   "metadata": {
    "collapsed": true
   },
   "outputs": [],
   "source": [
    "import pandas as pd"
   ]
  },
  {
   "cell_type": "code",
   "execution_count": 38,
   "metadata": {},
   "outputs": [
    {
     "data": {
      "text/html": [
       "<div>\n",
       "<style scoped>\n",
       "    .dataframe tbody tr th:only-of-type {\n",
       "        vertical-align: middle;\n",
       "    }\n",
       "\n",
       "    .dataframe tbody tr th {\n",
       "        vertical-align: top;\n",
       "    }\n",
       "\n",
       "    .dataframe thead th {\n",
       "        text-align: right;\n",
       "    }\n",
       "</style>\n",
       "<table border=\"1\" class=\"dataframe\">\n",
       "  <thead>\n",
       "    <tr style=\"text-align: right;\">\n",
       "      <th></th>\n",
       "      <th>FILM</th>\n",
       "      <th>RottenTomatoes</th>\n",
       "      <th>RottenTomatoes_User</th>\n",
       "      <th>Metacritic</th>\n",
       "      <th>Metacritic_User</th>\n",
       "      <th>IMDB</th>\n",
       "      <th>Fandango_Stars</th>\n",
       "      <th>Fandango_Ratingvalue</th>\n",
       "      <th>RT_norm</th>\n",
       "      <th>RT_user_norm</th>\n",
       "      <th>...</th>\n",
       "      <th>IMDB_norm</th>\n",
       "      <th>RT_norm_round</th>\n",
       "      <th>RT_user_norm_round</th>\n",
       "      <th>Metacritic_norm_round</th>\n",
       "      <th>Metacritic_user_norm_round</th>\n",
       "      <th>IMDB_norm_round</th>\n",
       "      <th>Metacritic_user_vote_count</th>\n",
       "      <th>IMDB_user_vote_count</th>\n",
       "      <th>Fandango_votes</th>\n",
       "      <th>Fandango_Difference</th>\n",
       "    </tr>\n",
       "  </thead>\n",
       "  <tbody>\n",
       "    <tr>\n",
       "      <th>0</th>\n",
       "      <td>Avengers: Age of Ultron (2015)</td>\n",
       "      <td>74</td>\n",
       "      <td>86</td>\n",
       "      <td>66</td>\n",
       "      <td>7.1</td>\n",
       "      <td>7.8</td>\n",
       "      <td>5.0</td>\n",
       "      <td>4.5</td>\n",
       "      <td>3.70</td>\n",
       "      <td>4.3</td>\n",
       "      <td>...</td>\n",
       "      <td>3.90</td>\n",
       "      <td>3.5</td>\n",
       "      <td>4.5</td>\n",
       "      <td>3.5</td>\n",
       "      <td>3.5</td>\n",
       "      <td>4.0</td>\n",
       "      <td>1330</td>\n",
       "      <td>271107</td>\n",
       "      <td>14846</td>\n",
       "      <td>0.5</td>\n",
       "    </tr>\n",
       "    <tr>\n",
       "      <th>1</th>\n",
       "      <td>Cinderella (2015)</td>\n",
       "      <td>85</td>\n",
       "      <td>80</td>\n",
       "      <td>67</td>\n",
       "      <td>7.5</td>\n",
       "      <td>7.1</td>\n",
       "      <td>5.0</td>\n",
       "      <td>4.5</td>\n",
       "      <td>4.25</td>\n",
       "      <td>4.0</td>\n",
       "      <td>...</td>\n",
       "      <td>3.55</td>\n",
       "      <td>4.5</td>\n",
       "      <td>4.0</td>\n",
       "      <td>3.5</td>\n",
       "      <td>4.0</td>\n",
       "      <td>3.5</td>\n",
       "      <td>249</td>\n",
       "      <td>65709</td>\n",
       "      <td>12640</td>\n",
       "      <td>0.5</td>\n",
       "    </tr>\n",
       "    <tr>\n",
       "      <th>2</th>\n",
       "      <td>Ant-Man (2015)</td>\n",
       "      <td>80</td>\n",
       "      <td>90</td>\n",
       "      <td>64</td>\n",
       "      <td>8.1</td>\n",
       "      <td>7.8</td>\n",
       "      <td>5.0</td>\n",
       "      <td>4.5</td>\n",
       "      <td>4.00</td>\n",
       "      <td>4.5</td>\n",
       "      <td>...</td>\n",
       "      <td>3.90</td>\n",
       "      <td>4.0</td>\n",
       "      <td>4.5</td>\n",
       "      <td>3.0</td>\n",
       "      <td>4.0</td>\n",
       "      <td>4.0</td>\n",
       "      <td>627</td>\n",
       "      <td>103660</td>\n",
       "      <td>12055</td>\n",
       "      <td>0.5</td>\n",
       "    </tr>\n",
       "    <tr>\n",
       "      <th>3</th>\n",
       "      <td>Do You Believe? (2015)</td>\n",
       "      <td>18</td>\n",
       "      <td>84</td>\n",
       "      <td>22</td>\n",
       "      <td>4.7</td>\n",
       "      <td>5.4</td>\n",
       "      <td>5.0</td>\n",
       "      <td>4.5</td>\n",
       "      <td>0.90</td>\n",
       "      <td>4.2</td>\n",
       "      <td>...</td>\n",
       "      <td>2.70</td>\n",
       "      <td>1.0</td>\n",
       "      <td>4.0</td>\n",
       "      <td>1.0</td>\n",
       "      <td>2.5</td>\n",
       "      <td>2.5</td>\n",
       "      <td>31</td>\n",
       "      <td>3136</td>\n",
       "      <td>1793</td>\n",
       "      <td>0.5</td>\n",
       "    </tr>\n",
       "    <tr>\n",
       "      <th>4</th>\n",
       "      <td>Hot Tub Time Machine 2 (2015)</td>\n",
       "      <td>14</td>\n",
       "      <td>28</td>\n",
       "      <td>29</td>\n",
       "      <td>3.4</td>\n",
       "      <td>5.1</td>\n",
       "      <td>3.5</td>\n",
       "      <td>3.0</td>\n",
       "      <td>0.70</td>\n",
       "      <td>1.4</td>\n",
       "      <td>...</td>\n",
       "      <td>2.55</td>\n",
       "      <td>0.5</td>\n",
       "      <td>1.5</td>\n",
       "      <td>1.5</td>\n",
       "      <td>1.5</td>\n",
       "      <td>2.5</td>\n",
       "      <td>88</td>\n",
       "      <td>19560</td>\n",
       "      <td>1021</td>\n",
       "      <td>0.5</td>\n",
       "    </tr>\n",
       "  </tbody>\n",
       "</table>\n",
       "<p>5 rows × 22 columns</p>\n",
       "</div>"
      ],
      "text/plain": [
       "                             FILM  RottenTomatoes  RottenTomatoes_User  \\\n",
       "0  Avengers: Age of Ultron (2015)              74                   86   \n",
       "1               Cinderella (2015)              85                   80   \n",
       "2                  Ant-Man (2015)              80                   90   \n",
       "3          Do You Believe? (2015)              18                   84   \n",
       "4   Hot Tub Time Machine 2 (2015)              14                   28   \n",
       "\n",
       "   Metacritic  Metacritic_User  IMDB  Fandango_Stars  Fandango_Ratingvalue  \\\n",
       "0          66              7.1   7.8             5.0                   4.5   \n",
       "1          67              7.5   7.1             5.0                   4.5   \n",
       "2          64              8.1   7.8             5.0                   4.5   \n",
       "3          22              4.7   5.4             5.0                   4.5   \n",
       "4          29              3.4   5.1             3.5                   3.0   \n",
       "\n",
       "   RT_norm  RT_user_norm         ...           IMDB_norm  RT_norm_round  \\\n",
       "0     3.70           4.3         ...                3.90            3.5   \n",
       "1     4.25           4.0         ...                3.55            4.5   \n",
       "2     4.00           4.5         ...                3.90            4.0   \n",
       "3     0.90           4.2         ...                2.70            1.0   \n",
       "4     0.70           1.4         ...                2.55            0.5   \n",
       "\n",
       "   RT_user_norm_round  Metacritic_norm_round  Metacritic_user_norm_round  \\\n",
       "0                 4.5                    3.5                         3.5   \n",
       "1                 4.0                    3.5                         4.0   \n",
       "2                 4.5                    3.0                         4.0   \n",
       "3                 4.0                    1.0                         2.5   \n",
       "4                 1.5                    1.5                         1.5   \n",
       "\n",
       "   IMDB_norm_round  Metacritic_user_vote_count  IMDB_user_vote_count  \\\n",
       "0              4.0                        1330                271107   \n",
       "1              3.5                         249                 65709   \n",
       "2              4.0                         627                103660   \n",
       "3              2.5                          31                  3136   \n",
       "4              2.5                          88                 19560   \n",
       "\n",
       "   Fandango_votes  Fandango_Difference  \n",
       "0           14846                  0.5  \n",
       "1           12640                  0.5  \n",
       "2           12055                  0.5  \n",
       "3            1793                  0.5  \n",
       "4            1021                  0.5  \n",
       "\n",
       "[5 rows x 22 columns]"
      ]
     },
     "execution_count": 38,
     "metadata": {},
     "output_type": "execute_result"
    }
   ],
   "source": [
    "fandango = pd.read_csv('fandango_score_comparison.csv', encoding='cp1252')\n",
    "fandango.head()"
   ]
  },
  {
   "cell_type": "code",
   "execution_count": 39,
   "metadata": {},
   "outputs": [
    {
     "name": "stdout",
     "output_type": "stream",
     "text": [
      "0    Avengers: Age of Ultron (2015)\n",
      "1                 Cinderella (2015)\n",
      "2                    Ant-Man (2015)\n",
      "3            Do You Believe? (2015)\n",
      "4     Hot Tub Time Machine 2 (2015)\n",
      "5          The Water Diviner (2015)\n",
      "6             Irrational Man (2015)\n",
      "7                   Top Five (2014)\n",
      "8      Shaun the Sheep Movie (2015)\n",
      "9               Love & Mercy (2015)\n",
      "Name: FILM, dtype: object\n"
     ]
    }
   ],
   "source": [
    "series_film = fandango.iloc[:, 0]\n",
    "print(series_film[:10])"
   ]
  },
  {
   "cell_type": "code",
   "execution_count": 40,
   "metadata": {},
   "outputs": [
    {
     "name": "stdout",
     "output_type": "stream",
     "text": [
      "0    74\n",
      "1    85\n",
      "2    80\n",
      "3    18\n",
      "4    14\n",
      "5    63\n",
      "6    42\n",
      "7    86\n",
      "8    99\n",
      "9    89\n",
      "Name: RottenTomatoes, dtype: int64\n"
     ]
    }
   ],
   "source": [
    "series_rt = fandango.iloc[:, 1]\n",
    "print(series_rt[:10])"
   ]
  },
  {
   "cell_type": "code",
   "execution_count": 41,
   "metadata": {
    "collapsed": true
   },
   "outputs": [],
   "source": [
    "from pandas import Series"
   ]
  },
  {
   "cell_type": "code",
   "execution_count": 42,
   "metadata": {},
   "outputs": [
    {
     "name": "stdout",
     "output_type": "stream",
     "text": [
      "['Avengers: Age of Ultron (2015)' 'Cinderella (2015)' 'Ant-Man (2015)'\n",
      " 'Do You Believe? (2015)' 'Hot Tub Time Machine 2 (2015)'\n",
      " 'The Water Diviner (2015)' 'Irrational Man (2015)' 'Top Five (2014)'\n",
      " 'Shaun the Sheep Movie (2015)' 'Love & Mercy (2015)']\n"
     ]
    }
   ],
   "source": [
    "# index를 빼고 출력\n",
    "film_names = series_film.values\n",
    "print(film_names[:10])"
   ]
  },
  {
   "cell_type": "code",
   "execution_count": 43,
   "metadata": {},
   "outputs": [
    {
     "name": "stdout",
     "output_type": "stream",
     "text": [
      "[74 85 80 18 14 63 42 86 99 89]\n"
     ]
    }
   ],
   "source": [
    "rt_scores = series_rt.values\n",
    "print(rt_scores[:10])"
   ]
  },
  {
   "cell_type": "code",
   "execution_count": 44,
   "metadata": {
    "collapsed": true
   },
   "outputs": [],
   "source": [
    "series_custom = Series(rt_scores, index=film_names)"
   ]
  },
  {
   "cell_type": "code",
   "execution_count": 45,
   "metadata": {},
   "outputs": [
    {
     "name": "stdout",
     "output_type": "stream",
     "text": [
      "Avengers: Age of Ultron (2015)                     74\n",
      "Cinderella (2015)                                  85\n",
      "Ant-Man (2015)                                     80\n",
      "Do You Believe? (2015)                             18\n",
      "Hot Tub Time Machine 2 (2015)                      14\n",
      "The Water Diviner (2015)                           63\n",
      "Irrational Man (2015)                              42\n",
      "Top Five (2014)                                    86\n",
      "Shaun the Sheep Movie (2015)                       99\n",
      "Love & Mercy (2015)                                89\n",
      "Far From The Madding Crowd (2015)                  84\n",
      "Black Sea (2015)                                   82\n",
      "Leviathan (2014)                                   99\n",
      "Unbroken (2014)                                    51\n",
      "The Imitation Game (2014)                          90\n",
      "Taken 3 (2015)                                      9\n",
      "Ted 2 (2015)                                       46\n",
      "Southpaw (2015)                                    59\n",
      "Night at the Museum: Secret of the Tomb (2014)     50\n",
      "Pixels (2015)                                      17\n",
      "McFarland, USA (2015)                              79\n",
      "Insidious: Chapter 3 (2015)                        59\n",
      "The Man From U.N.C.L.E. (2015)                     68\n",
      "Run All Night (2015)                               60\n",
      "Trainwreck (2015)                                  85\n",
      "Selma (2014)                                       99\n",
      "Ex Machina (2015)                                  92\n",
      "Still Alice (2015)                                 88\n",
      "Wild Tales (2014)                                  96\n",
      "The End of the Tour (2015)                         92\n",
      "                                                 ... \n",
      "Clouds of Sils Maria (2015)                        89\n",
      "Testament of Youth (2015)                          81\n",
      "Infinitely Polar Bear (2015)                       80\n",
      "Phoenix (2015)                                     99\n",
      "The Wolfpack (2015)                                84\n",
      "The Stanford Prison Experiment (2015)              84\n",
      "Tangerine (2015)                                   95\n",
      "Magic Mike XXL (2015)                              62\n",
      "Home (2015)                                        45\n",
      "The Wedding Ringer (2015)                          27\n",
      "Woman in Gold (2015)                               52\n",
      "The Last Five Years (2015)                         60\n",
      "Mission: Impossible Ã¢?¬â€?Rogue Nation (2015)     92\n",
      "Amy (2015)                                         97\n",
      "Jurassic World (2015)                              71\n",
      "Minions (2015)                                     54\n",
      "Max (2015)                                         35\n",
      "Paul Blart: Mall Cop 2 (2015)                       5\n",
      "The Longest Ride (2015)                            31\n",
      "The Lazarus Effect (2015)                          14\n",
      "The Woman In Black 2 Angel of Death (2015)         22\n",
      "Danny Collins (2015)                               77\n",
      "Spare Parts (2015)                                 52\n",
      "Serena (2015)                                      18\n",
      "Inside Out (2015)                                  98\n",
      "Mr. Holmes (2015)                                  87\n",
      "'71 (2015)                                         97\n",
      "Two Days, One Night (2014)                         97\n",
      "Gett: The Trial of Viviane Amsalem (2015)         100\n",
      "Kumiko, The Treasure Hunter (2015)                 87\n",
      "Length: 146, dtype: int64\n"
     ]
    }
   ],
   "source": [
    "print(series_custom)"
   ]
  },
  {
   "cell_type": "code",
   "execution_count": 46,
   "metadata": {},
   "outputs": [
    {
     "data": {
      "text/plain": [
       "Minions (2015)    54\n",
       "dtype: int64"
      ]
     },
     "execution_count": 46,
     "metadata": {},
     "output_type": "execute_result"
    }
   ],
   "source": [
    "series_custom[['Minions (2015)']]"
   ]
  },
  {
   "cell_type": "code",
   "execution_count": 49,
   "metadata": {},
   "outputs": [
    {
     "data": {
      "text/plain": [
       "Minions (2015)      54\n",
       "Leviathan (2014)    99\n",
       "dtype: int64"
      ]
     },
     "execution_count": 49,
     "metadata": {},
     "output_type": "execute_result"
    }
   ],
   "source": [
    "series_custom[['Minions (2015)', 'Leviathan (2014)']]"
   ]
  },
  {
   "cell_type": "code",
   "execution_count": 50,
   "metadata": {},
   "outputs": [
    {
     "name": "stdout",
     "output_type": "stream",
     "text": [
      "The Water Diviner (2015)             63\n",
      "Irrational Man (2015)                42\n",
      "Top Five (2014)                      86\n",
      "Shaun the Sheep Movie (2015)         99\n",
      "Love & Mercy (2015)                  89\n",
      "Far From The Madding Crowd (2015)    84\n",
      "dtype: int64\n"
     ]
    }
   ],
   "source": [
    "fiveten = series_custom[5:11]\n",
    "print(fiveten)"
   ]
  },
  {
   "cell_type": "code",
   "execution_count": 51,
   "metadata": {},
   "outputs": [
    {
     "name": "stdout",
     "output_type": "stream",
     "text": [
      "Index(['Avengers: Age of Ultron (2015)', 'Cinderella (2015)', 'Ant-Man (2015)',\n",
      "       'Do You Believe? (2015)', 'Hot Tub Time Machine 2 (2015)',\n",
      "       'The Water Diviner (2015)', 'Irrational Man (2015)', 'Top Five (2014)',\n",
      "       'Shaun the Sheep Movie (2015)', 'Love & Mercy (2015)'],\n",
      "      dtype='object')\n"
     ]
    }
   ],
   "source": [
    "original_index = series_custom.index\n",
    "print(original_index[:10])"
   ]
  },
  {
   "cell_type": "code",
   "execution_count": 52,
   "metadata": {},
   "outputs": [
    {
     "name": "stdout",
     "output_type": "stream",
     "text": [
      "[\"'71 (2015)\", '5 Flights Up (2015)', 'A Little Chaos (2015)', 'A Most Violent Year (2014)', 'About Elly (2015)', 'Aloha (2015)', 'American Sniper (2015)', 'American Ultra (2015)', 'Amy (2015)', 'Annie (2014)']\n"
     ]
    }
   ],
   "source": [
    "sorted_index = sorted(original_index)\n",
    "print(sorted_index[:10])"
   ]
  },
  {
   "cell_type": "code",
   "execution_count": 53,
   "metadata": {},
   "outputs": [
    {
     "name": "stdout",
     "output_type": "stream",
     "text": [
      "'71 (2015)                    97\n",
      "5 Flights Up (2015)           52\n",
      "A Little Chaos (2015)         40\n",
      "A Most Violent Year (2014)    90\n",
      "About Elly (2015)             97\n",
      "Aloha (2015)                  19\n",
      "American Sniper (2015)        72\n",
      "American Ultra (2015)         46\n",
      "Amy (2015)                    97\n",
      "Annie (2014)                  27\n",
      "dtype: int64\n"
     ]
    }
   ],
   "source": [
    "sorted_by_index = series_custom.reindex(sorted_index)\n",
    "print(sorted_by_index[:10])"
   ]
  },
  {
   "cell_type": "code",
   "execution_count": 54,
   "metadata": {},
   "outputs": [
    {
     "name": "stdout",
     "output_type": "stream",
     "text": [
      "'71 (2015)                    97\n",
      "5 Flights Up (2015)           52\n",
      "A Little Chaos (2015)         40\n",
      "A Most Violent Year (2014)    90\n",
      "About Elly (2015)             97\n",
      "Aloha (2015)                  19\n",
      "American Sniper (2015)        72\n",
      "American Ultra (2015)         46\n",
      "Amy (2015)                    97\n",
      "Annie (2014)                  27\n",
      "dtype: int64\n"
     ]
    }
   ],
   "source": [
    "sc2 = series_custom.sort_index()\n",
    "print(sc2[:10])"
   ]
  },
  {
   "cell_type": "code",
   "execution_count": 55,
   "metadata": {},
   "outputs": [
    {
     "name": "stdout",
     "output_type": "stream",
     "text": [
      "Paul Blart: Mall Cop 2 (2015)                       5\n",
      "Hitman: Agent 47 (2015)                             7\n",
      "Hot Pursuit (2015)                                  8\n",
      "Fantastic Four (2015)                               9\n",
      "Taken 3 (2015)                                      9\n",
      "The Boy Next Door (2015)                           10\n",
      "The Loft (2015)                                    11\n",
      "Unfinished Business (2015)                         11\n",
      "Mortdecai (2015)                                   12\n",
      "Seventh Son (2015)                                 12\n",
      "The Vatican Tapes (2015)                           13\n",
      "Sinister 2 (2015)                                  13\n",
      "The Lazarus Effect (2015)                          14\n",
      "Hot Tub Time Machine 2 (2015)                      14\n",
      "The Gallows (2015)                                 16\n",
      "The Gunman (2015)                                  17\n",
      "Pixels (2015)                                      17\n",
      "Strange Magic (2015)                               17\n",
      "Do You Believe? (2015)                             18\n",
      "Serena (2015)                                      18\n",
      "Aloha (2015)                                       19\n",
      "Self/less (2015)                                   20\n",
      "Little Boy (2015)                                  20\n",
      "The Woman In Black 2 Angel of Death (2015)         22\n",
      "Fifty Shades of Grey (2015)                        25\n",
      "Terminator Genisys (2015)                          26\n",
      "Child 44 (2015)                                    26\n",
      "Dark Places (2015)                                 26\n",
      "Jupiter Ascending (2015)                           26\n",
      "Annie (2014)                                       27\n",
      "                                                 ... \n",
      "Ex Machina (2015)                                  92\n",
      "Mission: Impossible Ã¢?¬â€?Rogue Nation (2015)     92\n",
      "Spy (2015)                                         93\n",
      "The Gift (2015)                                    93\n",
      "The Wrecking Crew (2015)                           93\n",
      "Monkey Kingdom (2015)                              94\n",
      "I'll See You In My Dreams (2015)                   94\n",
      "Tangerine (2015)                                   95\n",
      "The Diary of a Teenage Girl (2015)                 95\n",
      "Wild Tales (2014)                                  96\n",
      "It Follows (2015)                                  96\n",
      "Red Army (2015)                                    96\n",
      "The Salt of the Earth (2015)                       96\n",
      "What We Do in the Shadows (2015)                   96\n",
      "'71 (2015)                                         97\n",
      "About Elly (2015)                                  97\n",
      "Two Days, One Night (2014)                         97\n",
      "Amy (2015)                                         97\n",
      "Mad Max: Fury Road (2015)                          97\n",
      "Inside Out (2015)                                  98\n",
      "Paddington (2015)                                  98\n",
      "Mr. Turner (2014)                                  98\n",
      "Timbuktu (2015)                                    99\n",
      "Shaun the Sheep Movie (2015)                       99\n",
      "Leviathan (2014)                                   99\n",
      "Song of the Sea (2014)                             99\n",
      "Phoenix (2015)                                     99\n",
      "Selma (2014)                                       99\n",
      "Seymour: An Introduction (2015)                   100\n",
      "Gett: The Trial of Viviane Amsalem (2015)         100\n",
      "Length: 146, dtype: int64\n"
     ]
    }
   ],
   "source": [
    "sc3 = series_custom.sort_values()\n",
    "print(sc3)"
   ]
  },
  {
   "cell_type": "markdown",
   "metadata": {},
   "source": [
    "# Vector"
   ]
  },
  {
   "cell_type": "code",
   "execution_count": 56,
   "metadata": {},
   "outputs": [
    {
     "name": "stdout",
     "output_type": "stream",
     "text": [
      "Avengers: Age of Ultron (2015)    3.70\n",
      "Cinderella (2015)                 4.25\n",
      "Ant-Man (2015)                    4.00\n",
      "Do You Believe? (2015)            0.90\n",
      "Hot Tub Time Machine 2 (2015)     0.70\n",
      "The Water Diviner (2015)          3.15\n",
      "Irrational Man (2015)             2.10\n",
      "Top Five (2014)                   4.30\n",
      "Shaun the Sheep Movie (2015)      4.95\n",
      "Love & Mercy (2015)               4.45\n",
      "dtype: float64\n"
     ]
    }
   ],
   "source": [
    "series_normalized = series_custom/20\n",
    "print(series_normalized[:10])"
   ]
  },
  {
   "cell_type": "code",
   "execution_count": 61,
   "metadata": {},
   "outputs": [
    {
     "name": "stdout",
     "output_type": "stream",
     "text": [
      "100\n",
      "5\n"
     ]
    }
   ],
   "source": [
    "print(series_custom.values.max())\n",
    "print(series_custom.values.min())"
   ]
  },
  {
   "cell_type": "markdown",
   "metadata": {},
   "source": [
    "## After normalized"
   ]
  },
  {
   "cell_type": "code",
   "execution_count": 62,
   "metadata": {},
   "outputs": [
    {
     "name": "stdout",
     "output_type": "stream",
     "text": [
      "5.0\n",
      "0.25\n"
     ]
    }
   ],
   "source": [
    "print(series_custom.values.max()/20)\n",
    "print(series_custom.values.min()/20)"
   ]
  },
  {
   "cell_type": "markdown",
   "metadata": {},
   "source": [
    "Pandas uses vectorized operations for many tasks, such as filtering values within a single Series object and comparing two different Series objects.\n",
    "\n",
    "<br>\n",
    "\n",
    "Pandas는 단일 Series 객체 내의 값 필터링 및 두 개의 다른 Series 객체 비교와 같은 많은 작업에 벡터화 된 작업을 사용합니다."
   ]
  },
  {
   "cell_type": "code",
   "execution_count": 63,
   "metadata": {},
   "outputs": [
    {
     "name": "stdout",
     "output_type": "stream",
     "text": [
      "Avengers: Age of Ultron (2015)                     True\n",
      "Cinderella (2015)                                  True\n",
      "Ant-Man (2015)                                     True\n",
      "Do You Believe? (2015)                            False\n",
      "Hot Tub Time Machine 2 (2015)                     False\n",
      "The Water Diviner (2015)                           True\n",
      "Irrational Man (2015)                             False\n",
      "Top Five (2014)                                    True\n",
      "Shaun the Sheep Movie (2015)                       True\n",
      "Love & Mercy (2015)                                True\n",
      "Far From The Madding Crowd (2015)                  True\n",
      "Black Sea (2015)                                   True\n",
      "Leviathan (2014)                                   True\n",
      "Unbroken (2014)                                    True\n",
      "The Imitation Game (2014)                          True\n",
      "Taken 3 (2015)                                    False\n",
      "Ted 2 (2015)                                      False\n",
      "Southpaw (2015)                                    True\n",
      "Night at the Museum: Secret of the Tomb (2014)    False\n",
      "Pixels (2015)                                     False\n",
      "McFarland, USA (2015)                              True\n",
      "Insidious: Chapter 3 (2015)                        True\n",
      "The Man From U.N.C.L.E. (2015)                     True\n",
      "Run All Night (2015)                               True\n",
      "Trainwreck (2015)                                  True\n",
      "Selma (2014)                                       True\n",
      "Ex Machina (2015)                                  True\n",
      "Still Alice (2015)                                 True\n",
      "Wild Tales (2014)                                  True\n",
      "The End of the Tour (2015)                         True\n",
      "                                                  ...  \n",
      "Clouds of Sils Maria (2015)                        True\n",
      "Testament of Youth (2015)                          True\n",
      "Infinitely Polar Bear (2015)                       True\n",
      "Phoenix (2015)                                     True\n",
      "The Wolfpack (2015)                                True\n",
      "The Stanford Prison Experiment (2015)              True\n",
      "Tangerine (2015)                                   True\n",
      "Magic Mike XXL (2015)                              True\n",
      "Home (2015)                                       False\n",
      "The Wedding Ringer (2015)                         False\n",
      "Woman in Gold (2015)                               True\n",
      "The Last Five Years (2015)                         True\n",
      "Mission: Impossible Ã¢?¬â€?Rogue Nation (2015)     True\n",
      "Amy (2015)                                         True\n",
      "Jurassic World (2015)                              True\n",
      "Minions (2015)                                     True\n",
      "Max (2015)                                        False\n",
      "Paul Blart: Mall Cop 2 (2015)                     False\n",
      "The Longest Ride (2015)                           False\n",
      "The Lazarus Effect (2015)                         False\n",
      "The Woman In Black 2 Angel of Death (2015)        False\n",
      "Danny Collins (2015)                               True\n",
      "Spare Parts (2015)                                 True\n",
      "Serena (2015)                                     False\n",
      "Inside Out (2015)                                  True\n",
      "Mr. Holmes (2015)                                  True\n",
      "'71 (2015)                                         True\n",
      "Two Days, One Night (2014)                         True\n",
      "Gett: The Trial of Viviane Amsalem (2015)          True\n",
      "Kumiko, The Treasure Hunter (2015)                 True\n",
      "Length: 146, dtype: bool\n"
     ]
    }
   ],
   "source": [
    "print(series_custom > 50)"
   ]
  },
  {
   "cell_type": "code",
   "execution_count": 64,
   "metadata": {},
   "outputs": [
    {
     "name": "stdout",
     "output_type": "stream",
     "text": [
      "Avengers: Age of Ultron (2015)                                             74\n",
      "Cinderella (2015)                                                          85\n",
      "Ant-Man (2015)                                                             80\n",
      "The Water Diviner (2015)                                                   63\n",
      "Top Five (2014)                                                            86\n",
      "Shaun the Sheep Movie (2015)                                               99\n",
      "Love & Mercy (2015)                                                        89\n",
      "Far From The Madding Crowd (2015)                                          84\n",
      "Black Sea (2015)                                                           82\n",
      "Leviathan (2014)                                                           99\n",
      "Unbroken (2014)                                                            51\n",
      "The Imitation Game (2014)                                                  90\n",
      "Southpaw (2015)                                                            59\n",
      "McFarland, USA (2015)                                                      79\n",
      "Insidious: Chapter 3 (2015)                                                59\n",
      "The Man From U.N.C.L.E. (2015)                                             68\n",
      "Run All Night (2015)                                                       60\n",
      "Trainwreck (2015)                                                          85\n",
      "Selma (2014)                                                               99\n",
      "Ex Machina (2015)                                                          92\n",
      "Still Alice (2015)                                                         88\n",
      "Wild Tales (2014)                                                          96\n",
      "The End of the Tour (2015)                                                 92\n",
      "Red Army (2015)                                                            96\n",
      "When Marnie Was There (2015)                                               89\n",
      "The Hunting Ground (2015)                                                  92\n",
      "5 Flights Up (2015)                                                        52\n",
      "Welcome to Me (2015)                                                       71\n",
      "Saint Laurent (2015)                                                       51\n",
      "Maps to the Stars (2015)                                                   60\n",
      "                                                                         ... \n",
      "The Second Best Exotic Marigold Hotel (2015)                               62\n",
      "The 100-Year-Old Man Who Climbed Out the Window and Disappeared (2015)     67\n",
      "Escobar: Paradise Lost (2015)                                              52\n",
      "Into the Woods (2014)                                                      71\n",
      "It Follows (2015)                                                          96\n",
      "Inherent Vice (2014)                                                       73\n",
      "A Most Violent Year (2014)                                                 90\n",
      "While We're Young (2015)                                                   83\n",
      "Clouds of Sils Maria (2015)                                                89\n",
      "Testament of Youth (2015)                                                  81\n",
      "Infinitely Polar Bear (2015)                                               80\n",
      "Phoenix (2015)                                                             99\n",
      "The Wolfpack (2015)                                                        84\n",
      "The Stanford Prison Experiment (2015)                                      84\n",
      "Tangerine (2015)                                                           95\n",
      "Magic Mike XXL (2015)                                                      62\n",
      "Woman in Gold (2015)                                                       52\n",
      "The Last Five Years (2015)                                                 60\n",
      "Mission: Impossible Ã¢?¬â€?Rogue Nation (2015)                             92\n",
      "Amy (2015)                                                                 97\n",
      "Jurassic World (2015)                                                      71\n",
      "Minions (2015)                                                             54\n",
      "Danny Collins (2015)                                                       77\n",
      "Spare Parts (2015)                                                         52\n",
      "Inside Out (2015)                                                          98\n",
      "Mr. Holmes (2015)                                                          87\n",
      "'71 (2015)                                                                 97\n",
      "Two Days, One Night (2014)                                                 97\n",
      "Gett: The Trial of Viviane Amsalem (2015)                                 100\n",
      "Kumiko, The Treasure Hunter (2015)                                         87\n",
      "Length: 94, dtype: int64\n"
     ]
    }
   ],
   "source": [
    "series_greater_than_50 = series_custom[series_custom > 50]\n",
    "print(series_greater_than_50)"
   ]
  },
  {
   "cell_type": "markdown",
   "metadata": {},
   "source": [
    "Pandas는 논리의 중간 표현으로 사용되는 부울 시리즈 객체를 반환합니다. \n",
    "<br> From dataquest.io [8.Comparing and Filtering](https://www.dataquest.io/m/78/pandas-internals%3A-series/8/comparing-and-filtering)"
   ]
  },
  {
   "cell_type": "code",
   "execution_count": 66,
   "metadata": {
    "collapsed": true
   },
   "outputs": [],
   "source": [
    "criteria_one = series_custom > 50\n",
    "criteria_two = series_custom < 75"
   ]
  },
  {
   "cell_type": "code",
   "execution_count": 67,
   "metadata": {},
   "outputs": [
    {
     "name": "stdout",
     "output_type": "stream",
     "text": [
      "Avengers: Age of Ultron (2015)                                            74\n",
      "The Water Diviner (2015)                                                  63\n",
      "Unbroken (2014)                                                           51\n",
      "Southpaw (2015)                                                           59\n",
      "Insidious: Chapter 3 (2015)                                               59\n",
      "The Man From U.N.C.L.E. (2015)                                            68\n",
      "Run All Night (2015)                                                      60\n",
      "5 Flights Up (2015)                                                       52\n",
      "Welcome to Me (2015)                                                      71\n",
      "Saint Laurent (2015)                                                      51\n",
      "Maps to the Stars (2015)                                                  60\n",
      "Pitch Perfect 2 (2015)                                                    67\n",
      "The Age of Adaline (2015)                                                 54\n",
      "The DUFF (2015)                                                           71\n",
      "Ricki and the Flash (2015)                                                64\n",
      "Unfriended (2015)                                                         60\n",
      "American Sniper (2015)                                                    72\n",
      "The Hobbit: The Battle of the Five Armies (2014)                          61\n",
      "Paper Towns (2015)                                                        55\n",
      "Big Eyes (2014)                                                           72\n",
      "Maggie (2015)                                                             54\n",
      "Focus (2015)                                                              57\n",
      "The Second Best Exotic Marigold Hotel (2015)                              62\n",
      "The 100-Year-Old Man Who Climbed Out the Window and Disappeared (2015)    67\n",
      "Escobar: Paradise Lost (2015)                                             52\n",
      "Into the Woods (2014)                                                     71\n",
      "Inherent Vice (2014)                                                      73\n",
      "Magic Mike XXL (2015)                                                     62\n",
      "Woman in Gold (2015)                                                      52\n",
      "The Last Five Years (2015)                                                60\n",
      "Jurassic World (2015)                                                     71\n",
      "Minions (2015)                                                            54\n",
      "Spare Parts (2015)                                                        52\n",
      "dtype: int64\n"
     ]
    }
   ],
   "source": [
    "both_criteria = series_custom[criteria_one & criteria_two]\n",
    "print(both_criteria)"
   ]
  },
  {
   "cell_type": "code",
   "execution_count": 69,
   "metadata": {},
   "outputs": [
    {
     "name": "stdout",
     "output_type": "stream",
     "text": [
      "Avengers: Age of Ultron (2015)                                            74\n",
      "The Water Diviner (2015)                                                  63\n",
      "Unbroken (2014)                                                           51\n",
      "Southpaw (2015)                                                           59\n",
      "Insidious: Chapter 3 (2015)                                               59\n",
      "The Man From U.N.C.L.E. (2015)                                            68\n",
      "Run All Night (2015)                                                      60\n",
      "5 Flights Up (2015)                                                       52\n",
      "Welcome to Me (2015)                                                      71\n",
      "Saint Laurent (2015)                                                      51\n",
      "Maps to the Stars (2015)                                                  60\n",
      "Pitch Perfect 2 (2015)                                                    67\n",
      "The Age of Adaline (2015)                                                 54\n",
      "The DUFF (2015)                                                           71\n",
      "Ricki and the Flash (2015)                                                64\n",
      "Unfriended (2015)                                                         60\n",
      "American Sniper (2015)                                                    72\n",
      "The Hobbit: The Battle of the Five Armies (2014)                          61\n",
      "Paper Towns (2015)                                                        55\n",
      "Big Eyes (2014)                                                           72\n",
      "Maggie (2015)                                                             54\n",
      "Focus (2015)                                                              57\n",
      "The Second Best Exotic Marigold Hotel (2015)                              62\n",
      "The 100-Year-Old Man Who Climbed Out the Window and Disappeared (2015)    67\n",
      "Escobar: Paradise Lost (2015)                                             52\n",
      "Into the Woods (2014)                                                     71\n",
      "Inherent Vice (2014)                                                      73\n",
      "Magic Mike XXL (2015)                                                     62\n",
      "Woman in Gold (2015)                                                      52\n",
      "The Last Five Years (2015)                                                60\n",
      "Jurassic World (2015)                                                     71\n",
      "Minions (2015)                                                            54\n",
      "Spare Parts (2015)                                                        52\n",
      "dtype: int64\n"
     ]
    }
   ],
   "source": [
    "both_criteria = series_custom[(series_custom > 50) & (series_custom < 75)]\n",
    "print(both_criteria)"
   ]
  },
  {
   "cell_type": "code",
   "execution_count": null,
   "metadata": {
    "collapsed": true
   },
   "outputs": [],
   "source": []
  },
  {
   "cell_type": "code",
   "execution_count": null,
   "metadata": {
    "collapsed": true
   },
   "outputs": [],
   "source": []
  },
  {
   "cell_type": "code",
   "execution_count": null,
   "metadata": {
    "collapsed": true
   },
   "outputs": [],
   "source": []
  },
  {
   "cell_type": "code",
   "execution_count": 2,
   "metadata": {
    "scrolled": true
   },
   "outputs": [
    {
     "data": {
      "text/html": [
       "<div>\n",
       "<style scoped>\n",
       "    .dataframe tbody tr th:only-of-type {\n",
       "        vertical-align: middle;\n",
       "    }\n",
       "\n",
       "    .dataframe tbody tr th {\n",
       "        vertical-align: top;\n",
       "    }\n",
       "\n",
       "    .dataframe thead th {\n",
       "        text-align: right;\n",
       "    }\n",
       "</style>\n",
       "<table border=\"1\" class=\"dataframe\">\n",
       "  <thead>\n",
       "    <tr style=\"text-align: right;\">\n",
       "      <th></th>\n",
       "      <th>FILM</th>\n",
       "      <th>RottenTomatoes</th>\n",
       "      <th>RottenTomatoes_User</th>\n",
       "      <th>Metacritic</th>\n",
       "      <th>Metacritic_User</th>\n",
       "      <th>IMDB</th>\n",
       "      <th>Fandango_Stars</th>\n",
       "      <th>Fandango_Ratingvalue</th>\n",
       "      <th>RT_norm</th>\n",
       "      <th>RT_user_norm</th>\n",
       "      <th>...</th>\n",
       "      <th>IMDB_norm</th>\n",
       "      <th>RT_norm_round</th>\n",
       "      <th>RT_user_norm_round</th>\n",
       "      <th>Metacritic_norm_round</th>\n",
       "      <th>Metacritic_user_norm_round</th>\n",
       "      <th>IMDB_norm_round</th>\n",
       "      <th>Metacritic_user_vote_count</th>\n",
       "      <th>IMDB_user_vote_count</th>\n",
       "      <th>Fandango_votes</th>\n",
       "      <th>Fandango_Difference</th>\n",
       "    </tr>\n",
       "  </thead>\n",
       "  <tbody>\n",
       "    <tr>\n",
       "      <th>0</th>\n",
       "      <td>Avengers: Age of Ultron (2015)</td>\n",
       "      <td>74</td>\n",
       "      <td>86</td>\n",
       "      <td>66</td>\n",
       "      <td>7.1</td>\n",
       "      <td>7.8</td>\n",
       "      <td>5.0</td>\n",
       "      <td>4.5</td>\n",
       "      <td>3.70</td>\n",
       "      <td>4.3</td>\n",
       "      <td>...</td>\n",
       "      <td>3.90</td>\n",
       "      <td>3.5</td>\n",
       "      <td>4.5</td>\n",
       "      <td>3.5</td>\n",
       "      <td>3.5</td>\n",
       "      <td>4.0</td>\n",
       "      <td>1330</td>\n",
       "      <td>271107</td>\n",
       "      <td>14846</td>\n",
       "      <td>0.5</td>\n",
       "    </tr>\n",
       "    <tr>\n",
       "      <th>1</th>\n",
       "      <td>Cinderella (2015)</td>\n",
       "      <td>85</td>\n",
       "      <td>80</td>\n",
       "      <td>67</td>\n",
       "      <td>7.5</td>\n",
       "      <td>7.1</td>\n",
       "      <td>5.0</td>\n",
       "      <td>4.5</td>\n",
       "      <td>4.25</td>\n",
       "      <td>4.0</td>\n",
       "      <td>...</td>\n",
       "      <td>3.55</td>\n",
       "      <td>4.5</td>\n",
       "      <td>4.0</td>\n",
       "      <td>3.5</td>\n",
       "      <td>4.0</td>\n",
       "      <td>3.5</td>\n",
       "      <td>249</td>\n",
       "      <td>65709</td>\n",
       "      <td>12640</td>\n",
       "      <td>0.5</td>\n",
       "    </tr>\n",
       "    <tr>\n",
       "      <th>2</th>\n",
       "      <td>Ant-Man (2015)</td>\n",
       "      <td>80</td>\n",
       "      <td>90</td>\n",
       "      <td>64</td>\n",
       "      <td>8.1</td>\n",
       "      <td>7.8</td>\n",
       "      <td>5.0</td>\n",
       "      <td>4.5</td>\n",
       "      <td>4.00</td>\n",
       "      <td>4.5</td>\n",
       "      <td>...</td>\n",
       "      <td>3.90</td>\n",
       "      <td>4.0</td>\n",
       "      <td>4.5</td>\n",
       "      <td>3.0</td>\n",
       "      <td>4.0</td>\n",
       "      <td>4.0</td>\n",
       "      <td>627</td>\n",
       "      <td>103660</td>\n",
       "      <td>12055</td>\n",
       "      <td>0.5</td>\n",
       "    </tr>\n",
       "    <tr>\n",
       "      <th>3</th>\n",
       "      <td>Do You Believe? (2015)</td>\n",
       "      <td>18</td>\n",
       "      <td>84</td>\n",
       "      <td>22</td>\n",
       "      <td>4.7</td>\n",
       "      <td>5.4</td>\n",
       "      <td>5.0</td>\n",
       "      <td>4.5</td>\n",
       "      <td>0.90</td>\n",
       "      <td>4.2</td>\n",
       "      <td>...</td>\n",
       "      <td>2.70</td>\n",
       "      <td>1.0</td>\n",
       "      <td>4.0</td>\n",
       "      <td>1.0</td>\n",
       "      <td>2.5</td>\n",
       "      <td>2.5</td>\n",
       "      <td>31</td>\n",
       "      <td>3136</td>\n",
       "      <td>1793</td>\n",
       "      <td>0.5</td>\n",
       "    </tr>\n",
       "    <tr>\n",
       "      <th>4</th>\n",
       "      <td>Hot Tub Time Machine 2 (2015)</td>\n",
       "      <td>14</td>\n",
       "      <td>28</td>\n",
       "      <td>29</td>\n",
       "      <td>3.4</td>\n",
       "      <td>5.1</td>\n",
       "      <td>3.5</td>\n",
       "      <td>3.0</td>\n",
       "      <td>0.70</td>\n",
       "      <td>1.4</td>\n",
       "      <td>...</td>\n",
       "      <td>2.55</td>\n",
       "      <td>0.5</td>\n",
       "      <td>1.5</td>\n",
       "      <td>1.5</td>\n",
       "      <td>1.5</td>\n",
       "      <td>2.5</td>\n",
       "      <td>88</td>\n",
       "      <td>19560</td>\n",
       "      <td>1021</td>\n",
       "      <td>0.5</td>\n",
       "    </tr>\n",
       "  </tbody>\n",
       "</table>\n",
       "<p>5 rows × 22 columns</p>\n",
       "</div>"
      ],
      "text/plain": [
       "                             FILM  RottenTomatoes  RottenTomatoes_User  \\\n",
       "0  Avengers: Age of Ultron (2015)              74                   86   \n",
       "1               Cinderella (2015)              85                   80   \n",
       "2                  Ant-Man (2015)              80                   90   \n",
       "3          Do You Believe? (2015)              18                   84   \n",
       "4   Hot Tub Time Machine 2 (2015)              14                   28   \n",
       "\n",
       "   Metacritic  Metacritic_User  IMDB  Fandango_Stars  Fandango_Ratingvalue  \\\n",
       "0          66              7.1   7.8             5.0                   4.5   \n",
       "1          67              7.5   7.1             5.0                   4.5   \n",
       "2          64              8.1   7.8             5.0                   4.5   \n",
       "3          22              4.7   5.4             5.0                   4.5   \n",
       "4          29              3.4   5.1             3.5                   3.0   \n",
       "\n",
       "   RT_norm  RT_user_norm         ...           IMDB_norm  RT_norm_round  \\\n",
       "0     3.70           4.3         ...                3.90            3.5   \n",
       "1     4.25           4.0         ...                3.55            4.5   \n",
       "2     4.00           4.5         ...                3.90            4.0   \n",
       "3     0.90           4.2         ...                2.70            1.0   \n",
       "4     0.70           1.4         ...                2.55            0.5   \n",
       "\n",
       "   RT_user_norm_round  Metacritic_norm_round  Metacritic_user_norm_round  \\\n",
       "0                 4.5                    3.5                         3.5   \n",
       "1                 4.0                    3.5                         4.0   \n",
       "2                 4.5                    3.0                         4.0   \n",
       "3                 4.0                    1.0                         2.5   \n",
       "4                 1.5                    1.5                         1.5   \n",
       "\n",
       "   IMDB_norm_round  Metacritic_user_vote_count  IMDB_user_vote_count  \\\n",
       "0              4.0                        1330                271107   \n",
       "1              3.5                         249                 65709   \n",
       "2              4.0                         627                103660   \n",
       "3              2.5                          31                  3136   \n",
       "4              2.5                          88                 19560   \n",
       "\n",
       "   Fandango_votes  Fandango_Difference  \n",
       "0           14846                  0.5  \n",
       "1           12640                  0.5  \n",
       "2           12055                  0.5  \n",
       "3            1793                  0.5  \n",
       "4            1021                  0.5  \n",
       "\n",
       "[5 rows x 22 columns]"
      ]
     },
     "execution_count": 2,
     "metadata": {},
     "output_type": "execute_result"
    }
   ],
   "source": [
    "fandango = pd.read_csv('fandango_score_comparison.csv', encoding='cp1252')\n",
    "fandango.head()"
   ]
  },
  {
   "cell_type": "code",
   "execution_count": null,
   "metadata": {
    "collapsed": true
   },
   "outputs": [],
   "source": []
  },
  {
   "cell_type": "code",
   "execution_count": null,
   "metadata": {
    "collapsed": true
   },
   "outputs": [],
   "source": []
  },
  {
   "cell_type": "code",
   "execution_count": null,
   "metadata": {
    "collapsed": true
   },
   "outputs": [],
   "source": []
  },
  {
   "cell_type": "code",
   "execution_count": 3,
   "metadata": {},
   "outputs": [
    {
     "name": "stdout",
     "output_type": "stream",
     "text": [
      "0                      Avengers: Age of Ultron (2015)\n",
      "1                                   Cinderella (2015)\n",
      "2                                      Ant-Man (2015)\n",
      "3                              Do You Believe? (2015)\n",
      "4                       Hot Tub Time Machine 2 (2015)\n",
      "5                            The Water Diviner (2015)\n",
      "6                               Irrational Man (2015)\n",
      "7                                     Top Five (2014)\n",
      "8                        Shaun the Sheep Movie (2015)\n",
      "9                                 Love & Mercy (2015)\n",
      "10                  Far From The Madding Crowd (2015)\n",
      "11                                   Black Sea (2015)\n",
      "12                                   Leviathan (2014)\n",
      "13                                    Unbroken (2014)\n",
      "14                          The Imitation Game (2014)\n",
      "15                                     Taken 3 (2015)\n",
      "16                                       Ted 2 (2015)\n",
      "17                                    Southpaw (2015)\n",
      "18     Night at the Museum: Secret of the Tomb (2014)\n",
      "19                                      Pixels (2015)\n",
      "20                              McFarland, USA (2015)\n",
      "21                        Insidious: Chapter 3 (2015)\n",
      "22                     The Man From U.N.C.L.E. (2015)\n",
      "23                               Run All Night (2015)\n",
      "24                                  Trainwreck (2015)\n",
      "25                                       Selma (2014)\n",
      "26                                  Ex Machina (2015)\n",
      "27                                 Still Alice (2015)\n",
      "28                                  Wild Tales (2014)\n",
      "29                         The End of the Tour (2015)\n",
      "                            ...                      \n",
      "116                       Clouds of Sils Maria (2015)\n",
      "117                         Testament of Youth (2015)\n",
      "118                      Infinitely Polar Bear (2015)\n",
      "119                                    Phoenix (2015)\n",
      "120                               The Wolfpack (2015)\n",
      "121             The Stanford Prison Experiment (2015)\n",
      "122                                  Tangerine (2015)\n",
      "123                             Magic Mike XXL (2015)\n",
      "124                                       Home (2015)\n",
      "125                         The Wedding Ringer (2015)\n",
      "126                              Woman in Gold (2015)\n",
      "127                        The Last Five Years (2015)\n",
      "128    Mission: Impossible Ã¢?¬â€?Rogue Nation (2015)\n",
      "129                                        Amy (2015)\n",
      "130                             Jurassic World (2015)\n",
      "131                                    Minions (2015)\n",
      "132                                        Max (2015)\n",
      "133                     Paul Blart: Mall Cop 2 (2015)\n",
      "134                           The Longest Ride (2015)\n",
      "135                         The Lazarus Effect (2015)\n",
      "136        The Woman In Black 2 Angel of Death (2015)\n",
      "137                              Danny Collins (2015)\n",
      "138                                Spare Parts (2015)\n",
      "139                                     Serena (2015)\n",
      "140                                 Inside Out (2015)\n",
      "141                                 Mr. Holmes (2015)\n",
      "142                                        '71 (2015)\n",
      "143                        Two Days, One Night (2014)\n",
      "144         Gett: The Trial of Viviane Amsalem (2015)\n",
      "145                Kumiko, The Treasure Hunter (2015)\n",
      "Name: FILM, Length: 146, dtype: object\n"
     ]
    }
   ],
   "source": [
    "print(fandango.iloc[:, 0])"
   ]
  },
  {
   "cell_type": "code",
   "execution_count": 4,
   "metadata": {
    "collapsed": true
   },
   "outputs": [],
   "source": [
    "series_film = fandango.iloc[:, 0]"
   ]
  },
  {
   "cell_type": "code",
   "execution_count": 5,
   "metadata": {},
   "outputs": [
    {
     "name": "stdout",
     "output_type": "stream",
     "text": [
      "0                      Avengers: Age of Ultron (2015)\n",
      "1                                   Cinderella (2015)\n",
      "2                                      Ant-Man (2015)\n",
      "3                              Do You Believe? (2015)\n",
      "4                       Hot Tub Time Machine 2 (2015)\n",
      "5                            The Water Diviner (2015)\n",
      "6                               Irrational Man (2015)\n",
      "7                                     Top Five (2014)\n",
      "8                        Shaun the Sheep Movie (2015)\n",
      "9                                 Love & Mercy (2015)\n",
      "10                  Far From The Madding Crowd (2015)\n",
      "11                                   Black Sea (2015)\n",
      "12                                   Leviathan (2014)\n",
      "13                                    Unbroken (2014)\n",
      "14                          The Imitation Game (2014)\n",
      "15                                     Taken 3 (2015)\n",
      "16                                       Ted 2 (2015)\n",
      "17                                    Southpaw (2015)\n",
      "18     Night at the Museum: Secret of the Tomb (2014)\n",
      "19                                      Pixels (2015)\n",
      "20                              McFarland, USA (2015)\n",
      "21                        Insidious: Chapter 3 (2015)\n",
      "22                     The Man From U.N.C.L.E. (2015)\n",
      "23                               Run All Night (2015)\n",
      "24                                  Trainwreck (2015)\n",
      "25                                       Selma (2014)\n",
      "26                                  Ex Machina (2015)\n",
      "27                                 Still Alice (2015)\n",
      "28                                  Wild Tales (2014)\n",
      "29                         The End of the Tour (2015)\n",
      "                            ...                      \n",
      "116                       Clouds of Sils Maria (2015)\n",
      "117                         Testament of Youth (2015)\n",
      "118                      Infinitely Polar Bear (2015)\n",
      "119                                    Phoenix (2015)\n",
      "120                               The Wolfpack (2015)\n",
      "121             The Stanford Prison Experiment (2015)\n",
      "122                                  Tangerine (2015)\n",
      "123                             Magic Mike XXL (2015)\n",
      "124                                       Home (2015)\n",
      "125                         The Wedding Ringer (2015)\n",
      "126                              Woman in Gold (2015)\n",
      "127                        The Last Five Years (2015)\n",
      "128    Mission: Impossible Ã¢?¬â€?Rogue Nation (2015)\n",
      "129                                        Amy (2015)\n",
      "130                             Jurassic World (2015)\n",
      "131                                    Minions (2015)\n",
      "132                                        Max (2015)\n",
      "133                     Paul Blart: Mall Cop 2 (2015)\n",
      "134                           The Longest Ride (2015)\n",
      "135                         The Lazarus Effect (2015)\n",
      "136        The Woman In Black 2 Angel of Death (2015)\n",
      "137                              Danny Collins (2015)\n",
      "138                                Spare Parts (2015)\n",
      "139                                     Serena (2015)\n",
      "140                                 Inside Out (2015)\n",
      "141                                 Mr. Holmes (2015)\n",
      "142                                        '71 (2015)\n",
      "143                        Two Days, One Night (2014)\n",
      "144         Gett: The Trial of Viviane Amsalem (2015)\n",
      "145                Kumiko, The Treasure Hunter (2015)\n",
      "Name: FILM, Length: 146, dtype: object\n"
     ]
    }
   ],
   "source": [
    "print(fandango['FILM'])"
   ]
  },
  {
   "cell_type": "code",
   "execution_count": 6,
   "metadata": {
    "collapsed": true
   },
   "outputs": [],
   "source": [
    "series_rt = fandango['FILM']"
   ]
  },
  {
   "cell_type": "code",
   "execution_count": 7,
   "metadata": {},
   "outputs": [
    {
     "data": {
      "text/html": [
       "<div>\n",
       "<style scoped>\n",
       "    .dataframe tbody tr th:only-of-type {\n",
       "        vertical-align: middle;\n",
       "    }\n",
       "\n",
       "    .dataframe tbody tr th {\n",
       "        vertical-align: top;\n",
       "    }\n",
       "\n",
       "    .dataframe thead th {\n",
       "        text-align: right;\n",
       "    }\n",
       "</style>\n",
       "<table border=\"1\" class=\"dataframe\">\n",
       "  <thead>\n",
       "    <tr style=\"text-align: right;\">\n",
       "      <th></th>\n",
       "      <th>FILM</th>\n",
       "      <th>RottenTomatoes</th>\n",
       "      <th>RottenTomatoes_User</th>\n",
       "      <th>Metacritic</th>\n",
       "      <th>Metacritic_User</th>\n",
       "      <th>IMDB</th>\n",
       "      <th>Fandango_Stars</th>\n",
       "      <th>Fandango_Ratingvalue</th>\n",
       "      <th>RT_norm</th>\n",
       "      <th>RT_user_norm</th>\n",
       "      <th>...</th>\n",
       "      <th>IMDB_norm</th>\n",
       "      <th>RT_norm_round</th>\n",
       "      <th>RT_user_norm_round</th>\n",
       "      <th>Metacritic_norm_round</th>\n",
       "      <th>Metacritic_user_norm_round</th>\n",
       "      <th>IMDB_norm_round</th>\n",
       "      <th>Metacritic_user_vote_count</th>\n",
       "      <th>IMDB_user_vote_count</th>\n",
       "      <th>Fandango_votes</th>\n",
       "      <th>Fandango_Difference</th>\n",
       "    </tr>\n",
       "  </thead>\n",
       "  <tbody>\n",
       "    <tr>\n",
       "      <th>0</th>\n",
       "      <td>Avengers: Age of Ultron (2015)</td>\n",
       "      <td>74</td>\n",
       "      <td>86</td>\n",
       "      <td>66</td>\n",
       "      <td>7.1</td>\n",
       "      <td>7.8</td>\n",
       "      <td>5.0</td>\n",
       "      <td>4.5</td>\n",
       "      <td>3.70</td>\n",
       "      <td>4.3</td>\n",
       "      <td>...</td>\n",
       "      <td>3.90</td>\n",
       "      <td>3.5</td>\n",
       "      <td>4.5</td>\n",
       "      <td>3.5</td>\n",
       "      <td>3.5</td>\n",
       "      <td>4.0</td>\n",
       "      <td>1330</td>\n",
       "      <td>271107</td>\n",
       "      <td>14846</td>\n",
       "      <td>0.5</td>\n",
       "    </tr>\n",
       "    <tr>\n",
       "      <th>1</th>\n",
       "      <td>Cinderella (2015)</td>\n",
       "      <td>85</td>\n",
       "      <td>80</td>\n",
       "      <td>67</td>\n",
       "      <td>7.5</td>\n",
       "      <td>7.1</td>\n",
       "      <td>5.0</td>\n",
       "      <td>4.5</td>\n",
       "      <td>4.25</td>\n",
       "      <td>4.0</td>\n",
       "      <td>...</td>\n",
       "      <td>3.55</td>\n",
       "      <td>4.5</td>\n",
       "      <td>4.0</td>\n",
       "      <td>3.5</td>\n",
       "      <td>4.0</td>\n",
       "      <td>3.5</td>\n",
       "      <td>249</td>\n",
       "      <td>65709</td>\n",
       "      <td>12640</td>\n",
       "      <td>0.5</td>\n",
       "    </tr>\n",
       "    <tr>\n",
       "      <th>2</th>\n",
       "      <td>Ant-Man (2015)</td>\n",
       "      <td>80</td>\n",
       "      <td>90</td>\n",
       "      <td>64</td>\n",
       "      <td>8.1</td>\n",
       "      <td>7.8</td>\n",
       "      <td>5.0</td>\n",
       "      <td>4.5</td>\n",
       "      <td>4.00</td>\n",
       "      <td>4.5</td>\n",
       "      <td>...</td>\n",
       "      <td>3.90</td>\n",
       "      <td>4.0</td>\n",
       "      <td>4.5</td>\n",
       "      <td>3.0</td>\n",
       "      <td>4.0</td>\n",
       "      <td>4.0</td>\n",
       "      <td>627</td>\n",
       "      <td>103660</td>\n",
       "      <td>12055</td>\n",
       "      <td>0.5</td>\n",
       "    </tr>\n",
       "    <tr>\n",
       "      <th>3</th>\n",
       "      <td>Do You Believe? (2015)</td>\n",
       "      <td>18</td>\n",
       "      <td>84</td>\n",
       "      <td>22</td>\n",
       "      <td>4.7</td>\n",
       "      <td>5.4</td>\n",
       "      <td>5.0</td>\n",
       "      <td>4.5</td>\n",
       "      <td>0.90</td>\n",
       "      <td>4.2</td>\n",
       "      <td>...</td>\n",
       "      <td>2.70</td>\n",
       "      <td>1.0</td>\n",
       "      <td>4.0</td>\n",
       "      <td>1.0</td>\n",
       "      <td>2.5</td>\n",
       "      <td>2.5</td>\n",
       "      <td>31</td>\n",
       "      <td>3136</td>\n",
       "      <td>1793</td>\n",
       "      <td>0.5</td>\n",
       "    </tr>\n",
       "    <tr>\n",
       "      <th>4</th>\n",
       "      <td>Hot Tub Time Machine 2 (2015)</td>\n",
       "      <td>14</td>\n",
       "      <td>28</td>\n",
       "      <td>29</td>\n",
       "      <td>3.4</td>\n",
       "      <td>5.1</td>\n",
       "      <td>3.5</td>\n",
       "      <td>3.0</td>\n",
       "      <td>0.70</td>\n",
       "      <td>1.4</td>\n",
       "      <td>...</td>\n",
       "      <td>2.55</td>\n",
       "      <td>0.5</td>\n",
       "      <td>1.5</td>\n",
       "      <td>1.5</td>\n",
       "      <td>1.5</td>\n",
       "      <td>2.5</td>\n",
       "      <td>88</td>\n",
       "      <td>19560</td>\n",
       "      <td>1021</td>\n",
       "      <td>0.5</td>\n",
       "    </tr>\n",
       "  </tbody>\n",
       "</table>\n",
       "<p>5 rows × 22 columns</p>\n",
       "</div>"
      ],
      "text/plain": [
       "                             FILM  RottenTomatoes  RottenTomatoes_User  \\\n",
       "0  Avengers: Age of Ultron (2015)              74                   86   \n",
       "1               Cinderella (2015)              85                   80   \n",
       "2                  Ant-Man (2015)              80                   90   \n",
       "3          Do You Believe? (2015)              18                   84   \n",
       "4   Hot Tub Time Machine 2 (2015)              14                   28   \n",
       "\n",
       "   Metacritic  Metacritic_User  IMDB  Fandango_Stars  Fandango_Ratingvalue  \\\n",
       "0          66              7.1   7.8             5.0                   4.5   \n",
       "1          67              7.5   7.1             5.0                   4.5   \n",
       "2          64              8.1   7.8             5.0                   4.5   \n",
       "3          22              4.7   5.4             5.0                   4.5   \n",
       "4          29              3.4   5.1             3.5                   3.0   \n",
       "\n",
       "   RT_norm  RT_user_norm         ...           IMDB_norm  RT_norm_round  \\\n",
       "0     3.70           4.3         ...                3.90            3.5   \n",
       "1     4.25           4.0         ...                3.55            4.5   \n",
       "2     4.00           4.5         ...                3.90            4.0   \n",
       "3     0.90           4.2         ...                2.70            1.0   \n",
       "4     0.70           1.4         ...                2.55            0.5   \n",
       "\n",
       "   RT_user_norm_round  Metacritic_norm_round  Metacritic_user_norm_round  \\\n",
       "0                 4.5                    3.5                         3.5   \n",
       "1                 4.0                    3.5                         4.0   \n",
       "2                 4.5                    3.0                         4.0   \n",
       "3                 4.0                    1.0                         2.5   \n",
       "4                 1.5                    1.5                         1.5   \n",
       "\n",
       "   IMDB_norm_round  Metacritic_user_vote_count  IMDB_user_vote_count  \\\n",
       "0              4.0                        1330                271107   \n",
       "1              3.5                         249                 65709   \n",
       "2              4.0                         627                103660   \n",
       "3              2.5                          31                  3136   \n",
       "4              2.5                          88                 19560   \n",
       "\n",
       "   Fandango_votes  Fandango_Difference  \n",
       "0           14846                  0.5  \n",
       "1           12640                  0.5  \n",
       "2           12055                  0.5  \n",
       "3            1793                  0.5  \n",
       "4            1021                  0.5  \n",
       "\n",
       "[5 rows x 22 columns]"
      ]
     },
     "execution_count": 7,
     "metadata": {},
     "output_type": "execute_result"
    }
   ],
   "source": [
    "fandango.head()"
   ]
  },
  {
   "cell_type": "code",
   "execution_count": 8,
   "metadata": {},
   "outputs": [
    {
     "data": {
      "text/plain": [
       "'The Water Diviner (2015)'"
      ]
     },
     "execution_count": 8,
     "metadata": {},
     "output_type": "execute_result"
    }
   ],
   "source": [
    "series_film[5]"
   ]
  },
  {
   "cell_type": "code",
   "execution_count": 9,
   "metadata": {},
   "outputs": [
    {
     "data": {
      "text/plain": [
       "'The Water Diviner (2015)'"
      ]
     },
     "execution_count": 9,
     "metadata": {},
     "output_type": "execute_result"
    }
   ],
   "source": [
    "series_film.iloc[5]"
   ]
  },
  {
   "cell_type": "code",
   "execution_count": 10,
   "metadata": {
    "scrolled": true
   },
   "outputs": [
    {
     "name": "stdout",
     "output_type": "stream",
     "text": [
      "<class 'pandas.core.series.Series'>\n"
     ]
    }
   ],
   "source": [
    "print(type(series_rt))"
   ]
  },
  {
   "cell_type": "code",
   "execution_count": 11,
   "metadata": {},
   "outputs": [
    {
     "data": {
      "text/plain": [
       "Series([], Name: FILM, dtype: object)"
      ]
     },
     "execution_count": 11,
     "metadata": {},
     "output_type": "execute_result"
    }
   ],
   "source": [
    "series_film.loc['Minions (2015)':]"
   ]
  },
  {
   "cell_type": "code",
   "execution_count": 12,
   "metadata": {},
   "outputs": [
    {
     "ename": "NameError",
     "evalue": "name 'series_custom' is not defined",
     "output_type": "error",
     "traceback": [
      "\u001b[1;31m---------------------------------------------------------------------------\u001b[0m",
      "\u001b[1;31mNameError\u001b[0m                                 Traceback (most recent call last)",
      "\u001b[1;32m<ipython-input-12-496537babd0a>\u001b[0m in \u001b[0;36m<module>\u001b[1;34m()\u001b[0m\n\u001b[1;32m----> 1\u001b[1;33m \u001b[0mprint\u001b[0m\u001b[1;33m(\u001b[0m\u001b[0mseries_custom\u001b[0m\u001b[1;33m[\u001b[0m\u001b[1;33m[\u001b[0m\u001b[1;34m'Minions (2015)'\u001b[0m\u001b[1;33m,\u001b[0m \u001b[1;34m'Leviathan (2014)'\u001b[0m\u001b[1;33m]\u001b[0m\u001b[1;33m]\u001b[0m\u001b[1;33m)\u001b[0m\u001b[1;33m\u001b[0m\u001b[0m\n\u001b[0m",
      "\u001b[1;31mNameError\u001b[0m: name 'series_custom' is not defined"
     ]
    }
   ],
   "source": [
    "# print(series_custom[['Minions (2015)', 'Leviathan (2014)']])"
   ]
  },
  {
   "cell_type": "code",
   "execution_count": 13,
   "metadata": {
    "collapsed": true
   },
   "outputs": [],
   "source": [
    "# print(series_film.values)\n",
    "# print(series_rt.values)\n",
    "film_names = series_film.values\n",
    "rt_scores = series_rt.values"
   ]
  },
  {
   "cell_type": "raw",
   "metadata": {},
   "source": []
  },
  {
   "cell_type": "code",
   "execution_count": 14,
   "metadata": {
    "collapsed": true
   },
   "outputs": [],
   "source": [
    "series_custom = pd.Series(rt_scores, index=film_names)"
   ]
  },
  {
   "cell_type": "code",
   "execution_count": 15,
   "metadata": {},
   "outputs": [
    {
     "name": "stdout",
     "output_type": "stream",
     "text": [
      "<class 'pandas.core.series.Series'>\n"
     ]
    }
   ],
   "source": [
    "print(type(series_custom))"
   ]
  },
  {
   "cell_type": "code",
   "execution_count": 16,
   "metadata": {},
   "outputs": [
    {
     "data": {
      "text/plain": [
       "Minions (2015)        Minions (2015)\n",
       "Leviathan (2014)    Leviathan (2014)\n",
       "dtype: object"
      ]
     },
     "execution_count": 16,
     "metadata": {},
     "output_type": "execute_result"
    }
   ],
   "source": [
    "series_custom[['Minions (2015)', 'Leviathan (2014)']]"
   ]
  },
  {
   "cell_type": "code",
   "execution_count": 17,
   "metadata": {
    "collapsed": true
   },
   "outputs": [],
   "source": [
    "fiveten = series_custom[5:11]"
   ]
  },
  {
   "cell_type": "code",
   "execution_count": 18,
   "metadata": {},
   "outputs": [
    {
     "name": "stdout",
     "output_type": "stream",
     "text": [
      "The Water Diviner (2015)                      The Water Diviner (2015)\n",
      "Irrational Man (2015)                            Irrational Man (2015)\n",
      "Top Five (2014)                                        Top Five (2014)\n",
      "Shaun the Sheep Movie (2015)              Shaun the Sheep Movie (2015)\n",
      "Love & Mercy (2015)                                Love & Mercy (2015)\n",
      "Far From The Madding Crowd (2015)    Far From The Madding Crowd (2015)\n",
      "dtype: object\n"
     ]
    }
   ],
   "source": [
    "print(fiveten)"
   ]
  },
  {
   "cell_type": "markdown",
   "metadata": {},
   "source": [
    "## reindex()\n",
    "to specify a different order for the labels (indexes) in a Series object.\n",
    "1. tolist()\n",
    "2. sort the index\n",
    "3. to set the nvewly-ordered index"
   ]
  },
  {
   "cell_type": "code",
   "execution_count": 19,
   "metadata": {},
   "outputs": [
    {
     "name": "stdout",
     "output_type": "stream",
     "text": [
      "Index(['Avengers: Age of Ultron (2015)', 'Cinderella (2015)', 'Ant-Man (2015)',\n",
      "       'Do You Believe? (2015)', 'Hot Tub Time Machine 2 (2015)',\n",
      "       'The Water Diviner (2015)', 'Irrational Man (2015)', 'Top Five (2014)',\n",
      "       'Shaun the Sheep Movie (2015)', 'Love & Mercy (2015)',\n",
      "       ...\n",
      "       'The Woman In Black 2 Angel of Death (2015)', 'Danny Collins (2015)',\n",
      "       'Spare Parts (2015)', 'Serena (2015)', 'Inside Out (2015)',\n",
      "       'Mr. Holmes (2015)', ''71 (2015)', 'Two Days, One Night (2014)',\n",
      "       'Gett: The Trial of Viviane Amsalem (2015)',\n",
      "       'Kumiko, The Treasure Hunter (2015)'],\n",
      "      dtype='object', length=146)\n"
     ]
    }
   ],
   "source": [
    "original_index = series_custom.index\n",
    "print(original_index)"
   ]
  },
  {
   "cell_type": "code",
   "execution_count": 20,
   "metadata": {},
   "outputs": [
    {
     "name": "stdout",
     "output_type": "stream",
     "text": [
      "[\"'71 (2015)\", '5 Flights Up (2015)', 'A Little Chaos (2015)', 'A Most Violent Year (2014)', 'About Elly (2015)', 'Aloha (2015)', 'American Sniper (2015)', 'American Ultra (2015)', 'Amy (2015)', 'Annie (2014)', 'Ant-Man (2015)', 'Avengers: Age of Ultron (2015)', 'Big Eyes (2014)', 'Birdman (2014)', 'Black Sea (2015)', 'Black or White (2015)', 'Blackhat (2015)', 'Cake (2015)', 'Chappie (2015)', 'Child 44 (2015)', 'Cinderella (2015)', 'Clouds of Sils Maria (2015)', 'Danny Collins (2015)', 'Dark Places (2015)', 'Do You Believe? (2015)', 'Dope (2015)', 'Entourage (2015)', 'Escobar: Paradise Lost (2015)', 'Ex Machina (2015)', 'Fantastic Four (2015)', 'Far From The Madding Crowd (2015)', 'Fifty Shades of Grey (2015)', 'Focus (2015)', 'Furious 7 (2015)', 'Get Hard (2015)', 'Gett: The Trial of Viviane Amsalem (2015)', 'Hitman: Agent 47 (2015)', 'Home (2015)', 'Hot Pursuit (2015)', 'Hot Tub Time Machine 2 (2015)', \"I'll See You In My Dreams (2015)\", 'Infinitely Polar Bear (2015)', 'Inherent Vice (2014)', 'Inside Out (2015)', 'Insidious: Chapter 3 (2015)', 'Into the Woods (2014)', 'Irrational Man (2015)', 'It Follows (2015)', 'Jupiter Ascending (2015)', 'Jurassic World (2015)', 'Kingsman: The Secret Service (2015)', 'Kumiko, The Treasure Hunter (2015)', 'Leviathan (2014)', 'Little Boy (2015)', 'Love & Mercy (2015)', 'Mad Max: Fury Road (2015)', 'Maggie (2015)', 'Magic Mike XXL (2015)', 'Maps to the Stars (2015)', 'Max (2015)', 'McFarland, USA (2015)', 'Me and Earl and The Dying Girl (2015)', 'Minions (2015)', 'Mission: Impossible Ã¢?¬â€?Rogue Nation (2015)', 'Monkey Kingdom (2015)', 'Mortdecai (2015)', 'Mr. Holmes (2015)', 'Mr. Turner (2014)', 'Night at the Museum: Secret of the Tomb (2014)', 'Paddington (2015)', 'Paper Towns (2015)', 'Paul Blart: Mall Cop 2 (2015)', 'Phoenix (2015)', 'Pitch Perfect 2 (2015)', 'Pixels (2015)', 'Poltergeist (2015)', 'Project Almanac (2015)', 'Red Army (2015)', 'Ricki and the Flash (2015)', 'Run All Night (2015)', 'Saint Laurent (2015)', 'San Andreas (2015)', 'Self/less (2015)', 'Selma (2014)', 'Serena (2015)', 'Seventh Son (2015)', 'Seymour: An Introduction (2015)', 'Shaun the Sheep Movie (2015)', 'Sinister 2 (2015)', 'Song of the Sea (2014)', 'Southpaw (2015)', 'Spare Parts (2015)', 'Spy (2015)', 'Still Alice (2015)', 'Straight Outta Compton (2015)', 'Strange Magic (2015)', 'Taken 3 (2015)', 'Tangerine (2015)', 'Ted 2 (2015)', 'Terminator Genisys (2015)', 'Testament of Youth (2015)', 'The 100-Year-Old Man Who Climbed Out the Window and Disappeared (2015)', 'The Age of Adaline (2015)', 'The Boy Next Door (2015)', 'The DUFF (2015)', 'The Diary of a Teenage Girl (2015)', 'The Divergent Series: Insurgent (2015)', 'The End of the Tour (2015)', 'The Gallows (2015)', 'The Gift (2015)', 'The Gunman (2015)', 'The Hobbit: The Battle of the Five Armies (2014)', 'The Hunting Ground (2015)', 'The Imitation Game (2014)', 'The Last Five Years (2015)', 'The Lazarus Effect (2015)', 'The Loft (2015)', 'The Longest Ride (2015)', 'The Man From U.N.C.L.E. (2015)', 'The Overnight (2015)', 'The Salt of the Earth (2015)', 'The Second Best Exotic Marigold Hotel (2015)', 'The SpongeBob Movie: Sponge Out of Water (2015)', 'The Stanford Prison Experiment (2015)', 'The Vatican Tapes (2015)', 'The Water Diviner (2015)', 'The Wedding Ringer (2015)', 'The Wolfpack (2015)', 'The Woman In Black 2 Angel of Death (2015)', 'The Wrecking Crew (2015)', 'Timbuktu (2015)', 'Tomorrowland (2015)', 'Top Five (2014)', 'Trainwreck (2015)', 'True Story (2015)', 'Two Days, One Night (2014)', 'Unbroken (2014)', 'Unfinished Business (2015)', 'Unfriended (2015)', 'Vacation (2015)', 'Welcome to Me (2015)', 'What We Do in the Shadows (2015)', 'When Marnie Was There (2015)', \"While We're Young (2015)\", 'Wild Tales (2014)', 'Woman in Gold (2015)']\n"
     ]
    }
   ],
   "source": [
    "print(sorted(original_index))\n",
    "sorted_index = sorted(original_index)"
   ]
  },
  {
   "cell_type": "code",
   "execution_count": 21,
   "metadata": {},
   "outputs": [
    {
     "name": "stdout",
     "output_type": "stream",
     "text": [
      "'71 (2015)                                                                              '71 (2015)\n",
      "5 Flights Up (2015)                                                            5 Flights Up (2015)\n",
      "A Little Chaos (2015)                                                        A Little Chaos (2015)\n",
      "A Most Violent Year (2014)                                              A Most Violent Year (2014)\n",
      "About Elly (2015)                                                                About Elly (2015)\n",
      "Aloha (2015)                                                                          Aloha (2015)\n",
      "American Sniper (2015)                                                      American Sniper (2015)\n",
      "American Ultra (2015)                                                        American Ultra (2015)\n",
      "Amy (2015)                                                                              Amy (2015)\n",
      "Annie (2014)                                                                          Annie (2014)\n",
      "Ant-Man (2015)                                                                      Ant-Man (2015)\n",
      "Avengers: Age of Ultron (2015)                                      Avengers: Age of Ultron (2015)\n",
      "Big Eyes (2014)                                                                    Big Eyes (2014)\n",
      "Birdman (2014)                                                                      Birdman (2014)\n",
      "Black Sea (2015)                                                                  Black Sea (2015)\n",
      "Black or White (2015)                                                        Black or White (2015)\n",
      "Blackhat (2015)                                                                    Blackhat (2015)\n",
      "Cake (2015)                                                                            Cake (2015)\n",
      "Chappie (2015)                                                                      Chappie (2015)\n",
      "Child 44 (2015)                                                                    Child 44 (2015)\n",
      "Cinderella (2015)                                                                Cinderella (2015)\n",
      "Clouds of Sils Maria (2015)                                            Clouds of Sils Maria (2015)\n",
      "Danny Collins (2015)                                                          Danny Collins (2015)\n",
      "Dark Places (2015)                                                              Dark Places (2015)\n",
      "Do You Believe? (2015)                                                      Do You Believe? (2015)\n",
      "Dope (2015)                                                                            Dope (2015)\n",
      "Entourage (2015)                                                                  Entourage (2015)\n",
      "Escobar: Paradise Lost (2015)                                        Escobar: Paradise Lost (2015)\n",
      "Ex Machina (2015)                                                                Ex Machina (2015)\n",
      "Fantastic Four (2015)                                                        Fantastic Four (2015)\n",
      "                                                                        ...                       \n",
      "The Loft (2015)                                                                    The Loft (2015)\n",
      "The Longest Ride (2015)                                                    The Longest Ride (2015)\n",
      "The Man From U.N.C.L.E. (2015)                                      The Man From U.N.C.L.E. (2015)\n",
      "The Overnight (2015)                                                          The Overnight (2015)\n",
      "The Salt of the Earth (2015)                                          The Salt of the Earth (2015)\n",
      "The Second Best Exotic Marigold Hotel (2015)          The Second Best Exotic Marigold Hotel (2015)\n",
      "The SpongeBob Movie: Sponge Out of Water (2015)    The SpongeBob Movie: Sponge Out of Water (2015)\n",
      "The Stanford Prison Experiment (2015)                        The Stanford Prison Experiment (2015)\n",
      "The Vatican Tapes (2015)                                                  The Vatican Tapes (2015)\n",
      "The Water Diviner (2015)                                                  The Water Diviner (2015)\n",
      "The Wedding Ringer (2015)                                                The Wedding Ringer (2015)\n",
      "The Wolfpack (2015)                                                            The Wolfpack (2015)\n",
      "The Woman In Black 2 Angel of Death (2015)              The Woman In Black 2 Angel of Death (2015)\n",
      "The Wrecking Crew (2015)                                                  The Wrecking Crew (2015)\n",
      "Timbuktu (2015)                                                                    Timbuktu (2015)\n",
      "Tomorrowland (2015)                                                            Tomorrowland (2015)\n",
      "Top Five (2014)                                                                    Top Five (2014)\n",
      "Trainwreck (2015)                                                                Trainwreck (2015)\n",
      "True Story (2015)                                                                True Story (2015)\n",
      "Two Days, One Night (2014)                                              Two Days, One Night (2014)\n",
      "Unbroken (2014)                                                                    Unbroken (2014)\n",
      "Unfinished Business (2015)                                              Unfinished Business (2015)\n",
      "Unfriended (2015)                                                                Unfriended (2015)\n",
      "Vacation (2015)                                                                    Vacation (2015)\n",
      "Welcome to Me (2015)                                                          Welcome to Me (2015)\n",
      "What We Do in the Shadows (2015)                                  What We Do in the Shadows (2015)\n",
      "When Marnie Was There (2015)                                          When Marnie Was There (2015)\n",
      "While We're Young (2015)                                                  While We're Young (2015)\n",
      "Wild Tales (2014)                                                                Wild Tales (2014)\n",
      "Woman in Gold (2015)                                                          Woman in Gold (2015)\n",
      "Length: 146, dtype: object\n"
     ]
    }
   ],
   "source": [
    "sorted_by_index = series_custom.reindex(sorted_index)\n",
    "print(sorted_by_index)"
   ]
  },
  {
   "cell_type": "markdown",
   "metadata": {},
   "source": [
    "## exploratory data analysis\n",
    "* reorder by rating\n",
    "### sort_index() method\n",
    "### sort_values()\n",
    "**pandas preserves the link between each element's index and value**\n",
    "<br>\n",
    "data alignment: 데이터 정렬 "
   ]
  },
  {
   "cell_type": "code",
   "execution_count": 22,
   "metadata": {
    "collapsed": true
   },
   "outputs": [],
   "source": [
    "sc2 = series_custom.sort_index()"
   ]
  },
  {
   "cell_type": "code",
   "execution_count": 23,
   "metadata": {},
   "outputs": [
    {
     "name": "stdout",
     "output_type": "stream",
     "text": [
      "'71 (2015)                                                                              '71 (2015)\n",
      "5 Flights Up (2015)                                                            5 Flights Up (2015)\n",
      "A Little Chaos (2015)                                                        A Little Chaos (2015)\n",
      "A Most Violent Year (2014)                                              A Most Violent Year (2014)\n",
      "About Elly (2015)                                                                About Elly (2015)\n",
      "Aloha (2015)                                                                          Aloha (2015)\n",
      "American Sniper (2015)                                                      American Sniper (2015)\n",
      "American Ultra (2015)                                                        American Ultra (2015)\n",
      "Amy (2015)                                                                              Amy (2015)\n",
      "Annie (2014)                                                                          Annie (2014)\n",
      "Ant-Man (2015)                                                                      Ant-Man (2015)\n",
      "Avengers: Age of Ultron (2015)                                      Avengers: Age of Ultron (2015)\n",
      "Big Eyes (2014)                                                                    Big Eyes (2014)\n",
      "Birdman (2014)                                                                      Birdman (2014)\n",
      "Black Sea (2015)                                                                  Black Sea (2015)\n",
      "Black or White (2015)                                                        Black or White (2015)\n",
      "Blackhat (2015)                                                                    Blackhat (2015)\n",
      "Cake (2015)                                                                            Cake (2015)\n",
      "Chappie (2015)                                                                      Chappie (2015)\n",
      "Child 44 (2015)                                                                    Child 44 (2015)\n",
      "Cinderella (2015)                                                                Cinderella (2015)\n",
      "Clouds of Sils Maria (2015)                                            Clouds of Sils Maria (2015)\n",
      "Danny Collins (2015)                                                          Danny Collins (2015)\n",
      "Dark Places (2015)                                                              Dark Places (2015)\n",
      "Do You Believe? (2015)                                                      Do You Believe? (2015)\n",
      "Dope (2015)                                                                            Dope (2015)\n",
      "Entourage (2015)                                                                  Entourage (2015)\n",
      "Escobar: Paradise Lost (2015)                                        Escobar: Paradise Lost (2015)\n",
      "Ex Machina (2015)                                                                Ex Machina (2015)\n",
      "Fantastic Four (2015)                                                        Fantastic Four (2015)\n",
      "                                                                        ...                       \n",
      "The Loft (2015)                                                                    The Loft (2015)\n",
      "The Longest Ride (2015)                                                    The Longest Ride (2015)\n",
      "The Man From U.N.C.L.E. (2015)                                      The Man From U.N.C.L.E. (2015)\n",
      "The Overnight (2015)                                                          The Overnight (2015)\n",
      "The Salt of the Earth (2015)                                          The Salt of the Earth (2015)\n",
      "The Second Best Exotic Marigold Hotel (2015)          The Second Best Exotic Marigold Hotel (2015)\n",
      "The SpongeBob Movie: Sponge Out of Water (2015)    The SpongeBob Movie: Sponge Out of Water (2015)\n",
      "The Stanford Prison Experiment (2015)                        The Stanford Prison Experiment (2015)\n",
      "The Vatican Tapes (2015)                                                  The Vatican Tapes (2015)\n",
      "The Water Diviner (2015)                                                  The Water Diviner (2015)\n",
      "The Wedding Ringer (2015)                                                The Wedding Ringer (2015)\n",
      "The Wolfpack (2015)                                                            The Wolfpack (2015)\n",
      "The Woman In Black 2 Angel of Death (2015)              The Woman In Black 2 Angel of Death (2015)\n",
      "The Wrecking Crew (2015)                                                  The Wrecking Crew (2015)\n",
      "Timbuktu (2015)                                                                    Timbuktu (2015)\n",
      "Tomorrowland (2015)                                                            Tomorrowland (2015)\n",
      "Top Five (2014)                                                                    Top Five (2014)\n",
      "Trainwreck (2015)                                                                Trainwreck (2015)\n",
      "True Story (2015)                                                                True Story (2015)\n",
      "Two Days, One Night (2014)                                              Two Days, One Night (2014)\n",
      "Unbroken (2014)                                                                    Unbroken (2014)\n",
      "Unfinished Business (2015)                                              Unfinished Business (2015)\n",
      "Unfriended (2015)                                                                Unfriended (2015)\n",
      "Vacation (2015)                                                                    Vacation (2015)\n",
      "Welcome to Me (2015)                                                          Welcome to Me (2015)\n",
      "What We Do in the Shadows (2015)                                  What We Do in the Shadows (2015)\n",
      "When Marnie Was There (2015)                                          When Marnie Was There (2015)\n",
      "While We're Young (2015)                                                  While We're Young (2015)\n",
      "Wild Tales (2014)                                                                Wild Tales (2014)\n",
      "Woman in Gold (2015)                                                          Woman in Gold (2015)\n",
      "Length: 146, dtype: object\n"
     ]
    }
   ],
   "source": [
    "print(sc2)"
   ]
  },
  {
   "cell_type": "code",
   "execution_count": 24,
   "metadata": {
    "collapsed": true
   },
   "outputs": [],
   "source": [
    "sc3 = series_custom.sort_values()"
   ]
  },
  {
   "cell_type": "code",
   "execution_count": 25,
   "metadata": {},
   "outputs": [
    {
     "name": "stdout",
     "output_type": "stream",
     "text": [
      "'71 (2015)                                                                              '71 (2015)\n",
      "5 Flights Up (2015)                                                            5 Flights Up (2015)\n",
      "A Little Chaos (2015)                                                        A Little Chaos (2015)\n",
      "A Most Violent Year (2014)                                              A Most Violent Year (2014)\n",
      "About Elly (2015)                                                                About Elly (2015)\n",
      "Aloha (2015)                                                                          Aloha (2015)\n",
      "American Sniper (2015)                                                      American Sniper (2015)\n",
      "American Ultra (2015)                                                        American Ultra (2015)\n",
      "Amy (2015)                                                                              Amy (2015)\n",
      "Annie (2014)                                                                          Annie (2014)\n",
      "Ant-Man (2015)                                                                      Ant-Man (2015)\n",
      "Avengers: Age of Ultron (2015)                                      Avengers: Age of Ultron (2015)\n",
      "Big Eyes (2014)                                                                    Big Eyes (2014)\n",
      "Birdman (2014)                                                                      Birdman (2014)\n",
      "Black Sea (2015)                                                                  Black Sea (2015)\n",
      "Black or White (2015)                                                        Black or White (2015)\n",
      "Blackhat (2015)                                                                    Blackhat (2015)\n",
      "Cake (2015)                                                                            Cake (2015)\n",
      "Chappie (2015)                                                                      Chappie (2015)\n",
      "Child 44 (2015)                                                                    Child 44 (2015)\n",
      "Cinderella (2015)                                                                Cinderella (2015)\n",
      "Clouds of Sils Maria (2015)                                            Clouds of Sils Maria (2015)\n",
      "Danny Collins (2015)                                                          Danny Collins (2015)\n",
      "Dark Places (2015)                                                              Dark Places (2015)\n",
      "Do You Believe? (2015)                                                      Do You Believe? (2015)\n",
      "Dope (2015)                                                                            Dope (2015)\n",
      "Entourage (2015)                                                                  Entourage (2015)\n",
      "Escobar: Paradise Lost (2015)                                        Escobar: Paradise Lost (2015)\n",
      "Ex Machina (2015)                                                                Ex Machina (2015)\n",
      "Fantastic Four (2015)                                                        Fantastic Four (2015)\n",
      "                                                                        ...                       \n",
      "The Loft (2015)                                                                    The Loft (2015)\n",
      "The Longest Ride (2015)                                                    The Longest Ride (2015)\n",
      "The Man From U.N.C.L.E. (2015)                                      The Man From U.N.C.L.E. (2015)\n",
      "The Overnight (2015)                                                          The Overnight (2015)\n",
      "The Salt of the Earth (2015)                                          The Salt of the Earth (2015)\n",
      "The Second Best Exotic Marigold Hotel (2015)          The Second Best Exotic Marigold Hotel (2015)\n",
      "The SpongeBob Movie: Sponge Out of Water (2015)    The SpongeBob Movie: Sponge Out of Water (2015)\n",
      "The Stanford Prison Experiment (2015)                        The Stanford Prison Experiment (2015)\n",
      "The Vatican Tapes (2015)                                                  The Vatican Tapes (2015)\n",
      "The Water Diviner (2015)                                                  The Water Diviner (2015)\n",
      "The Wedding Ringer (2015)                                                The Wedding Ringer (2015)\n",
      "The Wolfpack (2015)                                                            The Wolfpack (2015)\n",
      "The Woman In Black 2 Angel of Death (2015)              The Woman In Black 2 Angel of Death (2015)\n",
      "The Wrecking Crew (2015)                                                  The Wrecking Crew (2015)\n",
      "Timbuktu (2015)                                                                    Timbuktu (2015)\n",
      "Tomorrowland (2015)                                                            Tomorrowland (2015)\n",
      "Top Five (2014)                                                                    Top Five (2014)\n",
      "Trainwreck (2015)                                                                Trainwreck (2015)\n",
      "True Story (2015)                                                                True Story (2015)\n",
      "Two Days, One Night (2014)                                              Two Days, One Night (2014)\n",
      "Unbroken (2014)                                                                    Unbroken (2014)\n",
      "Unfinished Business (2015)                                              Unfinished Business (2015)\n",
      "Unfriended (2015)                                                                Unfriended (2015)\n",
      "Vacation (2015)                                                                    Vacation (2015)\n",
      "Welcome to Me (2015)                                                          Welcome to Me (2015)\n",
      "What We Do in the Shadows (2015)                                  What We Do in the Shadows (2015)\n",
      "When Marnie Was There (2015)                                          When Marnie Was There (2015)\n",
      "While We're Young (2015)                                                  While We're Young (2015)\n",
      "Wild Tales (2014)                                                                Wild Tales (2014)\n",
      "Woman in Gold (2015)                                                          Woman in Gold (2015)\n",
      "Length: 146, dtype: object\n"
     ]
    }
   ],
   "source": [
    "print(sc3)"
   ]
  },
  {
   "cell_type": "markdown",
   "metadata": {},
   "source": [
    "## vector"
   ]
  },
  {
   "cell_type": "markdown",
   "metadata": {},
   "source": [
    "* A column is really a vector of values.\n",
    "* transform an entire column in a dataset. 데이터 세트의 전체 열을 변환해야 한다.\n",
    "* vectorized operations\n",
    "* pandas builds on Numpy, NumPy's vectorization capabilities.\n",
    "[dataquest.io](https://www.dataquest.io/m/78/pandas-internals%3A-series/7/transforming-columns-with-vectorized-operations)\n",
    "<br>\n",
    "\n",
    "열은 실제로 값의 벡터입니다. 이러한 이유로 데이터 세트의 전체 열을 변환하려고합니다. Series 객체는 벡터화 된 연산에 대한 강력한 지원을 제공하므로 전체 열에 대한 계산을 매우 빠르게 수행 할 수 있습니다."
   ]
  },
  {
   "cell_type": "code",
   "execution_count": 26,
   "metadata": {
    "collapsed": true
   },
   "outputs": [],
   "source": [
    "import numpy as np"
   ]
  },
  {
   "cell_type": "code",
   "execution_count": 28,
   "metadata": {
    "scrolled": false
   },
   "outputs": [
    {
     "name": "stdout",
     "output_type": "stream",
     "text": [
      "Avengers: Age of Ultron (2015)                                    Avengers: Age of Ultron (2015)\n",
      "Cinderella (2015)                                                              Cinderella (2015)\n",
      "Ant-Man (2015)                                                                    Ant-Man (2015)\n",
      "Do You Believe? (2015)                                                    Do You Believe? (2015)\n",
      "Hot Tub Time Machine 2 (2015)                                      Hot Tub Time Machine 2 (2015)\n",
      "The Water Diviner (2015)                                                The Water Diviner (2015)\n",
      "Irrational Man (2015)                                                      Irrational Man (2015)\n",
      "Top Five (2014)                                                                  Top Five (2014)\n",
      "Shaun the Sheep Movie (2015)                                        Shaun the Sheep Movie (2015)\n",
      "Love & Mercy (2015)                                                          Love & Mercy (2015)\n",
      "Far From The Madding Crowd (2015)                              Far From The Madding Crowd (2015)\n",
      "Black Sea (2015)                                                                Black Sea (2015)\n",
      "Leviathan (2014)                                                                Leviathan (2014)\n",
      "Unbroken (2014)                                                                  Unbroken (2014)\n",
      "The Imitation Game (2014)                                              The Imitation Game (2014)\n",
      "Taken 3 (2015)                                                                    Taken 3 (2015)\n",
      "Ted 2 (2015)                                                                        Ted 2 (2015)\n",
      "Southpaw (2015)                                                                  Southpaw (2015)\n",
      "Night at the Museum: Secret of the Tomb (2014)    Night at the Museum: Secret of the Tomb (2014)\n",
      "Pixels (2015)                                                                      Pixels (2015)\n",
      "McFarland, USA (2015)                                                      McFarland, USA (2015)\n",
      "Insidious: Chapter 3 (2015)                                          Insidious: Chapter 3 (2015)\n",
      "The Man From U.N.C.L.E. (2015)                                    The Man From U.N.C.L.E. (2015)\n",
      "Run All Night (2015)                                                        Run All Night (2015)\n",
      "Trainwreck (2015)                                                              Trainwreck (2015)\n",
      "Selma (2014)                                                                        Selma (2014)\n",
      "Ex Machina (2015)                                                              Ex Machina (2015)\n",
      "Still Alice (2015)                                                            Still Alice (2015)\n",
      "Wild Tales (2014)                                                              Wild Tales (2014)\n",
      "The End of the Tour (2015)                                            The End of the Tour (2015)\n",
      "                                                                       ...                      \n",
      "Clouds of Sils Maria (2015)                                          Clouds of Sils Maria (2015)\n",
      "Testament of Youth (2015)                                              Testament of Youth (2015)\n",
      "Infinitely Polar Bear (2015)                                        Infinitely Polar Bear (2015)\n",
      "Phoenix (2015)                                                                    Phoenix (2015)\n",
      "The Wolfpack (2015)                                                          The Wolfpack (2015)\n",
      "The Stanford Prison Experiment (2015)                      The Stanford Prison Experiment (2015)\n",
      "Tangerine (2015)                                                                Tangerine (2015)\n",
      "Magic Mike XXL (2015)                                                      Magic Mike XXL (2015)\n",
      "Home (2015)                                                                          Home (2015)\n",
      "The Wedding Ringer (2015)                                              The Wedding Ringer (2015)\n",
      "Woman in Gold (2015)                                                        Woman in Gold (2015)\n",
      "The Last Five Years (2015)                                            The Last Five Years (2015)\n",
      "Mission: Impossible Ã¢?¬â€?Rogue Nation (2015)    Mission: Impossible Ã¢?¬â€?Rogue Nation (2015)\n",
      "Amy (2015)                                                                            Amy (2015)\n",
      "Jurassic World (2015)                                                      Jurassic World (2015)\n",
      "Minions (2015)                                                                    Minions (2015)\n",
      "Max (2015)                                                                            Max (2015)\n",
      "Paul Blart: Mall Cop 2 (2015)                                      Paul Blart: Mall Cop 2 (2015)\n",
      "The Longest Ride (2015)                                                  The Longest Ride (2015)\n",
      "The Lazarus Effect (2015)                                              The Lazarus Effect (2015)\n",
      "The Woman In Black 2 Angel of Death (2015)            The Woman In Black 2 Angel of Death (2015)\n",
      "Danny Collins (2015)                                                        Danny Collins (2015)\n",
      "Spare Parts (2015)                                                            Spare Parts (2015)\n",
      "Serena (2015)                                                                      Serena (2015)\n",
      "Inside Out (2015)                                                              Inside Out (2015)\n",
      "Mr. Holmes (2015)                                                              Mr. Holmes (2015)\n",
      "'71 (2015)                                                                            '71 (2015)\n",
      "Two Days, One Night (2014)                                            Two Days, One Night (2014)\n",
      "Gett: The Trial of Viviane Amsalem (2015)              Gett: The Trial of Viviane Amsalem (2015)\n",
      "Kumiko, The Treasure Hunter (2015)                            Kumiko, The Treasure Hunter (2015)\n",
      "Length: 146, dtype: object\n"
     ]
    }
   ],
   "source": [
    "print(series_custom)"
   ]
  },
  {
   "cell_type": "code",
   "execution_count": 29,
   "metadata": {},
   "outputs": [
    {
     "ename": "TypeError",
     "evalue": "unsupported operand type(s) for /: 'str' and 'int'",
     "output_type": "error",
     "traceback": [
      "\u001b[1;31m---------------------------------------------------------------------------\u001b[0m",
      "\u001b[1;31mTypeError\u001b[0m                                 Traceback (most recent call last)",
      "\u001b[1;32mC:\\Anaconda3\\lib\\site-packages\\pandas\\core\\ops.py\u001b[0m in \u001b[0;36mna_op\u001b[1;34m(x, y)\u001b[0m\n\u001b[0;32m    675\u001b[0m         \u001b[1;32mtry\u001b[0m\u001b[1;33m:\u001b[0m\u001b[1;33m\u001b[0m\u001b[0m\n\u001b[1;32m--> 676\u001b[1;33m             \u001b[0mresult\u001b[0m \u001b[1;33m=\u001b[0m \u001b[0mexpressions\u001b[0m\u001b[1;33m.\u001b[0m\u001b[0mevaluate\u001b[0m\u001b[1;33m(\u001b[0m\u001b[0mop\u001b[0m\u001b[1;33m,\u001b[0m \u001b[0mstr_rep\u001b[0m\u001b[1;33m,\u001b[0m \u001b[0mx\u001b[0m\u001b[1;33m,\u001b[0m \u001b[0my\u001b[0m\u001b[1;33m,\u001b[0m \u001b[1;33m**\u001b[0m\u001b[0meval_kwargs\u001b[0m\u001b[1;33m)\u001b[0m\u001b[1;33m\u001b[0m\u001b[0m\n\u001b[0m\u001b[0;32m    677\u001b[0m         \u001b[1;32mexcept\u001b[0m \u001b[0mTypeError\u001b[0m\u001b[1;33m:\u001b[0m\u001b[1;33m\u001b[0m\u001b[0m\n",
      "\u001b[1;32mC:\\Anaconda3\\lib\\site-packages\\pandas\\core\\computation\\expressions.py\u001b[0m in \u001b[0;36mevaluate\u001b[1;34m(op, op_str, a, b, use_numexpr, **eval_kwargs)\u001b[0m\n\u001b[0;32m    203\u001b[0m     \u001b[1;32mif\u001b[0m \u001b[0muse_numexpr\u001b[0m\u001b[1;33m:\u001b[0m\u001b[1;33m\u001b[0m\u001b[0m\n\u001b[1;32m--> 204\u001b[1;33m         \u001b[1;32mreturn\u001b[0m \u001b[0m_evaluate\u001b[0m\u001b[1;33m(\u001b[0m\u001b[0mop\u001b[0m\u001b[1;33m,\u001b[0m \u001b[0mop_str\u001b[0m\u001b[1;33m,\u001b[0m \u001b[0ma\u001b[0m\u001b[1;33m,\u001b[0m \u001b[0mb\u001b[0m\u001b[1;33m,\u001b[0m \u001b[1;33m**\u001b[0m\u001b[0meval_kwargs\u001b[0m\u001b[1;33m)\u001b[0m\u001b[1;33m\u001b[0m\u001b[0m\n\u001b[0m\u001b[0;32m    205\u001b[0m     \u001b[1;32mreturn\u001b[0m \u001b[0m_evaluate_standard\u001b[0m\u001b[1;33m(\u001b[0m\u001b[0mop\u001b[0m\u001b[1;33m,\u001b[0m \u001b[0mop_str\u001b[0m\u001b[1;33m,\u001b[0m \u001b[0ma\u001b[0m\u001b[1;33m,\u001b[0m \u001b[0mb\u001b[0m\u001b[1;33m)\u001b[0m\u001b[1;33m\u001b[0m\u001b[0m\n",
      "\u001b[1;32mC:\\Anaconda3\\lib\\site-packages\\pandas\\core\\computation\\expressions.py\u001b[0m in \u001b[0;36m_evaluate_numexpr\u001b[1;34m(op, op_str, a, b, truediv, reversed, **eval_kwargs)\u001b[0m\n\u001b[0;32m    118\u001b[0m     \u001b[1;32mif\u001b[0m \u001b[0mresult\u001b[0m \u001b[1;32mis\u001b[0m \u001b[1;32mNone\u001b[0m\u001b[1;33m:\u001b[0m\u001b[1;33m\u001b[0m\u001b[0m\n\u001b[1;32m--> 119\u001b[1;33m         \u001b[0mresult\u001b[0m \u001b[1;33m=\u001b[0m \u001b[0m_evaluate_standard\u001b[0m\u001b[1;33m(\u001b[0m\u001b[0mop\u001b[0m\u001b[1;33m,\u001b[0m \u001b[0mop_str\u001b[0m\u001b[1;33m,\u001b[0m \u001b[0ma\u001b[0m\u001b[1;33m,\u001b[0m \u001b[0mb\u001b[0m\u001b[1;33m)\u001b[0m\u001b[1;33m\u001b[0m\u001b[0m\n\u001b[0m\u001b[0;32m    120\u001b[0m \u001b[1;33m\u001b[0m\u001b[0m\n",
      "\u001b[1;32mC:\\Anaconda3\\lib\\site-packages\\pandas\\core\\computation\\expressions.py\u001b[0m in \u001b[0;36m_evaluate_standard\u001b[1;34m(op, op_str, a, b, **eval_kwargs)\u001b[0m\n\u001b[0;32m     63\u001b[0m     \u001b[1;32mwith\u001b[0m \u001b[0mnp\u001b[0m\u001b[1;33m.\u001b[0m\u001b[0merrstate\u001b[0m\u001b[1;33m(\u001b[0m\u001b[0mall\u001b[0m\u001b[1;33m=\u001b[0m\u001b[1;34m'ignore'\u001b[0m\u001b[1;33m)\u001b[0m\u001b[1;33m:\u001b[0m\u001b[1;33m\u001b[0m\u001b[0m\n\u001b[1;32m---> 64\u001b[1;33m         \u001b[1;32mreturn\u001b[0m \u001b[0mop\u001b[0m\u001b[1;33m(\u001b[0m\u001b[0ma\u001b[0m\u001b[1;33m,\u001b[0m \u001b[0mb\u001b[0m\u001b[1;33m)\u001b[0m\u001b[1;33m\u001b[0m\u001b[0m\n\u001b[0m\u001b[0;32m     65\u001b[0m \u001b[1;33m\u001b[0m\u001b[0m\n",
      "\u001b[1;31mTypeError\u001b[0m: unsupported operand type(s) for /: 'str' and 'int'",
      "\nDuring handling of the above exception, another exception occurred:\n",
      "\u001b[1;31mTypeError\u001b[0m                                 Traceback (most recent call last)",
      "\u001b[1;32mC:\\Anaconda3\\lib\\site-packages\\pandas\\core\\ops.py\u001b[0m in \u001b[0;36msafe_na_op\u001b[1;34m(lvalues, rvalues)\u001b[0m\n\u001b[0;32m    699\u001b[0m             \u001b[1;32mwith\u001b[0m \u001b[0mnp\u001b[0m\u001b[1;33m.\u001b[0m\u001b[0merrstate\u001b[0m\u001b[1;33m(\u001b[0m\u001b[0mall\u001b[0m\u001b[1;33m=\u001b[0m\u001b[1;34m'ignore'\u001b[0m\u001b[1;33m)\u001b[0m\u001b[1;33m:\u001b[0m\u001b[1;33m\u001b[0m\u001b[0m\n\u001b[1;32m--> 700\u001b[1;33m                 \u001b[1;32mreturn\u001b[0m \u001b[0mna_op\u001b[0m\u001b[1;33m(\u001b[0m\u001b[0mlvalues\u001b[0m\u001b[1;33m,\u001b[0m \u001b[0mrvalues\u001b[0m\u001b[1;33m)\u001b[0m\u001b[1;33m\u001b[0m\u001b[0m\n\u001b[0m\u001b[0;32m    701\u001b[0m         \u001b[1;32mexcept\u001b[0m \u001b[0mException\u001b[0m\u001b[1;33m:\u001b[0m\u001b[1;33m\u001b[0m\u001b[0m\n",
      "\u001b[1;32mC:\\Anaconda3\\lib\\site-packages\\pandas\\core\\ops.py\u001b[0m in \u001b[0;36mna_op\u001b[1;34m(x, y)\u001b[0m\n\u001b[0;32m    685\u001b[0m                 \u001b[0mmask\u001b[0m \u001b[1;33m=\u001b[0m \u001b[0mnotna\u001b[0m\u001b[1;33m(\u001b[0m\u001b[0mx\u001b[0m\u001b[1;33m)\u001b[0m\u001b[1;33m\u001b[0m\u001b[0m\n\u001b[1;32m--> 686\u001b[1;33m                 \u001b[0mresult\u001b[0m\u001b[1;33m[\u001b[0m\u001b[0mmask\u001b[0m\u001b[1;33m]\u001b[0m \u001b[1;33m=\u001b[0m \u001b[0mop\u001b[0m\u001b[1;33m(\u001b[0m\u001b[0mx\u001b[0m\u001b[1;33m[\u001b[0m\u001b[0mmask\u001b[0m\u001b[1;33m]\u001b[0m\u001b[1;33m,\u001b[0m \u001b[0my\u001b[0m\u001b[1;33m)\u001b[0m\u001b[1;33m\u001b[0m\u001b[0m\n\u001b[0m\u001b[0;32m    687\u001b[0m             \u001b[1;32melse\u001b[0m\u001b[1;33m:\u001b[0m\u001b[1;33m\u001b[0m\u001b[0m\n",
      "\u001b[1;31mTypeError\u001b[0m: unsupported operand type(s) for /: 'str' and 'int'",
      "\nDuring handling of the above exception, another exception occurred:\n",
      "\u001b[1;31mTypeError\u001b[0m                                 Traceback (most recent call last)",
      "\u001b[1;32m<ipython-input-29-28cabef22c57>\u001b[0m in \u001b[0;36m<module>\u001b[1;34m()\u001b[0m\n\u001b[1;32m----> 1\u001b[1;33m \u001b[0mprint\u001b[0m\u001b[1;33m(\u001b[0m\u001b[0mseries_custom\u001b[0m\u001b[1;33m/\u001b[0m\u001b[1;36m10\u001b[0m\u001b[1;33m)\u001b[0m\u001b[1;33m\u001b[0m\u001b[0m\n\u001b[0m",
      "\u001b[1;32mC:\\Anaconda3\\lib\\site-packages\\pandas\\core\\ops.py\u001b[0m in \u001b[0;36mwrapper\u001b[1;34m(left, right, name, na_op)\u001b[0m\n\u001b[0;32m    737\u001b[0m                 \u001b[0mlvalues\u001b[0m \u001b[1;33m=\u001b[0m \u001b[0mlvalues\u001b[0m\u001b[1;33m.\u001b[0m\u001b[0mvalues\u001b[0m\u001b[1;33m\u001b[0m\u001b[0m\n\u001b[0;32m    738\u001b[0m \u001b[1;33m\u001b[0m\u001b[0m\n\u001b[1;32m--> 739\u001b[1;33m         \u001b[0mresult\u001b[0m \u001b[1;33m=\u001b[0m \u001b[0mwrap_results\u001b[0m\u001b[1;33m(\u001b[0m\u001b[0msafe_na_op\u001b[0m\u001b[1;33m(\u001b[0m\u001b[0mlvalues\u001b[0m\u001b[1;33m,\u001b[0m \u001b[0mrvalues\u001b[0m\u001b[1;33m)\u001b[0m\u001b[1;33m)\u001b[0m\u001b[1;33m\u001b[0m\u001b[0m\n\u001b[0m\u001b[0;32m    740\u001b[0m         return construct_result(\n\u001b[0;32m    741\u001b[0m             \u001b[0mleft\u001b[0m\u001b[1;33m,\u001b[0m\u001b[1;33m\u001b[0m\u001b[0m\n",
      "\u001b[1;32mC:\\Anaconda3\\lib\\site-packages\\pandas\\core\\ops.py\u001b[0m in \u001b[0;36msafe_na_op\u001b[1;34m(lvalues, rvalues)\u001b[0m\n\u001b[0;32m    708\u001b[0m                 \u001b[1;32mif\u001b[0m \u001b[0mis_object_dtype\u001b[0m\u001b[1;33m(\u001b[0m\u001b[0mlvalues\u001b[0m\u001b[1;33m)\u001b[0m\u001b[1;33m:\u001b[0m\u001b[1;33m\u001b[0m\u001b[0m\n\u001b[0;32m    709\u001b[0m                     return libalgos.arrmap_object(lvalues,\n\u001b[1;32m--> 710\u001b[1;33m                                                   lambda x: op(x, rvalues))\n\u001b[0m\u001b[0;32m    711\u001b[0m             \u001b[1;32mraise\u001b[0m\u001b[1;33m\u001b[0m\u001b[0m\n\u001b[0;32m    712\u001b[0m \u001b[1;33m\u001b[0m\u001b[0m\n",
      "\u001b[1;32mpandas\\_libs\\algos_common_helper.pxi\u001b[0m in \u001b[0;36mpandas._libs.algos.arrmap_object\u001b[1;34m()\u001b[0m\n",
      "\u001b[1;32mC:\\Anaconda3\\lib\\site-packages\\pandas\\core\\ops.py\u001b[0m in \u001b[0;36m<lambda>\u001b[1;34m(x)\u001b[0m\n\u001b[0;32m    708\u001b[0m                 \u001b[1;32mif\u001b[0m \u001b[0mis_object_dtype\u001b[0m\u001b[1;33m(\u001b[0m\u001b[0mlvalues\u001b[0m\u001b[1;33m)\u001b[0m\u001b[1;33m:\u001b[0m\u001b[1;33m\u001b[0m\u001b[0m\n\u001b[0;32m    709\u001b[0m                     return libalgos.arrmap_object(lvalues,\n\u001b[1;32m--> 710\u001b[1;33m                                                   lambda x: op(x, rvalues))\n\u001b[0m\u001b[0;32m    711\u001b[0m             \u001b[1;32mraise\u001b[0m\u001b[1;33m\u001b[0m\u001b[0m\n\u001b[0;32m    712\u001b[0m \u001b[1;33m\u001b[0m\u001b[0m\n",
      "\u001b[1;31mTypeError\u001b[0m: unsupported operand type(s) for /: 'str' and 'int'"
     ]
    }
   ],
   "source": [
    "# print(series_custom/10)"
   ]
  },
  {
   "cell_type": "code",
   "execution_count": 27,
   "metadata": {},
   "outputs": [
    {
     "data": {
      "text/plain": [
       "Avengers: Age of Ultron (2015)                    Avengers: Age of Ultron (2015)Avengers: Age of...\n",
       "Cinderella (2015)                                                Cinderella (2015)Cinderella (2015)\n",
       "Ant-Man (2015)                                                         Ant-Man (2015)Ant-Man (2015)\n",
       "Do You Believe? (2015)                                 Do You Believe? (2015)Do You Believe? (2015)\n",
       "Hot Tub Time Machine 2 (2015)                     Hot Tub Time Machine 2 (2015)Hot Tub Time Mach...\n",
       "The Water Diviner (2015)                           The Water Diviner (2015)The Water Diviner (2015)\n",
       "Irrational Man (2015)                                    Irrational Man (2015)Irrational Man (2015)\n",
       "Top Five (2014)                                                      Top Five (2014)Top Five (2014)\n",
       "Shaun the Sheep Movie (2015)                      Shaun the Sheep Movie (2015)Shaun the Sheep Mo...\n",
       "Love & Mercy (2015)                                          Love & Mercy (2015)Love & Mercy (2015)\n",
       "Far From The Madding Crowd (2015)                 Far From The Madding Crowd (2015)Far From The ...\n",
       "Black Sea (2015)                                                   Black Sea (2015)Black Sea (2015)\n",
       "Leviathan (2014)                                                   Leviathan (2014)Leviathan (2014)\n",
       "Unbroken (2014)                                                      Unbroken (2014)Unbroken (2014)\n",
       "The Imitation Game (2014)                         The Imitation Game (2014)The Imitation Game (2...\n",
       "Taken 3 (2015)                                                         Taken 3 (2015)Taken 3 (2015)\n",
       "Ted 2 (2015)                                                               Ted 2 (2015)Ted 2 (2015)\n",
       "Southpaw (2015)                                                      Southpaw (2015)Southpaw (2015)\n",
       "Night at the Museum: Secret of the Tomb (2014)    Night at the Museum: Secret of the Tomb (2014)...\n",
       "Pixels (2015)                                                            Pixels (2015)Pixels (2015)\n",
       "McFarland, USA (2015)                                    McFarland, USA (2015)McFarland, USA (2015)\n",
       "Insidious: Chapter 3 (2015)                       Insidious: Chapter 3 (2015)Insidious: Chapter ...\n",
       "The Man From U.N.C.L.E. (2015)                    The Man From U.N.C.L.E. (2015)The Man From U.N...\n",
       "Run All Night (2015)                                       Run All Night (2015)Run All Night (2015)\n",
       "Trainwreck (2015)                                                Trainwreck (2015)Trainwreck (2015)\n",
       "Selma (2014)                                                               Selma (2014)Selma (2014)\n",
       "Ex Machina (2015)                                                Ex Machina (2015)Ex Machina (2015)\n",
       "Still Alice (2015)                                             Still Alice (2015)Still Alice (2015)\n",
       "Wild Tales (2014)                                                Wild Tales (2014)Wild Tales (2014)\n",
       "The End of the Tour (2015)                        The End of the Tour (2015)The End of the Tour ...\n",
       "                                                                        ...                        \n",
       "Clouds of Sils Maria (2015)                       Clouds of Sils Maria (2015)Clouds of Sils Mari...\n",
       "Testament of Youth (2015)                         Testament of Youth (2015)Testament of Youth (2...\n",
       "Infinitely Polar Bear (2015)                      Infinitely Polar Bear (2015)Infinitely Polar B...\n",
       "Phoenix (2015)                                                         Phoenix (2015)Phoenix (2015)\n",
       "The Wolfpack (2015)                                          The Wolfpack (2015)The Wolfpack (2015)\n",
       "The Stanford Prison Experiment (2015)             The Stanford Prison Experiment (2015)The Stanf...\n",
       "Tangerine (2015)                                                   Tangerine (2015)Tangerine (2015)\n",
       "Magic Mike XXL (2015)                                    Magic Mike XXL (2015)Magic Mike XXL (2015)\n",
       "Home (2015)                                                                  Home (2015)Home (2015)\n",
       "The Wedding Ringer (2015)                         The Wedding Ringer (2015)The Wedding Ringer (2...\n",
       "Woman in Gold (2015)                                       Woman in Gold (2015)Woman in Gold (2015)\n",
       "The Last Five Years (2015)                        The Last Five Years (2015)The Last Five Years ...\n",
       "Mission: Impossible Ã¢?¬â€?Rogue Nation (2015)    Mission: Impossible Ã¢?¬â€?Rogue Nation (2015)...\n",
       "Amy (2015)                                                                     Amy (2015)Amy (2015)\n",
       "Jurassic World (2015)                                    Jurassic World (2015)Jurassic World (2015)\n",
       "Minions (2015)                                                         Minions (2015)Minions (2015)\n",
       "Max (2015)                                                                     Max (2015)Max (2015)\n",
       "Paul Blart: Mall Cop 2 (2015)                     Paul Blart: Mall Cop 2 (2015)Paul Blart: Mall ...\n",
       "The Longest Ride (2015)                              The Longest Ride (2015)The Longest Ride (2015)\n",
       "The Lazarus Effect (2015)                         The Lazarus Effect (2015)The Lazarus Effect (2...\n",
       "The Woman In Black 2 Angel of Death (2015)        The Woman In Black 2 Angel of Death (2015)The ...\n",
       "Danny Collins (2015)                                       Danny Collins (2015)Danny Collins (2015)\n",
       "Spare Parts (2015)                                             Spare Parts (2015)Spare Parts (2015)\n",
       "Serena (2015)                                                            Serena (2015)Serena (2015)\n",
       "Inside Out (2015)                                                Inside Out (2015)Inside Out (2015)\n",
       "Mr. Holmes (2015)                                                Mr. Holmes (2015)Mr. Holmes (2015)\n",
       "'71 (2015)                                                                     '71 (2015)'71 (2015)\n",
       "Two Days, One Night (2014)                        Two Days, One Night (2014)Two Days, One Night ...\n",
       "Gett: The Trial of Viviane Amsalem (2015)         Gett: The Trial of Viviane Amsalem (2015)Gett:...\n",
       "Kumiko, The Treasure Hunter (2015)                Kumiko, The Treasure Hunter (2015)Kumiko, The ...\n",
       "Length: 146, dtype: object"
      ]
     },
     "execution_count": 27,
     "metadata": {},
     "output_type": "execute_result"
    }
   ],
   "source": [
    "np.add(series_custom, series_custom)"
   ]
  },
  {
   "cell_type": "code",
   "execution_count": 30,
   "metadata": {},
   "outputs": [
    {
     "ename": "AttributeError",
     "evalue": "'str' object has no attribute 'sin'",
     "output_type": "error",
     "traceback": [
      "\u001b[1;31m---------------------------------------------------------------------------\u001b[0m",
      "\u001b[1;31mAttributeError\u001b[0m                            Traceback (most recent call last)",
      "\u001b[1;32m<ipython-input-30-b20fa05e71e2>\u001b[0m in \u001b[0;36m<module>\u001b[1;34m()\u001b[0m\n\u001b[1;32m----> 1\u001b[1;33m \u001b[0mnp\u001b[0m\u001b[1;33m.\u001b[0m\u001b[0msin\u001b[0m\u001b[1;33m(\u001b[0m\u001b[0mseries_custom\u001b[0m\u001b[1;33m)\u001b[0m\u001b[1;33m\u001b[0m\u001b[0m\n\u001b[0m",
      "\u001b[1;31mAttributeError\u001b[0m: 'str' object has no attribute 'sin'"
     ]
    }
   ],
   "source": [
    "# np.sin(series_custom)"
   ]
  },
  {
   "cell_type": "code",
   "execution_count": 31,
   "metadata": {},
   "outputs": [
    {
     "data": {
      "text/plain": [
       "'Woman in Gold (2015)'"
      ]
     },
     "execution_count": 31,
     "metadata": {},
     "output_type": "execute_result"
    }
   ],
   "source": [
    "np.max(series_custom)"
   ]
  },
  {
   "cell_type": "markdown",
   "metadata": {},
   "source": [
    "* The values in  a Series object are part of an ndarray, the core data type in Numpy.\n",
    "<br>\n",
    "https://docs.scipy.org/doc/numpy/reference/generated/numpy.sin.html#numpy.sin"
   ]
  },
  {
   "cell_type": "markdown",
   "metadata": {
    "collapsed": true
   },
   "source": [
    "\n",
    "원래 DataFrame에는 Rotten Tomatoes 평균 평론 점수의 정규화 된 점수 (0에서 5까지)를 나타내는 열 RT_norm이 포함되어 있습니다. 벡터화 된 연산을 사용하여 series_custom을 0-5 스케일로 정규화하십시오."
   ]
  },
  {
   "cell_type": "markdown",
   "metadata": {},
   "source": [
    "Normalize series_custom (which is currently on a 0 to 100-point scale) to a 0 to 5-point scale by dividing each value by 20.\n",
    "\n",
    "<br>\n",
    "<br>\n",
    "\n",
    "각 값을 20으로 나눠서 series_custom (현재 0 ~ 100 점 척도)을 0에서 5 점 척도로 정규화하십시오."
   ]
  },
  {
   "cell_type": "code",
   "execution_count": 35,
   "metadata": {},
   "outputs": [
    {
     "ename": "NameError",
     "evalue": "name 'Series' is not defined",
     "output_type": "error",
     "traceback": [
      "\u001b[1;31m---------------------------------------------------------------------------\u001b[0m",
      "\u001b[1;31mNameError\u001b[0m                                 Traceback (most recent call last)",
      "\u001b[1;32m<ipython-input-35-d19ff058cb1a>\u001b[0m in \u001b[0;36m<module>\u001b[1;34m()\u001b[0m\n\u001b[1;32m----> 1\u001b[1;33m \u001b[0mseries_custom\u001b[0m \u001b[1;33m=\u001b[0m \u001b[0mSeries\u001b[0m\u001b[1;33m(\u001b[0m\u001b[0mrt_scores\u001b[0m\u001b[1;33m,\u001b[0m \u001b[0mindex\u001b[0m\u001b[1;33m=\u001b[0m\u001b[0mfilm_names\u001b[0m\u001b[1;33m)\u001b[0m\u001b[1;33m\u001b[0m\u001b[0m\n\u001b[0m",
      "\u001b[1;31mNameError\u001b[0m: name 'Series' is not defined"
     ]
    }
   ],
   "source": [
    "series_custom = Series(rt_scores, index=film_names)"
   ]
  },
  {
   "cell_type": "code",
   "execution_count": 34,
   "metadata": {},
   "outputs": [
    {
     "data": {
      "text/plain": [
       "array(['Avengers: Age of Ultron (2015)', 'Cinderella (2015)',\n",
       "       'Ant-Man (2015)', 'Do You Believe? (2015)',\n",
       "       'Hot Tub Time Machine 2 (2015)', 'The Water Diviner (2015)',\n",
       "       'Irrational Man (2015)', 'Top Five (2014)',\n",
       "       'Shaun the Sheep Movie (2015)', 'Love & Mercy (2015)',\n",
       "       'Far From The Madding Crowd (2015)', 'Black Sea (2015)',\n",
       "       'Leviathan (2014)', 'Unbroken (2014)', 'The Imitation Game (2014)',\n",
       "       'Taken 3 (2015)', 'Ted 2 (2015)', 'Southpaw (2015)',\n",
       "       'Night at the Museum: Secret of the Tomb (2014)', 'Pixels (2015)',\n",
       "       'McFarland, USA (2015)', 'Insidious: Chapter 3 (2015)',\n",
       "       'The Man From U.N.C.L.E. (2015)', 'Run All Night (2015)',\n",
       "       'Trainwreck (2015)', 'Selma (2014)', 'Ex Machina (2015)',\n",
       "       'Still Alice (2015)', 'Wild Tales (2014)',\n",
       "       'The End of the Tour (2015)', 'Red Army (2015)',\n",
       "       'When Marnie Was There (2015)', 'The Hunting Ground (2015)',\n",
       "       'The Boy Next Door (2015)', 'Aloha (2015)', 'The Loft (2015)',\n",
       "       '5 Flights Up (2015)', 'Welcome to Me (2015)',\n",
       "       'Saint Laurent (2015)', 'Maps to the Stars (2015)',\n",
       "       \"I'll See You In My Dreams (2015)\", 'Timbuktu (2015)',\n",
       "       'About Elly (2015)', 'The Diary of a Teenage Girl (2015)',\n",
       "       'Kingsman: The Secret Service (2015)', 'Tomorrowland (2015)',\n",
       "       'The Divergent Series: Insurgent (2015)', 'Annie (2014)',\n",
       "       'Fantastic Four (2015)', 'Terminator Genisys (2015)',\n",
       "       'Pitch Perfect 2 (2015)', 'Entourage (2015)',\n",
       "       'The Age of Adaline (2015)', 'Hot Pursuit (2015)',\n",
       "       'The DUFF (2015)', 'Black or White (2015)',\n",
       "       'Project Almanac (2015)', 'Ricki and the Flash (2015)',\n",
       "       'Seventh Son (2015)', 'Mortdecai (2015)',\n",
       "       'Unfinished Business (2015)', 'American Ultra (2015)',\n",
       "       'True Story (2015)', 'Child 44 (2015)', 'Dark Places (2015)',\n",
       "       'Birdman (2014)', 'The Gift (2015)', 'Unfriended (2015)',\n",
       "       'Monkey Kingdom (2015)', 'Mr. Turner (2014)',\n",
       "       'Seymour: An Introduction (2015)', 'The Wrecking Crew (2015)',\n",
       "       'American Sniper (2015)', 'Furious 7 (2015)',\n",
       "       'The Hobbit: The Battle of the Five Armies (2014)',\n",
       "       'San Andreas (2015)', 'Straight Outta Compton (2015)',\n",
       "       'Vacation (2015)', 'Chappie (2015)', 'Poltergeist (2015)',\n",
       "       'Paper Towns (2015)', 'Big Eyes (2014)', 'Blackhat (2015)',\n",
       "       'Self/less (2015)', 'Sinister 2 (2015)', 'Little Boy (2015)',\n",
       "       'Me and Earl and The Dying Girl (2015)', 'Maggie (2015)',\n",
       "       'Mad Max: Fury Road (2015)', 'Spy (2015)',\n",
       "       'The SpongeBob Movie: Sponge Out of Water (2015)',\n",
       "       'Paddington (2015)', 'Dope (2015)',\n",
       "       'What We Do in the Shadows (2015)', 'The Overnight (2015)',\n",
       "       'The Salt of the Earth (2015)', 'Song of the Sea (2014)',\n",
       "       'Fifty Shades of Grey (2015)', 'Get Hard (2015)', 'Focus (2015)',\n",
       "       'Jupiter Ascending (2015)', 'The Gallows (2015)',\n",
       "       'The Second Best Exotic Marigold Hotel (2015)',\n",
       "       'Strange Magic (2015)', 'The Gunman (2015)',\n",
       "       'Hitman: Agent 47 (2015)', 'Cake (2015)',\n",
       "       'The Vatican Tapes (2015)', 'A Little Chaos (2015)',\n",
       "       'The 100-Year-Old Man Who Climbed Out the Window and Disappeared (2015)',\n",
       "       'Escobar: Paradise Lost (2015)', 'Into the Woods (2014)',\n",
       "       'It Follows (2015)', 'Inherent Vice (2014)',\n",
       "       'A Most Violent Year (2014)', \"While We're Young (2015)\",\n",
       "       'Clouds of Sils Maria (2015)', 'Testament of Youth (2015)',\n",
       "       'Infinitely Polar Bear (2015)', 'Phoenix (2015)',\n",
       "       'The Wolfpack (2015)', 'The Stanford Prison Experiment (2015)',\n",
       "       'Tangerine (2015)', 'Magic Mike XXL (2015)', 'Home (2015)',\n",
       "       'The Wedding Ringer (2015)', 'Woman in Gold (2015)',\n",
       "       'The Last Five Years (2015)',\n",
       "       'Mission: Impossible Ã¢?¬â€?Rogue Nation (2015)', 'Amy (2015)',\n",
       "       'Jurassic World (2015)', 'Minions (2015)', 'Max (2015)',\n",
       "       'Paul Blart: Mall Cop 2 (2015)', 'The Longest Ride (2015)',\n",
       "       'The Lazarus Effect (2015)',\n",
       "       'The Woman In Black 2 Angel of Death (2015)',\n",
       "       'Danny Collins (2015)', 'Spare Parts (2015)', 'Serena (2015)',\n",
       "       'Inside Out (2015)', 'Mr. Holmes (2015)', \"'71 (2015)\",\n",
       "       'Two Days, One Night (2014)',\n",
       "       'Gett: The Trial of Viviane Amsalem (2015)',\n",
       "       'Kumiko, The Treasure Hunter (2015)'], dtype=object)"
      ]
     },
     "execution_count": 34,
     "metadata": {},
     "output_type": "execute_result"
    }
   ],
   "source": [
    "series_custom.values"
   ]
  },
  {
   "cell_type": "code",
   "execution_count": 32,
   "metadata": {},
   "outputs": [
    {
     "ename": "TypeError",
     "evalue": "unsupported operand type(s) for /: 'str' and 'int'",
     "output_type": "error",
     "traceback": [
      "\u001b[1;31m---------------------------------------------------------------------------\u001b[0m",
      "\u001b[1;31mTypeError\u001b[0m                                 Traceback (most recent call last)",
      "\u001b[1;32mC:\\Anaconda3\\lib\\site-packages\\pandas\\core\\ops.py\u001b[0m in \u001b[0;36mna_op\u001b[1;34m(x, y)\u001b[0m\n\u001b[0;32m    675\u001b[0m         \u001b[1;32mtry\u001b[0m\u001b[1;33m:\u001b[0m\u001b[1;33m\u001b[0m\u001b[0m\n\u001b[1;32m--> 676\u001b[1;33m             \u001b[0mresult\u001b[0m \u001b[1;33m=\u001b[0m \u001b[0mexpressions\u001b[0m\u001b[1;33m.\u001b[0m\u001b[0mevaluate\u001b[0m\u001b[1;33m(\u001b[0m\u001b[0mop\u001b[0m\u001b[1;33m,\u001b[0m \u001b[0mstr_rep\u001b[0m\u001b[1;33m,\u001b[0m \u001b[0mx\u001b[0m\u001b[1;33m,\u001b[0m \u001b[0my\u001b[0m\u001b[1;33m,\u001b[0m \u001b[1;33m**\u001b[0m\u001b[0meval_kwargs\u001b[0m\u001b[1;33m)\u001b[0m\u001b[1;33m\u001b[0m\u001b[0m\n\u001b[0m\u001b[0;32m    677\u001b[0m         \u001b[1;32mexcept\u001b[0m \u001b[0mTypeError\u001b[0m\u001b[1;33m:\u001b[0m\u001b[1;33m\u001b[0m\u001b[0m\n",
      "\u001b[1;32mC:\\Anaconda3\\lib\\site-packages\\pandas\\core\\computation\\expressions.py\u001b[0m in \u001b[0;36mevaluate\u001b[1;34m(op, op_str, a, b, use_numexpr, **eval_kwargs)\u001b[0m\n\u001b[0;32m    203\u001b[0m     \u001b[1;32mif\u001b[0m \u001b[0muse_numexpr\u001b[0m\u001b[1;33m:\u001b[0m\u001b[1;33m\u001b[0m\u001b[0m\n\u001b[1;32m--> 204\u001b[1;33m         \u001b[1;32mreturn\u001b[0m \u001b[0m_evaluate\u001b[0m\u001b[1;33m(\u001b[0m\u001b[0mop\u001b[0m\u001b[1;33m,\u001b[0m \u001b[0mop_str\u001b[0m\u001b[1;33m,\u001b[0m \u001b[0ma\u001b[0m\u001b[1;33m,\u001b[0m \u001b[0mb\u001b[0m\u001b[1;33m,\u001b[0m \u001b[1;33m**\u001b[0m\u001b[0meval_kwargs\u001b[0m\u001b[1;33m)\u001b[0m\u001b[1;33m\u001b[0m\u001b[0m\n\u001b[0m\u001b[0;32m    205\u001b[0m     \u001b[1;32mreturn\u001b[0m \u001b[0m_evaluate_standard\u001b[0m\u001b[1;33m(\u001b[0m\u001b[0mop\u001b[0m\u001b[1;33m,\u001b[0m \u001b[0mop_str\u001b[0m\u001b[1;33m,\u001b[0m \u001b[0ma\u001b[0m\u001b[1;33m,\u001b[0m \u001b[0mb\u001b[0m\u001b[1;33m)\u001b[0m\u001b[1;33m\u001b[0m\u001b[0m\n",
      "\u001b[1;32mC:\\Anaconda3\\lib\\site-packages\\pandas\\core\\computation\\expressions.py\u001b[0m in \u001b[0;36m_evaluate_numexpr\u001b[1;34m(op, op_str, a, b, truediv, reversed, **eval_kwargs)\u001b[0m\n\u001b[0;32m    118\u001b[0m     \u001b[1;32mif\u001b[0m \u001b[0mresult\u001b[0m \u001b[1;32mis\u001b[0m \u001b[1;32mNone\u001b[0m\u001b[1;33m:\u001b[0m\u001b[1;33m\u001b[0m\u001b[0m\n\u001b[1;32m--> 119\u001b[1;33m         \u001b[0mresult\u001b[0m \u001b[1;33m=\u001b[0m \u001b[0m_evaluate_standard\u001b[0m\u001b[1;33m(\u001b[0m\u001b[0mop\u001b[0m\u001b[1;33m,\u001b[0m \u001b[0mop_str\u001b[0m\u001b[1;33m,\u001b[0m \u001b[0ma\u001b[0m\u001b[1;33m,\u001b[0m \u001b[0mb\u001b[0m\u001b[1;33m)\u001b[0m\u001b[1;33m\u001b[0m\u001b[0m\n\u001b[0m\u001b[0;32m    120\u001b[0m \u001b[1;33m\u001b[0m\u001b[0m\n",
      "\u001b[1;32mC:\\Anaconda3\\lib\\site-packages\\pandas\\core\\computation\\expressions.py\u001b[0m in \u001b[0;36m_evaluate_standard\u001b[1;34m(op, op_str, a, b, **eval_kwargs)\u001b[0m\n\u001b[0;32m     63\u001b[0m     \u001b[1;32mwith\u001b[0m \u001b[0mnp\u001b[0m\u001b[1;33m.\u001b[0m\u001b[0merrstate\u001b[0m\u001b[1;33m(\u001b[0m\u001b[0mall\u001b[0m\u001b[1;33m=\u001b[0m\u001b[1;34m'ignore'\u001b[0m\u001b[1;33m)\u001b[0m\u001b[1;33m:\u001b[0m\u001b[1;33m\u001b[0m\u001b[0m\n\u001b[1;32m---> 64\u001b[1;33m         \u001b[1;32mreturn\u001b[0m \u001b[0mop\u001b[0m\u001b[1;33m(\u001b[0m\u001b[0ma\u001b[0m\u001b[1;33m,\u001b[0m \u001b[0mb\u001b[0m\u001b[1;33m)\u001b[0m\u001b[1;33m\u001b[0m\u001b[0m\n\u001b[0m\u001b[0;32m     65\u001b[0m \u001b[1;33m\u001b[0m\u001b[0m\n",
      "\u001b[1;31mTypeError\u001b[0m: unsupported operand type(s) for /: 'str' and 'int'",
      "\nDuring handling of the above exception, another exception occurred:\n",
      "\u001b[1;31mTypeError\u001b[0m                                 Traceback (most recent call last)",
      "\u001b[1;32mC:\\Anaconda3\\lib\\site-packages\\pandas\\core\\ops.py\u001b[0m in \u001b[0;36msafe_na_op\u001b[1;34m(lvalues, rvalues)\u001b[0m\n\u001b[0;32m    699\u001b[0m             \u001b[1;32mwith\u001b[0m \u001b[0mnp\u001b[0m\u001b[1;33m.\u001b[0m\u001b[0merrstate\u001b[0m\u001b[1;33m(\u001b[0m\u001b[0mall\u001b[0m\u001b[1;33m=\u001b[0m\u001b[1;34m'ignore'\u001b[0m\u001b[1;33m)\u001b[0m\u001b[1;33m:\u001b[0m\u001b[1;33m\u001b[0m\u001b[0m\n\u001b[1;32m--> 700\u001b[1;33m                 \u001b[1;32mreturn\u001b[0m \u001b[0mna_op\u001b[0m\u001b[1;33m(\u001b[0m\u001b[0mlvalues\u001b[0m\u001b[1;33m,\u001b[0m \u001b[0mrvalues\u001b[0m\u001b[1;33m)\u001b[0m\u001b[1;33m\u001b[0m\u001b[0m\n\u001b[0m\u001b[0;32m    701\u001b[0m         \u001b[1;32mexcept\u001b[0m \u001b[0mException\u001b[0m\u001b[1;33m:\u001b[0m\u001b[1;33m\u001b[0m\u001b[0m\n",
      "\u001b[1;32mC:\\Anaconda3\\lib\\site-packages\\pandas\\core\\ops.py\u001b[0m in \u001b[0;36mna_op\u001b[1;34m(x, y)\u001b[0m\n\u001b[0;32m    685\u001b[0m                 \u001b[0mmask\u001b[0m \u001b[1;33m=\u001b[0m \u001b[0mnotna\u001b[0m\u001b[1;33m(\u001b[0m\u001b[0mx\u001b[0m\u001b[1;33m)\u001b[0m\u001b[1;33m\u001b[0m\u001b[0m\n\u001b[1;32m--> 686\u001b[1;33m                 \u001b[0mresult\u001b[0m\u001b[1;33m[\u001b[0m\u001b[0mmask\u001b[0m\u001b[1;33m]\u001b[0m \u001b[1;33m=\u001b[0m \u001b[0mop\u001b[0m\u001b[1;33m(\u001b[0m\u001b[0mx\u001b[0m\u001b[1;33m[\u001b[0m\u001b[0mmask\u001b[0m\u001b[1;33m]\u001b[0m\u001b[1;33m,\u001b[0m \u001b[0my\u001b[0m\u001b[1;33m)\u001b[0m\u001b[1;33m\u001b[0m\u001b[0m\n\u001b[0m\u001b[0;32m    687\u001b[0m             \u001b[1;32melse\u001b[0m\u001b[1;33m:\u001b[0m\u001b[1;33m\u001b[0m\u001b[0m\n",
      "\u001b[1;31mTypeError\u001b[0m: unsupported operand type(s) for /: 'str' and 'int'",
      "\nDuring handling of the above exception, another exception occurred:\n",
      "\u001b[1;31mTypeError\u001b[0m                                 Traceback (most recent call last)",
      "\u001b[1;32m<ipython-input-32-64d96495ba07>\u001b[0m in \u001b[0;36m<module>\u001b[1;34m()\u001b[0m\n\u001b[1;32m----> 1\u001b[1;33m \u001b[0mseries_normalized\u001b[0m \u001b[1;33m=\u001b[0m \u001b[0mseries_custom\u001b[0m\u001b[1;33m/\u001b[0m\u001b[1;36m20\u001b[0m\u001b[1;33m\u001b[0m\u001b[0m\n\u001b[0m\u001b[0;32m      2\u001b[0m \u001b[0mprint\u001b[0m\u001b[1;33m(\u001b[0m\u001b[0mseries_normalized\u001b[0m\u001b[1;33m)\u001b[0m\u001b[1;33m\u001b[0m\u001b[0m\n",
      "\u001b[1;32mC:\\Anaconda3\\lib\\site-packages\\pandas\\core\\ops.py\u001b[0m in \u001b[0;36mwrapper\u001b[1;34m(left, right, name, na_op)\u001b[0m\n\u001b[0;32m    737\u001b[0m                 \u001b[0mlvalues\u001b[0m \u001b[1;33m=\u001b[0m \u001b[0mlvalues\u001b[0m\u001b[1;33m.\u001b[0m\u001b[0mvalues\u001b[0m\u001b[1;33m\u001b[0m\u001b[0m\n\u001b[0;32m    738\u001b[0m \u001b[1;33m\u001b[0m\u001b[0m\n\u001b[1;32m--> 739\u001b[1;33m         \u001b[0mresult\u001b[0m \u001b[1;33m=\u001b[0m \u001b[0mwrap_results\u001b[0m\u001b[1;33m(\u001b[0m\u001b[0msafe_na_op\u001b[0m\u001b[1;33m(\u001b[0m\u001b[0mlvalues\u001b[0m\u001b[1;33m,\u001b[0m \u001b[0mrvalues\u001b[0m\u001b[1;33m)\u001b[0m\u001b[1;33m)\u001b[0m\u001b[1;33m\u001b[0m\u001b[0m\n\u001b[0m\u001b[0;32m    740\u001b[0m         return construct_result(\n\u001b[0;32m    741\u001b[0m             \u001b[0mleft\u001b[0m\u001b[1;33m,\u001b[0m\u001b[1;33m\u001b[0m\u001b[0m\n",
      "\u001b[1;32mC:\\Anaconda3\\lib\\site-packages\\pandas\\core\\ops.py\u001b[0m in \u001b[0;36msafe_na_op\u001b[1;34m(lvalues, rvalues)\u001b[0m\n\u001b[0;32m    708\u001b[0m                 \u001b[1;32mif\u001b[0m \u001b[0mis_object_dtype\u001b[0m\u001b[1;33m(\u001b[0m\u001b[0mlvalues\u001b[0m\u001b[1;33m)\u001b[0m\u001b[1;33m:\u001b[0m\u001b[1;33m\u001b[0m\u001b[0m\n\u001b[0;32m    709\u001b[0m                     return libalgos.arrmap_object(lvalues,\n\u001b[1;32m--> 710\u001b[1;33m                                                   lambda x: op(x, rvalues))\n\u001b[0m\u001b[0;32m    711\u001b[0m             \u001b[1;32mraise\u001b[0m\u001b[1;33m\u001b[0m\u001b[0m\n\u001b[0;32m    712\u001b[0m \u001b[1;33m\u001b[0m\u001b[0m\n",
      "\u001b[1;32mpandas\\_libs\\algos_common_helper.pxi\u001b[0m in \u001b[0;36mpandas._libs.algos.arrmap_object\u001b[1;34m()\u001b[0m\n",
      "\u001b[1;32mC:\\Anaconda3\\lib\\site-packages\\pandas\\core\\ops.py\u001b[0m in \u001b[0;36m<lambda>\u001b[1;34m(x)\u001b[0m\n\u001b[0;32m    708\u001b[0m                 \u001b[1;32mif\u001b[0m \u001b[0mis_object_dtype\u001b[0m\u001b[1;33m(\u001b[0m\u001b[0mlvalues\u001b[0m\u001b[1;33m)\u001b[0m\u001b[1;33m:\u001b[0m\u001b[1;33m\u001b[0m\u001b[0m\n\u001b[0;32m    709\u001b[0m                     return libalgos.arrmap_object(lvalues,\n\u001b[1;32m--> 710\u001b[1;33m                                                   lambda x: op(x, rvalues))\n\u001b[0m\u001b[0;32m    711\u001b[0m             \u001b[1;32mraise\u001b[0m\u001b[1;33m\u001b[0m\u001b[0m\n\u001b[0;32m    712\u001b[0m \u001b[1;33m\u001b[0m\u001b[0m\n",
      "\u001b[1;31mTypeError\u001b[0m: unsupported operand type(s) for /: 'str' and 'int'"
     ]
    }
   ],
   "source": [
    "series_normalized = series_custom/20\n",
    "print(series_normalized)"
   ]
  },
  {
   "cell_type": "code",
   "execution_count": null,
   "metadata": {
    "collapsed": true
   },
   "outputs": [],
   "source": []
  }
 ],
 "metadata": {
  "kernelspec": {
   "display_name": "Python 3",
   "language": "python",
   "name": "python3"
  },
  "language_info": {
   "codemirror_mode": {
    "name": "ipython",
    "version": 3
   },
   "file_extension": ".py",
   "mimetype": "text/x-python",
   "name": "python",
   "nbconvert_exporter": "python",
   "pygments_lexer": "ipython3",
   "version": "3.6.1"
  }
 },
 "nbformat": 4,
 "nbformat_minor": 2
}
